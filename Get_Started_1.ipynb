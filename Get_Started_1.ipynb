{
 "cells": [
  {
   "cell_type": "code",
   "execution_count": 33,
   "id": "50bf60b4-8a49-4bce-bdfc-a150f968036e",
   "metadata": {},
   "outputs": [],
   "source": [
    "from langchain.agents import AgentExecutor, create_tool_calling_agent\n",
    "from langchain_core.runnables import RunnablePassthrough,RunnableLambda, Runnable, RunnableParallel,RunnableConfig\n",
    "from langchain_core.messages import AIMessage,HumanMessage\n",
    "from dotenv import load_dotenv,find_dotenv\n",
    "from langchain_google_genai import ChatGoogleGenerativeAI\n",
    "from langchain_openai import ChatOpenAI\n",
    "from langchain.tools import tool\n",
    "from langchain_core.prompts import ChatPromptTemplate,SystemMessagePromptTemplate, HumanMessagePromptTemplate\n",
    "from langchain_core.output_parsers import JsonOutputParser\n",
    "from operator import itemgetter\n",
    "from langchain.embeddings import SentenceTransformerEmbeddings\n",
    "import json\n",
    "from langchain_core.output_parsers import StrOutputParser\n",
    "from langchain_community.vectorstores import FAISS,Chroma\n",
    "from operator import itemgetter\n",
    "import time"
   ]
  },
  {
   "cell_type": "code",
   "execution_count": 34,
   "id": "c40a5a38-2bd3-4bfd-9fd8-1b4249b7ca1d",
   "metadata": {},
   "outputs": [
    {
     "data": {
      "text/plain": [
       "True"
      ]
     },
     "execution_count": 34,
     "metadata": {},
     "output_type": "execute_result"
    }
   ],
   "source": [
    "load_dotenv(find_dotenv(\"../.env\"))"
   ]
  },
  {
   "cell_type": "code",
   "execution_count": 35,
   "id": "6ca20779-e3f3-4eda-83d5-daa70eb57157",
   "metadata": {},
   "outputs": [],
   "source": [
    "llm=ChatGoogleGenerativeAI(model=\"gemini-2.0-flash-001\")\n",
    "# llm=ChatOpenAI(model=\"gpt-3.5-turbo\")"
   ]
  },
  {
   "cell_type": "code",
   "execution_count": 36,
   "id": "13d9cd6e-e56e-443d-af28-c31e9bbff293",
   "metadata": {},
   "outputs": [],
   "source": [
    "prompt=ChatPromptTemplate.from_template(\n",
    "    template=\"Tell me a Short joke about {topic}\"\n",
    ")"
   ]
  },
  {
   "cell_type": "code",
   "execution_count": 37,
   "id": "aadb410d-d800-47ae-a9a0-04be05826c73",
   "metadata": {},
   "outputs": [],
   "source": [
    "outParser=StrOutputParser()"
   ]
  },
  {
   "cell_type": "code",
   "execution_count": 38,
   "id": "e0a41807-0f89-441d-8764-8e83dd7572ab",
   "metadata": {},
   "outputs": [],
   "source": [
    "chain=prompt|llm|StrOutputParser()"
   ]
  },
  {
   "cell_type": "code",
   "execution_count": 39,
   "id": "a5972825-bcb3-4163-b237-c5ecc018dc11",
   "metadata": {},
   "outputs": [],
   "source": [
    "question={\"topic\":\"Virat Kohli\"}"
   ]
  },
  {
   "cell_type": "code",
   "execution_count": 40,
   "id": "26ee9f2d-c4e2-49de-afb3-9f116b4b8470",
   "metadata": {},
   "outputs": [
    {
     "data": {
      "text/plain": [
       "'Why was Virat Kohli bad at hide-and-seek?\\n\\nBecause every time he hid, the camera found him!'"
      ]
     },
     "execution_count": 40,
     "metadata": {},
     "output_type": "execute_result"
    }
   ],
   "source": [
    "chain.invoke(input=question)"
   ]
  },
  {
   "cell_type": "markdown",
   "id": "4fd07b29-d222-4f86-b98c-d8b65d5cd4e2",
   "metadata": {},
   "source": [
    "<h3>Prompt</h3>"
   ]
  },
  {
   "cell_type": "code",
   "execution_count": 41,
   "id": "3fdf0379-1716-4bb2-ba2c-47fb1517f2b2",
   "metadata": {},
   "outputs": [
    {
     "data": {
      "text/plain": [
       "ChatPromptValue(messages=[HumanMessage(content='Tell me a Short joke about Virat Kohli', additional_kwargs={}, response_metadata={})])"
      ]
     },
     "execution_count": 41,
     "metadata": {},
     "output_type": "execute_result"
    }
   ],
   "source": [
    "promptValue=prompt.invoke(input=question)\n",
    "promptValue"
   ]
  },
  {
   "cell_type": "code",
   "execution_count": 42,
   "id": "bda708cf-db98-4324-9c28-dabe634f4e46",
   "metadata": {},
   "outputs": [
    {
     "data": {
      "text/plain": [
       "[HumanMessage(content='Tell me a Short joke about Virat Kohli', additional_kwargs={}, response_metadata={})]"
      ]
     },
     "execution_count": 42,
     "metadata": {},
     "output_type": "execute_result"
    }
   ],
   "source": [
    "promptValue.to_messages()"
   ]
  },
  {
   "cell_type": "code",
   "execution_count": 43,
   "id": "fde623c6-6341-41d8-a2dd-61a6e3bdd267",
   "metadata": {},
   "outputs": [
    {
     "data": {
      "text/plain": [
       "'Human: Tell me a Short joke about Virat Kohli'"
      ]
     },
     "execution_count": 43,
     "metadata": {},
     "output_type": "execute_result"
    }
   ],
   "source": [
    "promptValue.to_string()"
   ]
  },
  {
   "cell_type": "code",
   "execution_count": 44,
   "id": "0c996274-3ea5-4f67-9bcb-42e07dd81918",
   "metadata": {},
   "outputs": [
    {
     "data": {
      "text/plain": [
       "{'lc': 1,\n",
       " 'type': 'constructor',\n",
       " 'id': ['langchain', 'prompts', 'chat', 'ChatPromptValue'],\n",
       " 'kwargs': {'messages': [HumanMessage(content='Tell me a Short joke about Virat Kohli', additional_kwargs={}, response_metadata={})]}}"
      ]
     },
     "execution_count": 44,
     "metadata": {},
     "output_type": "execute_result"
    }
   ],
   "source": [
    "promptValue.to_json()"
   ]
  },
  {
   "cell_type": "markdown",
   "id": "62880783-eec4-4db9-b842-a1b9a0f51408",
   "metadata": {},
   "source": [
    "<h3>Model</h3>"
   ]
  },
  {
   "cell_type": "code",
   "execution_count": 45,
   "id": "acc404db-05b5-4207-86f4-3c0931b13d0c",
   "metadata": {},
   "outputs": [
    {
     "data": {
      "text/plain": [
       "AIMessage(content='Why did Virat Kohli bring a ladder to the cricket match?\\n\\nBecause he wanted to reach the next level of his batting!', additional_kwargs={}, response_metadata={'prompt_feedback': {'block_reason': 0, 'safety_ratings': []}, 'finish_reason': 'STOP', 'model_name': 'gemini-2.0-flash-001', 'safety_ratings': []}, id='run-d3df0dfa-de04-49c2-b775-99a52294317d-0', usage_metadata={'input_tokens': 8, 'output_tokens': 26, 'total_tokens': 34, 'input_token_details': {'cache_read': 0}})"
      ]
     },
     "execution_count": 45,
     "metadata": {},
     "output_type": "execute_result"
    }
   ],
   "source": [
    "message=llm.invoke(input=promptValue)\n",
    "message"
   ]
  },
  {
   "cell_type": "code",
   "execution_count": 46,
   "id": "dd271da0",
   "metadata": {},
   "outputs": [
    {
     "data": {
      "text/plain": [
       "AIMessage(content='Why did Virat Kohli bring a ladder to the cricket match?\\n\\nBecause he heard the score needed to go higher!', additional_kwargs={}, response_metadata={'prompt_feedback': {'block_reason': 0, 'safety_ratings': []}, 'finish_reason': 'STOP', 'model_name': 'gemini-2.0-flash-001', 'safety_ratings': []}, id='run-04a07236-3e5b-41e1-86f8-b6fad0b85b2c-0', usage_metadata={'input_tokens': 8, 'output_tokens': 24, 'total_tokens': 32, 'input_token_details': {'cache_read': 0}})"
      ]
     },
     "execution_count": 46,
     "metadata": {},
     "output_type": "execute_result"
    }
   ],
   "source": [
    "message=llm.invoke(input=promptValue.to_messages())\n",
    "message"
   ]
  },
  {
   "cell_type": "code",
   "execution_count": 50,
   "id": "20ae09b1",
   "metadata": {},
   "outputs": [
    {
     "data": {
      "text/plain": [
       "AIMessage(content='Why did Virat Kohli bring a ladder to the cricket match?\\n\\nBecause he wanted to raise the bar!', additional_kwargs={}, response_metadata={'prompt_feedback': {'block_reason': 0, 'safety_ratings': []}, 'finish_reason': 'STOP', 'model_name': 'gemini-2.0-flash-001', 'safety_ratings': []}, id='run-0e013257-d923-48b4-ab69-f2c658d1ec18-0', usage_metadata={'input_tokens': 10, 'output_tokens': 22, 'total_tokens': 32, 'input_token_details': {'cache_read': 0}})"
      ]
     },
     "execution_count": 50,
     "metadata": {},
     "output_type": "execute_result"
    }
   ],
   "source": [
    "message=llm.invoke(input=promptValue.to_string())\n",
    "message"
   ]
  },
  {
   "cell_type": "markdown",
   "id": "82b6750d-d00f-498b-b270-cb30061f7682",
   "metadata": {},
   "source": [
    "<h3> Output Parser </h3>"
   ]
  },
  {
   "cell_type": "code",
   "execution_count": 51,
   "id": "ac598289-3c07-449c-8d92-ba28d8edb0d6",
   "metadata": {},
   "outputs": [
    {
     "data": {
      "text/plain": [
       "'Why did Virat Kohli bring a ladder to the cricket match?\\n\\nBecause he wanted to raise the bar!'"
      ]
     },
     "execution_count": 51,
     "metadata": {},
     "output_type": "execute_result"
    }
   ],
   "source": [
    "outParser.invoke(input=message)"
   ]
  },
  {
   "cell_type": "markdown",
   "id": "42af91b7-0e1f-48e3-9bf0-1b3b1303e047",
   "metadata": {},
   "source": [
    "<h3>RAG Example</h3>"
   ]
  },
  {
   "cell_type": "code",
   "execution_count": 52,
   "id": "f03f50bb-2563-45e1-a772-4c8d9b1d5894",
   "metadata": {},
   "outputs": [
    {
     "name": "stderr",
     "output_type": "stream",
     "text": [
      "C:\\Users\\MSI\\AppData\\Local\\Temp\\ipykernel_20432\\3013256437.py:1: LangChainDeprecationWarning: The class `HuggingFaceEmbeddings` was deprecated in LangChain 0.2.2 and will be removed in 1.0. An updated version of the class exists in the :class:`~langchain-huggingface package and should be used instead. To use it run `pip install -U :class:`~langchain-huggingface` and import as `from :class:`~langchain_huggingface import HuggingFaceEmbeddings``.\n",
      "  embeddings=SentenceTransformerEmbeddings()\n",
      "C:\\Users\\MSI\\AppData\\Local\\Temp\\ipykernel_20432\\3013256437.py:1: LangChainDeprecationWarning: Default values for HuggingFaceEmbeddings.model_name were deprecated in LangChain 0.2.16 and will be removed in 0.4.0. Explicitly pass a model_name to the HuggingFaceEmbeddings constructor instead.\n",
      "  embeddings=SentenceTransformerEmbeddings()\n",
      "c:\\Users\\MSI\\anaconda3\\envs\\lcnenv\\Lib\\site-packages\\tqdm\\auto.py:21: TqdmWarning: IProgress not found. Please update jupyter and ipywidgets. See https://ipywidgets.readthedocs.io/en/stable/user_install.html\n",
      "  from .autonotebook import tqdm as notebook_tqdm\n"
     ]
    }
   ],
   "source": [
    "embeddings=SentenceTransformerEmbeddings() "
   ]
  },
  {
   "cell_type": "code",
   "execution_count": 54,
   "id": "5332f1f8-3465-469e-864c-b7be19bf0cfb",
   "metadata": {},
   "outputs": [],
   "source": [
    "vectorStore=Chroma.from_texts(\n",
    "    texts=[\"Harrison worked at kensho\",\"bears like to eat honey\"],\n",
    "    embedding=embeddings\n",
    ")"
   ]
  },
  {
   "cell_type": "code",
   "execution_count": 55,
   "id": "2c3122a9-572f-4950-823b-2f2948e19178",
   "metadata": {},
   "outputs": [
    {
     "data": {
      "text/plain": [
       "VectorStoreRetriever(tags=['Chroma', 'HuggingFaceEmbeddings'], vectorstore=<langchain_community.vectorstores.chroma.Chroma object at 0x00000170998EF410>, search_kwargs={})"
      ]
     },
     "execution_count": 55,
     "metadata": {},
     "output_type": "execute_result"
    }
   ],
   "source": [
    "vectorStore.as_retriever()"
   ]
  },
  {
   "cell_type": "code",
   "execution_count": 56,
   "id": "995047a3-5f8f-465f-8b14-a704d43c1620",
   "metadata": {},
   "outputs": [],
   "source": [
    "template=\"\"\"\n",
    "    Answer the question based only on the following context:\n",
    "    {context}\n",
    "    Question: {question}\n",
    "\"\"\""
   ]
  },
  {
   "cell_type": "code",
   "execution_count": 57,
   "id": "3bf0360b-0b17-45e4-a9ef-70aff084f1c6",
   "metadata": {},
   "outputs": [],
   "source": [
    "prompt=ChatPromptTemplate.from_template(\n",
    "    template=template)"
   ]
  },
  {
   "cell_type": "code",
   "execution_count": 65,
   "id": "9d93732e",
   "metadata": {},
   "outputs": [
    {
     "data": {
      "text/plain": [
       "[Document(metadata={}, page_content='bears like to eat honey'),\n",
       " Document(metadata={}, page_content='Harrison worked at kensho')]"
      ]
     },
     "execution_count": 65,
     "metadata": {},
     "output_type": "execute_result"
    }
   ],
   "source": [
    "vectorStore.as_retriever().invoke(input=\"Who likes honey?\")"
   ]
  },
  {
   "cell_type": "code",
   "execution_count": 71,
   "id": "65ca45e0",
   "metadata": {},
   "outputs": [
    {
     "data": {
      "text/plain": [
       "{'context': 'How are you doing?'}"
      ]
     },
     "execution_count": 71,
     "metadata": {},
     "output_type": "execute_result"
    }
   ],
   "source": [
    "RunnablePassthrough().invoke({\"context\":\"How are you doing?\"})"
   ]
  },
  {
   "cell_type": "code",
   "execution_count": 61,
   "id": "f43aa126-f251-43d0-a8ab-75ad28f94566",
   "metadata": {},
   "outputs": [],
   "source": [
    "setupAndRetrieval=RunnableParallel(\n",
    "    {\n",
    "        \"context\":vectorStore.as_retriever(),\n",
    "        \"question\":RunnablePassthrough()\n",
    "    }\n",
    ")"
   ]
  },
  {
   "cell_type": "code",
   "execution_count": 62,
   "id": "70be4d91-f707-40d5-bc58-6483368825cf",
   "metadata": {},
   "outputs": [],
   "source": [
    "chain=setupAndRetrieval|prompt|llm|outParser"
   ]
  },
  {
   "cell_type": "code",
   "execution_count": 63,
   "id": "425c385c-29c5-4131-bc6b-04d29de5f656",
   "metadata": {},
   "outputs": [],
   "source": [
    "question=\"Who worked at Kensho?\""
   ]
  },
  {
   "cell_type": "code",
   "execution_count": 64,
   "id": "f8b94012-182d-4d85-a88c-33cd55976a3f",
   "metadata": {},
   "outputs": [
    {
     "name": "stdout",
     "output_type": "stream",
     "text": [
      "Time Taken: 0.7396340370178223 seconds\n"
     ]
    }
   ],
   "source": [
    "k=time.time()\n",
    "chain.invoke(input=question)\n",
    "print(f\"Time Taken: {time.time()-k} seconds\")"
   ]
  },
  {
   "cell_type": "markdown",
   "id": "21b95f1a",
   "metadata": {},
   "source": [
    "<h3>Without Using Runnable Parallel </h3>"
   ]
  },
  {
   "cell_type": "code",
   "execution_count": 66,
   "id": "4a01d966",
   "metadata": {},
   "outputs": [],
   "source": [
    "chainTest=RunnablePassthrough.assign(context=itemgetter(\"question\")|vectorStore.as_retriever())|prompt|llm|outParser"
   ]
  },
  {
   "cell_type": "code",
   "execution_count": 67,
   "id": "80f4c68f",
   "metadata": {},
   "outputs": [
    {
     "name": "stdout",
     "output_type": "stream",
     "text": [
      "Time Taken: 0.8226275444030762 seconds\n"
     ]
    }
   ],
   "source": [
    "k=time.time()\n",
    "chainTest.invoke(input={\"question\":question})\n",
    "print(f\"Time Taken: {time.time()-k} seconds\")"
   ]
  },
  {
   "cell_type": "markdown",
   "id": "af1eb3cd-8c07-4e4e-890e-a9d237cb9071",
   "metadata": {},
   "source": [
    "<h3> Retriever Part </h3>"
   ]
  },
  {
   "cell_type": "code",
   "execution_count": 68,
   "id": "7fa32a40-b9a0-4272-96cc-b7584f0bef13",
   "metadata": {},
   "outputs": [
    {
     "data": {
      "text/plain": [
       "[Document(metadata={}, page_content='Harrison worked at kensho'),\n",
       " Document(metadata={}, page_content='bears like to eat honey')]"
      ]
     },
     "execution_count": 68,
     "metadata": {},
     "output_type": "execute_result"
    }
   ],
   "source": [
    "vectorStore.as_retriever().invoke(input=question)"
   ]
  },
  {
   "cell_type": "code",
   "execution_count": 69,
   "id": "be9aa9f8-b2ad-4b62-b180-07276acdb953",
   "metadata": {
    "scrolled": true
   },
   "outputs": [
    {
     "data": {
      "text/plain": [
       "{'context': [Document(metadata={}, page_content='Harrison worked at kensho'),\n",
       "  Document(metadata={}, page_content='bears like to eat honey')],\n",
       " 'question': 'Who worked at Kensho?'}"
      ]
     },
     "execution_count": 69,
     "metadata": {},
     "output_type": "execute_result"
    }
   ],
   "source": [
    "retrievedContent=setupAndRetrieval.invoke(input=question)\n",
    "retrievedContent"
   ]
  },
  {
   "cell_type": "markdown",
   "id": "a5ef37a4-aa2c-40ec-b5d5-e6435ee1cb6c",
   "metadata": {},
   "source": [
    "<h3>Prompt Part</h3>"
   ]
  },
  {
   "cell_type": "code",
   "execution_count": 72,
   "id": "864c3580-f8dc-4c8e-8225-f53cb73887fe",
   "metadata": {},
   "outputs": [
    {
     "data": {
      "text/plain": [
       "ChatPromptValue(messages=[HumanMessage(content=\"\\n    Answer the question based only on the following context:\\n    [Document(metadata={}, page_content='Harrison worked at kensho'), Document(metadata={}, page_content='bears like to eat honey')]\\n    Question: Who worked at Kensho?\\n\", additional_kwargs={}, response_metadata={})])"
      ]
     },
     "execution_count": 72,
     "metadata": {},
     "output_type": "execute_result"
    }
   ],
   "source": [
    "promptValue=prompt.invoke(input=retrievedContent)\n",
    "promptValue"
   ]
  },
  {
   "cell_type": "code",
   "execution_count": 73,
   "id": "b60b25d9-00ec-448e-9081-868841ee71c4",
   "metadata": {},
   "outputs": [
    {
     "data": {
      "text/plain": [
       "[HumanMessage(content=\"\\n    Answer the question based only on the following context:\\n    [Document(metadata={}, page_content='Harrison worked at kensho'), Document(metadata={}, page_content='bears like to eat honey')]\\n    Question: Who worked at Kensho?\\n\", additional_kwargs={}, response_metadata={})]"
      ]
     },
     "execution_count": 73,
     "metadata": {},
     "output_type": "execute_result"
    }
   ],
   "source": [
    "promptValue.to_messages()"
   ]
  },
  {
   "cell_type": "code",
   "execution_count": 74,
   "id": "a99b5e42-fbf5-4ef4-b013-e0c344ce6d48",
   "metadata": {},
   "outputs": [
    {
     "name": "stdout",
     "output_type": "stream",
     "text": [
      "Human: \n",
      "    Answer the question based only on the following context:\n",
      "    [Document(metadata={}, page_content='Harrison worked at kensho'), Document(metadata={}, page_content='bears like to eat honey')]\n",
      "    Question: Who worked at Kensho?\n",
      "\n"
     ]
    }
   ],
   "source": [
    "print(promptValue.to_string())"
   ]
  },
  {
   "cell_type": "markdown",
   "id": "55115c53-c9ca-4023-bcad-ce9a2300513e",
   "metadata": {},
   "source": [
    "<h3> LLM </h3>"
   ]
  },
  {
   "cell_type": "code",
   "execution_count": 75,
   "id": "62475ca5-2c0d-4c97-84b3-546cbe17e0de",
   "metadata": {},
   "outputs": [
    {
     "data": {
      "text/plain": [
       "AIMessage(content='Harrison worked at kensho.', additional_kwargs={}, response_metadata={'prompt_feedback': {'block_reason': 0, 'safety_ratings': []}, 'finish_reason': 'STOP', 'model_name': 'gemini-2.0-flash-001', 'safety_ratings': []}, id='run-0c5bb4c3-97e1-4682-9152-9c4dfb546dd9-0', usage_metadata={'input_tokens': 55, 'output_tokens': 8, 'total_tokens': 63, 'input_token_details': {'cache_read': 0}})"
      ]
     },
     "execution_count": 75,
     "metadata": {},
     "output_type": "execute_result"
    }
   ],
   "source": [
    "message=llm.invoke(input=promptValue)\n",
    "message"
   ]
  },
  {
   "cell_type": "markdown",
   "id": "7422ef06-43f5-41e3-9b84-76b8a06772ad",
   "metadata": {},
   "source": [
    "<h3>Output Parser</h3>"
   ]
  },
  {
   "cell_type": "code",
   "execution_count": 76,
   "id": "f3a10b81-9fea-4410-a33d-7bfa7d6250b4",
   "metadata": {},
   "outputs": [
    {
     "data": {
      "text/plain": [
       "'Harrison worked at kensho.'"
      ]
     },
     "execution_count": 76,
     "metadata": {},
     "output_type": "execute_result"
    }
   ],
   "source": [
    "output=outParser.invoke(input=message)\n",
    "output"
   ]
  }
 ],
 "metadata": {
  "kernelspec": {
   "display_name": "lcnenv",
   "language": "python",
   "name": "python3"
  },
  "language_info": {
   "codemirror_mode": {
    "name": "ipython",
    "version": 3
   },
   "file_extension": ".py",
   "mimetype": "text/x-python",
   "name": "python",
   "nbconvert_exporter": "python",
   "pygments_lexer": "ipython3",
   "version": "3.11.11"
  }
 },
 "nbformat": 4,
 "nbformat_minor": 5
}
