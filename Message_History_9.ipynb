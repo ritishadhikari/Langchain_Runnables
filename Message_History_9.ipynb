{
 "cells": [
  {
   "cell_type": "code",
   "execution_count": 1,
   "id": "7b9a7b7c-f060-4516-9f88-a0e9d62e9bd7",
   "metadata": {},
   "outputs": [],
   "source": [
    "from langchain_core.runnables import RunnablePassthrough,RunnableLambda, Runnable, RunnableParallel,RunnableConfig,RunnableGenerator\n",
    "from langchain_core.messages import AIMessage\n",
    "from dotenv import load_dotenv,find_dotenv\n",
    "from langchain_google_genai import ChatGoogleGenerativeAI\n",
    "from langchain_openai import ChatOpenAI\n",
    "from langchain.tools import tool\n",
    "from langchain.prompts import ChatPromptTemplate,SystemMessagePromptTemplate, HumanMessagePromptTemplate,MessagesPlaceholder\n",
    "from langchain_core.output_parsers import JsonOutputParser,StrOutputParser\n",
    "from operator import itemgetter\n",
    "from langchain.embeddings import SentenceTransformerEmbeddings\n",
    "import json\n",
    "from langchain_community.vectorstores import FAISS,Chroma\n",
    "from operator import itemgetter\n",
    "import time\n",
    "import grandalf\n",
    "from typing import Iterator,List,AsyncIterator\n",
    "from langchain_core.runnables import ConfigurableField,ConfigurableFieldSpec\n",
    "from langchain_community.chat_message_histories import ChatMessageHistory,RedisChatMessageHistory  # new\n",
    "from langchain_core.chat_history import BaseChatMessageHistory  # new\n",
    "from langchain.memory import ConversationBufferMemory\n",
    "from langchain_core.runnables.history import RunnableWithMessageHistory  # new"
   ]
  },
  {
   "cell_type": "code",
   "execution_count": 2,
   "id": "ebaef612-6cae-4498-9d88-62540546682a",
   "metadata": {},
   "outputs": [
    {
     "data": {
      "text/plain": [
       "True"
      ]
     },
     "execution_count": 2,
     "metadata": {},
     "output_type": "execute_result"
    }
   ],
   "source": [
    "load_dotenv(find_dotenv(\"../.env\"))"
   ]
  },
  {
   "cell_type": "code",
   "execution_count": 3,
   "id": "e43478e5-fb16-46cb-a58d-a6ec9b5f19b6",
   "metadata": {},
   "outputs": [],
   "source": [
    "llmGemini=ChatGoogleGenerativeAI(model=\"gemini-2.0-flash-001\")\n",
    "llmGPT=ChatOpenAI(model=\"gpt-4o-mini\")"
   ]
  },
  {
   "cell_type": "code",
   "execution_count": 4,
   "id": "ea506315-245f-4cbc-a2e7-4d13eca607d3",
   "metadata": {},
   "outputs": [],
   "source": [
    "prompt=ChatPromptTemplate.from_messages(\n",
    "    messages=[\n",
    "        SystemMessagePromptTemplate.from_template(\n",
    "            template=\"You're an assistant who's good at {ability}. Respond in 20 words or fewer\"\n",
    "        ),\n",
    "        MessagesPlaceholder(\n",
    "            variable_name=\"history\"\n",
    "        ),\n",
    "        HumanMessagePromptTemplate.from_template(\n",
    "            template=\"{question}\"\n",
    "        )\n",
    "    ]\n",
    ")"
   ]
  },
  {
   "cell_type": "code",
   "execution_count": 6,
   "id": "3f3956e5",
   "metadata": {},
   "outputs": [
    {
     "data": {
      "text/plain": [
       "[SystemMessagePromptTemplate(prompt=PromptTemplate(input_variables=['ability'], input_types={}, partial_variables={}, template=\"You're an assistant who's good at {ability}. Respond in 20 words or fewer\"), additional_kwargs={}),\n",
       " MessagesPlaceholder(variable_name='history'),\n",
       " HumanMessagePromptTemplate(prompt=PromptTemplate(input_variables=['question'], input_types={}, partial_variables={}, template='{question}'), additional_kwargs={})]"
      ]
     },
     "execution_count": 6,
     "metadata": {},
     "output_type": "execute_result"
    }
   ],
   "source": [
    "prompt.messages"
   ]
  },
  {
   "cell_type": "code",
   "execution_count": 7,
   "id": "e080ca7c-fd92-4f2e-b995-dc6bc63fbb4d",
   "metadata": {},
   "outputs": [],
   "source": [
    "chain=prompt|llmGemini"
   ]
  },
  {
   "cell_type": "markdown",
   "id": "dedd6fc8-2216-442c-adf6-20a6bd6428aa",
   "metadata": {},
   "source": [
    "<h3>In Memory Chat Message History </h3>"
   ]
  },
  {
   "cell_type": "code",
   "execution_count": 8,
   "id": "3e7f417b-35d0-42a4-84d5-bd1484645a7a",
   "metadata": {},
   "outputs": [],
   "source": [
    "store={}\n",
    "def getSessionHistory(sessionId:str) -> BaseChatMessageHistory:\n",
    "    if sessionId not in store:\n",
    "        store[sessionId]=ChatMessageHistory()\n",
    "    return store[sessionId]"
   ]
  },
  {
   "cell_type": "code",
   "execution_count": 9,
   "id": "ceeaf0af",
   "metadata": {},
   "outputs": [
    {
     "data": {
      "text/plain": [
       "True"
      ]
     },
     "execution_count": 9,
     "metadata": {},
     "output_type": "execute_result"
    }
   ],
   "source": [
    "isinstance(ChatMessageHistory(),BaseChatMessageHistory)"
   ]
  },
  {
   "cell_type": "code",
   "execution_count": 10,
   "id": "35bb93d8-c47d-4b06-ae21-fa4c3046642a",
   "metadata": {},
   "outputs": [],
   "source": [
    "chainWithMessageHistory=RunnableWithMessageHistory(\n",
    "                            chain,\n",
    "                            get_session_history=getSessionHistory,\n",
    "                            input_messages_key=\"question\",\n",
    "                            history_messages_key=\"history\"\n",
    "                        )"
   ]
  },
  {
   "cell_type": "code",
   "execution_count": 11,
   "id": "e197a63e-abd1-4743-bf67-8debdb7d6e24",
   "metadata": {},
   "outputs": [],
   "source": [
    "sessionID=\"ritish\""
   ]
  },
  {
   "cell_type": "code",
   "execution_count": 12,
   "id": "d6fbb8fb-c189-418b-838b-30831b9b28bc",
   "metadata": {},
   "outputs": [
    {
     "data": {
      "text/plain": [
       "AIMessage(content='Vatican City, an independent city-state enclaved within Rome, Italy, is the smallest country in the world.', additional_kwargs={}, response_metadata={'prompt_feedback': {'block_reason': 0, 'safety_ratings': []}, 'finish_reason': 'STOP', 'model_name': 'gemini-2.0-flash-001', 'safety_ratings': []}, id='run-33f6ee80-62bf-4aea-9465-da70f3307b84-0', usage_metadata={'input_tokens': 29, 'output_tokens': 26, 'total_tokens': 55, 'input_token_details': {'cache_read': 0}})"
      ]
     },
     "execution_count": 12,
     "metadata": {},
     "output_type": "execute_result"
    }
   ],
   "source": [
    "chainWithMessageHistory.invoke(\n",
    "    input={\"ability\":\"geography\",\n",
    "           \"question\":\"Which is the smallest country in the world?\"},\n",
    "    config={\"configurable\":{\"session_id\":sessionID}}\n",
    "    )"
   ]
  },
  {
   "cell_type": "code",
   "execution_count": 13,
   "id": "dc174412-5616-4254-a0d1-87bc30a2b859",
   "metadata": {},
   "outputs": [
    {
     "data": {
      "text/plain": [
       "AIMessage(content='Vatican City is located within Rome, Italy.', additional_kwargs={}, response_metadata={'prompt_feedback': {'block_reason': 0, 'safety_ratings': []}, 'finish_reason': 'STOP', 'model_name': 'gemini-2.0-flash-001', 'safety_ratings': []}, id='run-17514669-4c5f-495f-a0bb-4aa144a5bc9c-0', usage_metadata={'input_tokens': 59, 'output_tokens': 11, 'total_tokens': 70, 'input_token_details': {'cache_read': 0}})"
      ]
     },
     "execution_count": 13,
     "metadata": {},
     "output_type": "execute_result"
    }
   ],
   "source": [
    "# Remembers\n",
    "chainWithMessageHistory.invoke(\n",
    "    input={\"ability\":\"Geography\",\n",
    "           \"question\":\"Where is it located?\"},\n",
    "    config={\"configurable\":{\"session_id\":sessionID}}\n",
    "    )"
   ]
  },
  {
   "cell_type": "code",
   "execution_count": 14,
   "id": "43814288-465e-423e-a5b9-7f9701547e95",
   "metadata": {},
   "outputs": [
    {
     "data": {
      "text/plain": [
       "{'ritish': InMemoryChatMessageHistory(messages=[HumanMessage(content='Which is the smallest country in the world?', additional_kwargs={}, response_metadata={}), AIMessage(content='Vatican City, an independent city-state enclaved within Rome, Italy, is the smallest country in the world.', additional_kwargs={}, response_metadata={'prompt_feedback': {'block_reason': 0, 'safety_ratings': []}, 'finish_reason': 'STOP', 'model_name': 'gemini-2.0-flash-001', 'safety_ratings': []}, id='run-33f6ee80-62bf-4aea-9465-da70f3307b84-0', usage_metadata={'input_tokens': 29, 'output_tokens': 26, 'total_tokens': 55, 'input_token_details': {'cache_read': 0}}), HumanMessage(content='Where is it located?', additional_kwargs={}, response_metadata={}), AIMessage(content='Vatican City is located within Rome, Italy.', additional_kwargs={}, response_metadata={'prompt_feedback': {'block_reason': 0, 'safety_ratings': []}, 'finish_reason': 'STOP', 'model_name': 'gemini-2.0-flash-001', 'safety_ratings': []}, id='run-17514669-4c5f-495f-a0bb-4aa144a5bc9c-0', usage_metadata={'input_tokens': 59, 'output_tokens': 11, 'total_tokens': 70, 'input_token_details': {'cache_read': 0}})])}"
      ]
     },
     "execution_count": 14,
     "metadata": {},
     "output_type": "execute_result"
    }
   ],
   "source": [
    "store"
   ]
  },
  {
   "cell_type": "code",
   "execution_count": 15,
   "id": "e35aecb7-ffe3-49f3-a4eb-caf4259adcbe",
   "metadata": {},
   "outputs": [
    {
     "data": {
      "text/plain": [
       "InMemoryChatMessageHistory(messages=[HumanMessage(content='Which is the smallest country in the world?', additional_kwargs={}, response_metadata={}), AIMessage(content='Vatican City, an independent city-state enclaved within Rome, Italy, is the smallest country in the world.', additional_kwargs={}, response_metadata={'prompt_feedback': {'block_reason': 0, 'safety_ratings': []}, 'finish_reason': 'STOP', 'model_name': 'gemini-2.0-flash-001', 'safety_ratings': []}, id='run-33f6ee80-62bf-4aea-9465-da70f3307b84-0', usage_metadata={'input_tokens': 29, 'output_tokens': 26, 'total_tokens': 55, 'input_token_details': {'cache_read': 0}}), HumanMessage(content='Where is it located?', additional_kwargs={}, response_metadata={}), AIMessage(content='Vatican City is located within Rome, Italy.', additional_kwargs={}, response_metadata={'prompt_feedback': {'block_reason': 0, 'safety_ratings': []}, 'finish_reason': 'STOP', 'model_name': 'gemini-2.0-flash-001', 'safety_ratings': []}, id='run-17514669-4c5f-495f-a0bb-4aa144a5bc9c-0', usage_metadata={'input_tokens': 59, 'output_tokens': 11, 'total_tokens': 70, 'input_token_details': {'cache_read': 0}})])"
      ]
     },
     "execution_count": 15,
     "metadata": {},
     "output_type": "execute_result"
    }
   ],
   "source": [
    "store['ritish']"
   ]
  },
  {
   "cell_type": "code",
   "execution_count": 16,
   "id": "eec4a4ca-2a8a-4153-bf3a-28caad36fa47",
   "metadata": {},
   "outputs": [
    {
     "data": {
      "text/plain": [
       "AIMessage(content='Please provide more context! I need to know what \"it\" refers to in order to tell you its location.', additional_kwargs={}, response_metadata={'prompt_feedback': {'block_reason': 0, 'safety_ratings': []}, 'finish_reason': 'STOP', 'model_name': 'gemini-2.0-flash-001', 'safety_ratings': []}, id='run-46dd81f1-4c22-4e8b-b884-a4bcf0bbd33e-0', usage_metadata={'input_tokens': 25, 'output_tokens': 24, 'total_tokens': 49, 'input_token_details': {'cache_read': 0}})"
      ]
     },
     "execution_count": 16,
     "metadata": {},
     "output_type": "execute_result"
    }
   ],
   "source": [
    "# Will not remember due to different sessionID\n",
    "chainWithMessageHistory.invoke(\n",
    "    input={\"ability\":\"What?\",\n",
    "           \"question\":\"Where is it located?\"},\n",
    "    config={\"configurable\":{\"session_id\":\"Tania\"}}\n",
    "    )"
   ]
  },
  {
   "cell_type": "markdown",
   "id": "7dce0ac4-c94a-4927-b500-ba29817cd0b2",
   "metadata": {},
   "source": [
    "<h3> Using Configurable Field Spec to include two parameters: userID and conversationID </h3> "
   ]
  },
  {
   "cell_type": "code",
   "execution_count": 17,
   "id": "81fcfe82-d288-4483-b006-f2b5fc48e160",
   "metadata": {},
   "outputs": [],
   "source": [
    "store={}\n",
    "def getSessionHistory(userID:str, conversationID:str) -> BaseChatMessageHistory:\n",
    "    if (userID,conversationID) not in store:\n",
    "        store[(userID,conversationID)]=ChatMessageHistory()\n",
    "    return store[(userID,conversationID)]"
   ]
  },
  {
   "cell_type": "code",
   "execution_count": 18,
   "id": "10a89f1c-5dfb-4d9d-b815-4cef3271cc61",
   "metadata": {},
   "outputs": [],
   "source": [
    "chainWithMessageHistory=RunnableWithMessageHistory(\n",
    "                            runnable=chain,\n",
    "                            get_session_history=getSessionHistory,\n",
    "                            input_messages_key=\"question\",\n",
    "                            history_messages_key=\"history\",\n",
    "                            history_factory_config=[\n",
    "                                ConfigurableFieldSpec(\n",
    "                                    id=\"userID\",\n",
    "                                    annotation=str,\n",
    "                                    name=\"User ID\",\n",
    "                                    description=\"Unique Identifier for the User\",\n",
    "                                    default=\"\",\n",
    "                                    is_shared=True\n",
    "                                    ),\n",
    "                                ConfigurableFieldSpec(\n",
    "                                    id=\"conversationID\",\n",
    "                                    annotation=str,\n",
    "                                    name=\"Conversation ID\",\n",
    "                                    description=\"Unique Identifier for the Conversation\",\n",
    "                                    default=\"\",\n",
    "                                    is_shared=True\n",
    "                                    )\n",
    "                            ]\n",
    "                        )"
   ]
  },
  {
   "cell_type": "code",
   "execution_count": 19,
   "id": "7c6068dd-017e-4fe9-b9d9-790dec0a09cc",
   "metadata": {},
   "outputs": [],
   "source": [
    "userID=\"ritish\"\n",
    "conversationID=\"1\""
   ]
  },
  {
   "cell_type": "code",
   "execution_count": 21,
   "id": "863db932-e78e-42d1-a34d-b504aaa2cea1",
   "metadata": {},
   "outputs": [
    {
     "data": {
      "text/plain": [
       "AIMessage(content=\"Vatican City, located within Rome, Italy, is the world's smallest independent country by both area and population.\", additional_kwargs={}, response_metadata={'prompt_feedback': {'block_reason': 0, 'safety_ratings': []}, 'finish_reason': 'STOP', 'model_name': 'gemini-2.0-flash-001', 'safety_ratings': []}, id='run-dd15a86a-101e-4564-a8a7-65a25678a72c-0', usage_metadata={'input_tokens': 63, 'output_tokens': 25, 'total_tokens': 88, 'input_token_details': {'cache_read': 0}})"
      ]
     },
     "execution_count": 21,
     "metadata": {},
     "output_type": "execute_result"
    }
   ],
   "source": [
    "chainWithMessageHistory.invoke(\n",
    "    input={\"ability\":\"geography\",\n",
    "           \"question\":\"Which is the smallest country in the world?\"},\n",
    "    config={\"configurable\":{\"userID\":userID,\"conversationID\":conversationID}}\n",
    "    )"
   ]
  },
  {
   "cell_type": "code",
   "execution_count": 22,
   "id": "83b984a9-4a1a-481a-9721-26cd9896c098",
   "metadata": {},
   "outputs": [
    {
     "data": {
      "text/plain": [
       "AIMessage(content=\"Vatican City is located within the city of Rome, Italy. It's an enclave.\", additional_kwargs={}, response_metadata={'prompt_feedback': {'block_reason': 0, 'safety_ratings': []}, 'finish_reason': 'STOP', 'model_name': 'gemini-2.0-flash-001', 'safety_ratings': []}, id='run-86e79fe8-9cc7-4554-ac00-c68a5b4ed556-0', usage_metadata={'input_tokens': 92, 'output_tokens': 20, 'total_tokens': 112, 'input_token_details': {'cache_read': 0}})"
      ]
     },
     "execution_count": 22,
     "metadata": {},
     "output_type": "execute_result"
    }
   ],
   "source": [
    "# Remembers\n",
    "chainWithMessageHistory.invoke(\n",
    "    input={\"ability\":\"geography\",\n",
    "           \"question\":\"Where is it located?\"},\n",
    "    config={\"configurable\":{\"userID\":userID,\"conversationID\":conversationID}}\n",
    "    )"
   ]
  },
  {
   "cell_type": "code",
   "execution_count": 23,
   "id": "5fc52cb5-df88-4660-85b9-e31a3dc645e3",
   "metadata": {},
   "outputs": [
    {
     "data": {
      "text/plain": [
       "AIMessage(content='Please tell me what place you are asking about! I need a location to give you its area. ', additional_kwargs={}, response_metadata={'prompt_feedback': {'block_reason': 0, 'safety_ratings': []}, 'finish_reason': 'STOP', 'model_name': 'gemini-2.0-flash-001', 'safety_ratings': []}, id='run-c57aee3b-b61e-4523-b460-8e9df3052d08-0', usage_metadata={'input_tokens': 27, 'output_tokens': 22, 'total_tokens': 49, 'input_token_details': {'cache_read': 0}})"
      ]
     },
     "execution_count": 23,
     "metadata": {},
     "output_type": "execute_result"
    }
   ],
   "source": [
    "# Will not remember due to different conversationID\n",
    "chainWithMessageHistory.invoke(\n",
    "    input={\"ability\":\"geography\",\n",
    "           \"question\":\"What is it's area?\"},\n",
    "    config={\"configurable\":{\"userID\":userID,\"conversationID\":\"2\"}}\n",
    "    )"
   ]
  },
  {
   "cell_type": "markdown",
   "id": "dedd0829-7661-4a32-a679-7bea7fde890a",
   "metadata": {},
   "source": [
    "<h3>Use with Redis</h3>"
   ]
  },
  {
   "cell_type": "code",
   "execution_count": 24,
   "id": "827dcc64-0f12-4d40-89be-aef89f9c4792",
   "metadata": {},
   "outputs": [],
   "source": [
    "REDIS_URL=\"redis://localhost:6379/0\""
   ]
  },
  {
   "cell_type": "code",
   "execution_count": 25,
   "id": "e9b988c5-fcfd-40f7-aad8-77aa45a4d1ca",
   "metadata": {},
   "outputs": [],
   "source": [
    "def getMessageHistory(sessionID:str) -> RedisChatMessageHistory:\n",
    "    return RedisChatMessageHistory(session_id=sessionID,url=REDIS_URL)"
   ]
  },
  {
   "cell_type": "code",
   "execution_count": 26,
   "id": "cd90adb2-77bb-4f35-9782-2dc6e2d2a3de",
   "metadata": {},
   "outputs": [],
   "source": [
    "chainWithMessageHistoryRedis=RunnableWithMessageHistory(\n",
    "    runnable=chain,\n",
    "    get_session_history=getMessageHistory,\n",
    "    input_messages_key=\"question\",\n",
    "    history_messages_key=\"history\"\n",
    ")"
   ]
  },
  {
   "cell_type": "code",
   "execution_count": 28,
   "id": "88220937-31a7-47e6-935f-1d5ba76876ec",
   "metadata": {},
   "outputs": [
    {
     "data": {
      "text/plain": [
       "AIMessage(content='Vatican City, an independent city-state enclaved within Rome, Italy, is the smallest country in the world.', additional_kwargs={}, response_metadata={'prompt_feedback': {'block_reason': 0, 'safety_ratings': []}, 'finish_reason': 'STOP', 'model_name': 'gemini-2.0-flash-001', 'safety_ratings': []}, id='run-c08601d0-388e-4c21-89a0-ff49459e8451-0', usage_metadata={'input_tokens': 29, 'output_tokens': 26, 'total_tokens': 55, 'input_token_details': {'cache_read': 0}})"
      ]
     },
     "execution_count": 28,
     "metadata": {},
     "output_type": "execute_result"
    }
   ],
   "source": [
    "chainWithMessageHistoryRedis.invoke(\n",
    "    input={\"ability\":\"geography\",\n",
    "           \"question\":\"Which is the smallest country in the world?\"},\n",
    "    config={\"configurable\":{\"session_id\":sessionID}}\n",
    "    )"
   ]
  },
  {
   "cell_type": "code",
   "execution_count": 29,
   "id": "9e68f8fe-500e-440f-93e0-6fa6c23c379e",
   "metadata": {},
   "outputs": [
    {
     "data": {
      "text/plain": [
       "AIMessage(content='Vatican City is located within Rome, Italy.', additional_kwargs={}, response_metadata={'prompt_feedback': {'block_reason': 0, 'safety_ratings': []}, 'finish_reason': 'STOP', 'model_name': 'gemini-2.0-flash-001', 'safety_ratings': []}, id='run-62b382ee-87ea-4a43-a22c-85d45c1a0cdc-0', usage_metadata={'input_tokens': 59, 'output_tokens': 11, 'total_tokens': 70, 'input_token_details': {'cache_read': 0}})"
      ]
     },
     "execution_count": 29,
     "metadata": {},
     "output_type": "execute_result"
    }
   ],
   "source": [
    "# Remembers\n",
    "chainWithMessageHistoryRedis.invoke(\n",
    "    input={\"ability\":\"geography\",\n",
    "           \"question\":\"Where is it located?\"},\n",
    "    config={\"configurable\":{\"session_id\":sessionID}}\n",
    "    )"
   ]
  },
  {
   "cell_type": "code",
   "execution_count": 30,
   "id": "e4e355fc-277a-418d-ad88-5b2cfe88c896",
   "metadata": {},
   "outputs": [
    {
     "data": {
      "text/plain": [
       "AIMessage(content='To answer that, I need to know what \"it\" refers to! Please provide more context. ', additional_kwargs={}, response_metadata={'prompt_feedback': {'block_reason': 0, 'safety_ratings': []}, 'finish_reason': 'STOP', 'model_name': 'gemini-2.0-flash-001', 'safety_ratings': []}, id='run-0b92f900-e43a-4f9e-97a8-d80942f44a14-0', usage_metadata={'input_tokens': 25, 'output_tokens': 22, 'total_tokens': 47, 'input_token_details': {'cache_read': 0}})"
      ]
     },
     "execution_count": 30,
     "metadata": {},
     "output_type": "execute_result"
    }
   ],
   "source": [
    "# Will not remember due to different sessionID\n",
    "chainWithMessageHistoryRedis.invoke(\n",
    "    input={\"ability\":\"geography?\",\n",
    "           \"question\":\"Where is it located?\"},\n",
    "    config={\"configurable\":{\"session_id\":\"Tania\"}}\n",
    "    )"
   ]
  }
 ],
 "metadata": {
  "kernelspec": {
   "display_name": "lcnenv",
   "language": "python",
   "name": "python3"
  },
  "language_info": {
   "codemirror_mode": {
    "name": "ipython",
    "version": 3
   },
   "file_extension": ".py",
   "mimetype": "text/x-python",
   "name": "python",
   "nbconvert_exporter": "python",
   "pygments_lexer": "ipython3",
   "version": "3.11.11"
  }
 },
 "nbformat": 4,
 "nbformat_minor": 5
}
