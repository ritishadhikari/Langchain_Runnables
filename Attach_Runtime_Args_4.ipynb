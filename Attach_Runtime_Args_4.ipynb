{
 "cells": [
  {
   "cell_type": "code",
   "execution_count": 4,
   "id": "8eea44e1-2a02-4d66-83fb-e16bc0e9f634",
   "metadata": {},
   "outputs": [],
   "source": [
    "from langchain.agents import AgentExecutor, create_tool_calling_agent\n",
    "from langchain_core.runnables import RunnablePassthrough,RunnableLambda, Runnable, RunnableParallel,RunnableConfig\n",
    "from langchain_core.messages import AIMessage\n",
    "from dotenv import load_dotenv,find_dotenv\n",
    "from langchain_google_genai import ChatGoogleGenerativeAI\n",
    "from langchain_openai import ChatOpenAI\n",
    "from langchain.tools.render import render_text_description\n",
    "from langchain.tools import tool\n",
    "from langchain_core.prompts import ChatPromptTemplate,SystemMessagePromptTemplate, HumanMessagePromptTemplate\n",
    "from langchain_core.output_parsers import JsonOutputParser\n",
    "from operator import itemgetter\n",
    "from langchain.embeddings import SentenceTransformerEmbeddings\n",
    "import json\n",
    "from langchain_core.output_parsers import StrOutputParser\n",
    "from langchain_community.vectorstores import FAISS,Chroma\n",
    "from operator import itemgetter\n",
    "import time\n",
    "import grandalf"
   ]
  },
  {
   "cell_type": "code",
   "execution_count": 5,
   "id": "5405eba4-d0f1-4d29-aa25-cf6caa5d3db9",
   "metadata": {},
   "outputs": [
    {
     "data": {
      "text/plain": [
       "True"
      ]
     },
     "execution_count": 5,
     "metadata": {},
     "output_type": "execute_result"
    }
   ],
   "source": [
    "load_dotenv(find_dotenv(\"D:\\LLM Courses\\Master Langchain Udemy\\.env\"))"
   ]
  },
  {
   "cell_type": "code",
   "execution_count": 70,
   "id": "ee76c28b-9c87-4f92-ba1c-cade903e4962",
   "metadata": {},
   "outputs": [],
   "source": [
    "# llm=ChatGoogleGenerativeAI(model=\"gemini-1.5-flash\")\n",
    "llm=ChatOpenAI(model=\"gpt-3.5-turbo\")"
   ]
  },
  {
   "cell_type": "code",
   "execution_count": 64,
   "id": "93d27120-e2e6-4bc3-937c-d1b56f91fc4c",
   "metadata": {},
   "outputs": [],
   "source": [
    "prompt=ChatPromptTemplate.from_messages(\n",
    "    messages=[\n",
    "        SystemMessagePromptTemplate.from_template(\n",
    "            template=\"\"\"\n",
    "                Write out the following equation using algebraic symbols then solve it. Use the format\n",
    "                EQUATION:...\n",
    "                SOLUTION:...\n",
    "            \"\"\"\n",
    "        ),\n",
    "        HumanMessagePromptTemplate.from_template(\n",
    "            template=\"{equation_statement}\"\n",
    "        )\n",
    "    ]\n",
    ")"
   ]
  },
  {
   "cell_type": "code",
   "execution_count": 65,
   "id": "2ad53414-b930-4ab3-b69a-e90012ea15bb",
   "metadata": {},
   "outputs": [],
   "source": [
    "statement=\"5 times x plus 3 times y equals 7; Negative 3 times x plus 5 times y equals 23\""
   ]
  },
  {
   "cell_type": "code",
   "execution_count": 26,
   "id": "714cf331-97d2-4fe7-b1f3-b95eaf383d65",
   "metadata": {},
   "outputs": [],
   "source": [
    "\n",
    "chain={\"equation_statement\":RunnablePassthrough()}|prompt|llm|StrOutputParser()"
   ]
  },
  {
   "cell_type": "code",
   "execution_count": 27,
   "id": "dc568302-1000-4f46-9ba3-95fb9e66dbd6",
   "metadata": {
    "scrolled": true
   },
   "outputs": [
    {
     "name": "stdout",
     "output_type": "stream",
     "text": [
      "EQUATION:\n",
      "5x + 3y = 7\n",
      "-3x + 5y = 23\n",
      "\n",
      "SOLUTION:\n",
      "To solve this system of equations, we can use the elimination method. \n",
      "First, let's multiply the first equation by 3 and the second equation by 5 to make the coefficients of y the same:\n",
      "\n",
      "15x + 9y = 21\n",
      "-15x + 25y = 115\n",
      "\n",
      "Now, add the two equations together to eliminate x:\n",
      "\n",
      "15x + 9y + (-15x + 25y) = 21 + 115\n",
      "34y = 136\n",
      "y = 4\n",
      "\n",
      "Now, substitute y = 4 back into the first equation to solve for x:\n",
      "\n",
      "5x + 3(4) = 7\n",
      "5x + 12 = 7\n",
      "5x = -5\n",
      "x = -1\n",
      "\n",
      "Therefore, the solution to the system of equations is x = -1 and y = 4.\n"
     ]
    }
   ],
   "source": [
    "print(chain.invoke(input=statement))"
   ]
  },
  {
   "cell_type": "markdown",
   "id": "7f8ac482-e03e-48ca-9af6-1c8729b3cb76",
   "metadata": {},
   "source": [
    "<h3> Using the Stop Keywords</h3>"
   ]
  },
  {
   "cell_type": "code",
   "execution_count": 28,
   "id": "aef3794f-e99a-47ac-b8ca-d890dfcf9799",
   "metadata": {},
   "outputs": [],
   "source": [
    "chain={\"equation_statement\":RunnablePassthrough()}|prompt|llm.bind(stop=\"SOLUTION\")|StrOutputParser()"
   ]
  },
  {
   "cell_type": "code",
   "execution_count": 29,
   "id": "94513661-ed52-423f-82b3-a614c731cf47",
   "metadata": {},
   "outputs": [
    {
     "name": "stdout",
     "output_type": "stream",
     "text": [
      "EQUATION: \n",
      "5x + 3y = 7  \n",
      "-3x + 5y = 23  \n",
      "\n",
      "\n"
     ]
    }
   ],
   "source": [
    "print(chain.invoke(input=statement))"
   ]
  },
  {
   "cell_type": "code",
   "execution_count": 73,
   "id": "55fb7010-46aa-4404-a6da-90a185f4e5cc",
   "metadata": {},
   "outputs": [],
   "source": [
    "tools=[\n",
    "        {\n",
    "            \"type\":\"function\",\n",
    "            \"function\": \n",
    "                {\n",
    "                    \"name\": \"solver\",\n",
    "                    \"description\":\"Formulates and Solves an Equation\",\n",
    "                    \"parameters\":\n",
    "                        {\n",
    "                            \"type\":\"object\",\n",
    "                            \"properties\":\n",
    "                                {\n",
    "                                    \"equation\":\n",
    "                                        {\n",
    "                                            \"type\":\"string\",\n",
    "                                            \"description\":\"The Algebric Expression of the Equation\"\n",
    "                                        },\n",
    "                                    \"solution\":\n",
    "                                        {\n",
    "                                            \"type\":\"string\",\n",
    "                                            \"description\":\"The Solution to the Equation\"\n",
    "                                        }\n",
    "                                },\n",
    "                            \"required\":[\"equation\",\"solution\"]\n",
    "                        },\n",
    "                },\n",
    "        }\n",
    "    ]"
   ]
  },
  {
   "cell_type": "code",
   "execution_count": 74,
   "id": "c1483e7b-eb1c-43bb-a52e-1b53810ccc47",
   "metadata": {},
   "outputs": [],
   "source": [
    "chain={\"equation_statement\":RunnablePassthrough()}|prompt|llm.bind(tools=tools)"
   ]
  },
  {
   "cell_type": "code",
   "execution_count": 75,
   "id": "2be68b37-14ad-46d0-8ed5-ba33f2d4d600",
   "metadata": {},
   "outputs": [
    {
     "name": "stdout",
     "output_type": "stream",
     "text": [
      "==================================\u001b[1m Ai Message \u001b[0m==================================\n",
      "Tool Calls:\n",
      "  solver (call_HK15bm4VaPt1r9D12EGR1KW4)\n",
      " Call ID: call_HK15bm4VaPt1r9D12EGR1KW4\n",
      "  Args:\n",
      "    equation: 5x + 3y = 7\n",
      "    solution: x = 2, y = 1\n",
      "  solver (call_IEjtIIeaUkucZHdAyjleOVDv)\n",
      " Call ID: call_IEjtIIeaUkucZHdAyjleOVDv\n",
      "  Args:\n",
      "    equation: -3x + 5y = 23\n",
      "    solution: x = -3, y = 4\n"
     ]
    }
   ],
   "source": [
    "chain.invoke(input=statement).pretty_print()"
   ]
  },
  {
   "cell_type": "code",
   "execution_count": null,
   "id": "25744a4a-c5ab-4249-90ef-186d1dd85d62",
   "metadata": {},
   "outputs": [],
   "source": []
  }
 ],
 "metadata": {
  "kernelspec": {
   "display_name": "Python 3 (ipykernel)",
   "language": "python",
   "name": "python3"
  },
  "language_info": {
   "codemirror_mode": {
    "name": "ipython",
    "version": 3
   },
   "file_extension": ".py",
   "mimetype": "text/x-python",
   "name": "python",
   "nbconvert_exporter": "python",
   "pygments_lexer": "ipython3",
   "version": "3.11.9"
  }
 },
 "nbformat": 4,
 "nbformat_minor": 5
}
