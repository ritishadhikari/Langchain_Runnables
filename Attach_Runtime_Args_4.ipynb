{
 "cells": [
  {
   "cell_type": "code",
   "execution_count": 1,
   "id": "8eea44e1-2a02-4d66-83fb-e16bc0e9f634",
   "metadata": {},
   "outputs": [],
   "source": [
    "from langchain.agents import AgentExecutor, create_tool_calling_agent\n",
    "from langchain_core.runnables import RunnablePassthrough,RunnableLambda, Runnable, RunnableParallel,RunnableConfig\n",
    "from langchain_core.messages import AIMessage\n",
    "from dotenv import load_dotenv,find_dotenv\n",
    "from langchain_google_genai import ChatGoogleGenerativeAI\n",
    "from langchain_openai import ChatOpenAI\n",
    "from langchain.tools import tool\n",
    "from langchain_core.prompts import ChatPromptTemplate,SystemMessagePromptTemplate, HumanMessagePromptTemplate\n",
    "from langchain_core.output_parsers import JsonOutputParser\n",
    "from operator import itemgetter\n",
    "from langchain.embeddings import SentenceTransformerEmbeddings\n",
    "import json\n",
    "from langchain_core.output_parsers import StrOutputParser\n",
    "from langchain_community.vectorstores import FAISS,Chroma\n",
    "from operator import itemgetter\n",
    "import time\n",
    "import grandalf"
   ]
  },
  {
   "cell_type": "code",
   "execution_count": 2,
   "id": "5405eba4-d0f1-4d29-aa25-cf6caa5d3db9",
   "metadata": {},
   "outputs": [
    {
     "data": {
      "text/plain": [
       "True"
      ]
     },
     "execution_count": 2,
     "metadata": {},
     "output_type": "execute_result"
    }
   ],
   "source": [
    "load_dotenv(find_dotenv(\"../.env\"))"
   ]
  },
  {
   "cell_type": "code",
   "execution_count": 3,
   "id": "ee76c28b-9c87-4f92-ba1c-cade903e4962",
   "metadata": {},
   "outputs": [],
   "source": [
    "# llm=ChatGoogleGenerativeAI(model=\"gemini-1.5-flash\")\n",
    "llm=ChatOpenAI(model=\"gpt-4o-mini\")"
   ]
  },
  {
   "cell_type": "code",
   "execution_count": 4,
   "id": "93d27120-e2e6-4bc3-937c-d1b56f91fc4c",
   "metadata": {},
   "outputs": [],
   "source": [
    "prompt=ChatPromptTemplate.from_messages(\n",
    "    messages=[\n",
    "        SystemMessagePromptTemplate.from_template(\n",
    "            template=\"\"\"\n",
    "                Write out the following equation using algebric symbols then solve it. Use the format\n",
    "                EQUATION:...\n",
    "                SOLUTION:...\n",
    "            \"\"\"\n",
    "        ),\n",
    "        HumanMessagePromptTemplate.from_template(\n",
    "            template=\"{equation_statement}\"\n",
    "        )\n",
    "    ]\n",
    ")"
   ]
  },
  {
   "cell_type": "code",
   "execution_count": 6,
   "id": "2ad53414-b930-4ab3-b69a-e90012ea15bb",
   "metadata": {},
   "outputs": [],
   "source": [
    "statement=\"5 times x plus 3 times y equals 7; Negative 3 times x plus 5 times y equals 23\""
   ]
  },
  {
   "cell_type": "code",
   "execution_count": 7,
   "id": "714cf331-97d2-4fe7-b1f3-b95eaf383d65",
   "metadata": {},
   "outputs": [],
   "source": [
    "\n",
    "chain={\"equation_statement\":RunnablePassthrough()}|prompt|llm|StrOutputParser()"
   ]
  },
  {
   "cell_type": "code",
   "execution_count": 9,
   "id": "dc568302-1000-4f46-9ba3-95fb9e66dbd6",
   "metadata": {
    "scrolled": true
   },
   "outputs": [
    {
     "name": "stdout",
     "output_type": "stream",
     "text": [
      "EQUATION: \n",
      "1) \\( 5x + 3y = 7 \\)  \n",
      "2) \\( -3x + 5y = 23 \\) \n",
      "\n",
      "To solve the system of equations, we can use the method of substitution or elimination. Here, we will use the elimination method.\n",
      "\n",
      "First, let's multiply the first equation by 3 to align the coefficients for \\( y \\):\n",
      "\n",
      "\\[\n",
      "3(5x + 3y) = 3(7)\n",
      "\\]\n",
      "\\[\n",
      "15x + 9y = 21 \\quad \\text{(Equation 3)}\n",
      "\\]\n",
      "\n",
      "Now, multiply the second equation by 5:\n",
      "\n",
      "\\[\n",
      "5(-3x + 5y) = 5(23)\n",
      "\\]\n",
      "\\[\n",
      "-15x + 25y = 115 \\quad \\text{(Equation 4)}\n",
      "\\]\n",
      "\n",
      "Next, we will add Equation 3 and Equation 4 together:\n",
      "\n",
      "\\[\n",
      "(15x + 9y) + (-15x + 25y) = 21 + 115\n",
      "\\]\n",
      "\\[\n",
      "(15x - 15x) + (9y + 25y) = 136\n",
      "\\]\n",
      "\\[\n",
      "34y = 136\n",
      "\\]\n",
      "\n",
      "Now, solve for \\( y \\):\n",
      "\n",
      "\\[\n",
      "y = \\frac{136}{34} = 4\n",
      "\\]\n",
      "\n",
      "Now that we have \\( y \\), we can substitute it back into one of the original equations to find \\( x \\). We can use Equation 1:\n",
      "\n",
      "\\[\n",
      "5x + 3(4) = 7\n",
      "\\]\n",
      "\\[\n",
      "5x + 12 = 7\n",
      "\\]\n",
      "\\[\n",
      "5x = 7 - 12\n",
      "\\]\n",
      "\\[\n",
      "5x = -5\n",
      "\\]\n",
      "\\[\n",
      "x = \\frac{-5}{5} = -1\n",
      "\\]\n",
      "\n",
      "Thus, the solution to the system of equations is:\n",
      "\n",
      "SOLUTION: \\( x = -1, y = 4 \\)\n"
     ]
    }
   ],
   "source": [
    "print(chain.invoke(input=statement))"
   ]
  },
  {
   "cell_type": "markdown",
   "id": "7f8ac482-e03e-48ca-9af6-1c8729b3cb76",
   "metadata": {},
   "source": [
    "<h3> Using the Stop Keywords</h3>"
   ]
  },
  {
   "cell_type": "code",
   "execution_count": 10,
   "id": "aef3794f-e99a-47ac-b8ca-d890dfcf9799",
   "metadata": {},
   "outputs": [],
   "source": [
    "chain={\"equation_statement\":RunnablePassthrough()}|prompt|llm.bind(stop=\"SOLUTION\")|StrOutputParser()"
   ]
  },
  {
   "cell_type": "code",
   "execution_count": 11,
   "id": "94513661-ed52-423f-82b3-a614c731cf47",
   "metadata": {},
   "outputs": [
    {
     "name": "stdout",
     "output_type": "stream",
     "text": [
      "EQUATION:  \n",
      "1) \\( 5x + 3y = 7 \\)  \n",
      "2) \\( -3x + 5y = 23 \\)  \n",
      "\n",
      "To solve this system of equations, we can use the substitution or elimination method. Here, I'll use the elimination method.\n",
      "\n",
      "First, we can multiply the first equation by 3 to align the coefficients of \\( y \\):\n",
      "\n",
      "\\[\n",
      "3(5x + 3y) = 3 \\times 7 \\\\\n",
      "15x + 9y = 21\n",
      "\\]\n",
      "\n",
      "Now we have:\n",
      "\n",
      "1) \\( 15x + 9y = 21 \\)  \n",
      "2) \\( -3x + 5y = 23 \\)   \n",
      "\n",
      "Next, we can multiply the second equation by 3 to align the \\( x \\) coefficients:\n",
      "\n",
      "\\[\n",
      "3(-3x + 5y) = 3 \\times 23 \\\\\n",
      "-9x + 15y = 69\n",
      "\\]\n",
      "\n",
      "Now, we rewrite the system:\n",
      "\n",
      "1) \\( 15x + 9y = 21 \\)  \n",
      "2) \\( -9x + 15y = 69 \\)  \n",
      "\n",
      "Next, we will eliminate \\( y \\). To do that, we can multiply the first equation by 5 and the second equation by 3:\n",
      "\n",
      "1) \\( 5(15x + 9y) = 5 \\times 21 \\)  \n",
      "\\(- 75x + 45y = 105\\)  \n",
      "\n",
      "2) \\( 3(-9x + 15y) = 3 \\times 69 \\)  \n",
      "\\(- 27x + 45y = 207\\)  \n",
      "\n",
      "Now we have:\n",
      "\n",
      "1) \\( -75x + 45y = 105 \\)  \n",
      "2) \\( -27x + 45y = 207 \\)  \n",
      "\n",
      "Now we can subtract the first equation from the second:\n",
      "\n",
      "\\[\n",
      "(-27x + 45y) - (-75x + 45y) = 207 - 105 \\\\\n",
      "48x = 102 \\\\\n",
      "x = \\frac{102}{48} \\\\\n",
      "x = \\frac{17}{8}\n",
      "\\]\n",
      "\n",
      "Now that we have \\( x \\), we can substitute back into one of the original equations to find \\( y \\). Let's use the first equation:\n",
      "\n",
      "\\[\n",
      "5x + 3y = 7 \\\\\n",
      "5\\left(\\frac{17}{8}\\right) + 3y = 7 \\\\\n",
      "\\frac{85}{8} + 3y = 7 \\\\\n",
      "3y = 7 - \\frac{85}{8}\n",
      "\\]\n",
      "\n",
      "Convert 7 to eighths:\n",
      "\n",
      "\\[\n",
      "7 = \\frac{56}{8} \\\\\n",
      "3y = \\frac{56}{8} - \\frac{85}{8} \\\\\n",
      "3y = \\frac{56 - 85}{8} \\\\\n",
      "3y = \\frac{-29}{8} \\\\\n",
      "y = \\frac{-29}{24}\n",
      "\\]\n",
      "\n",
      "Thus, the solution is:\n",
      "\n",
      "\n"
     ]
    }
   ],
   "source": [
    "print(chain.invoke(input=statement))"
   ]
  },
  {
   "cell_type": "code",
   "execution_count": 12,
   "id": "55fb7010-46aa-4404-a6da-90a185f4e5cc",
   "metadata": {},
   "outputs": [],
   "source": [
    "tools=[\n",
    "        {\n",
    "            \"type\":\"function\",\n",
    "            \"function\": \n",
    "                {\n",
    "                    \"name\": \"solver\",\n",
    "                    \"description\":\"Formulates and Solves an Equation\",\n",
    "                    \"parameters\":\n",
    "                        {\n",
    "                            \"type\":\"object\",\n",
    "                            \"properties\":\n",
    "                                {\n",
    "                                    \"equation\":\n",
    "                                        {\n",
    "                                            \"type\":\"string\",\n",
    "                                            \"description\":\"The Algebric Expression of the Equation\"\n",
    "                                        },\n",
    "                                    \"solution\":\n",
    "                                        {\n",
    "                                            \"type\":\"string\",\n",
    "                                            \"description\":\"The Solution to the Equation\"\n",
    "                                        }\n",
    "                                },\n",
    "                            \"required\":[\"equation\",\"solution\"]\n",
    "                        },\n",
    "                },\n",
    "        }\n",
    "    ]"
   ]
  },
  {
   "cell_type": "code",
   "execution_count": 13,
   "id": "c1483e7b-eb1c-43bb-a52e-1b53810ccc47",
   "metadata": {},
   "outputs": [],
   "source": [
    "chain={\"equation_statement\":RunnablePassthrough()}|prompt|llm.bind(tools=tools)"
   ]
  },
  {
   "cell_type": "code",
   "execution_count": 14,
   "id": "2be68b37-14ad-46d0-8ed5-ba33f2d4d600",
   "metadata": {},
   "outputs": [
    {
     "name": "stdout",
     "output_type": "stream",
     "text": [
      "==================================\u001b[1m Ai Message \u001b[0m==================================\n",
      "Tool Calls:\n",
      "  solver (call_8HKt47JTVufa9ynBzCvKlwoT)\n",
      " Call ID: call_8HKt47JTVufa9ynBzCvKlwoT\n",
      "  Args:\n",
      "    equation: 5x + 3y = 7\n",
      "    solution: x = 2, y = -1\n",
      "  solver (call_yF0KmKMcU3KdOJM2VvJZGSKB)\n",
      " Call ID: call_yF0KmKMcU3KdOJM2VvJZGSKB\n",
      "  Args:\n",
      "    equation: -3x + 5y = 23\n",
      "    solution: x = 2, y = -1\n"
     ]
    }
   ],
   "source": [
    "chain.invoke(input=statement).pretty_print()"
   ]
  },
  {
   "cell_type": "code",
   "execution_count": null,
   "id": "25744a4a-c5ab-4249-90ef-186d1dd85d62",
   "metadata": {},
   "outputs": [],
   "source": []
  }
 ],
 "metadata": {
  "kernelspec": {
   "display_name": "lcnenv",
   "language": "python",
   "name": "python3"
  },
  "language_info": {
   "codemirror_mode": {
    "name": "ipython",
    "version": 3
   },
   "file_extension": ".py",
   "mimetype": "text/x-python",
   "name": "python",
   "nbconvert_exporter": "python",
   "pygments_lexer": "ipython3",
   "version": "3.11.11"
  }
 },
 "nbformat": 4,
 "nbformat_minor": 5
}
