{
 "cells": [
  {
   "cell_type": "code",
   "execution_count": 1,
   "id": "1656aa2c-8e60-4b99-9b91-f71c683c7228",
   "metadata": {},
   "outputs": [
    {
     "name": "stderr",
     "output_type": "stream",
     "text": [
      "C:\\Users\\MSI 1\\.conda\\envs\\oaivenv\\Lib\\site-packages\\tqdm\\auto.py:21: TqdmWarning: IProgress not found. Please update jupyter and ipywidgets. See https://ipywidgets.readthedocs.io/en/stable/user_install.html\n",
      "  from .autonotebook import tqdm as notebook_tqdm\n"
     ]
    }
   ],
   "source": [
    "from langchain.agents import AgentExecutor, create_tool_calling_agent\n",
    "from langchain_core.runnables import RunnablePassthrough,RunnableLambda, Runnable, RunnableParallel,RunnableConfig,RunnableGenerator\n",
    "from langchain_core.messages import AIMessage\n",
    "from dotenv import load_dotenv,find_dotenv\n",
    "from langchain_google_genai import ChatGoogleGenerativeAI\n",
    "from langchain_openai import ChatOpenAI\n",
    "from langchain.tools import tool\n",
    "from langchain_core.prompts import ChatPromptTemplate,SystemMessagePromptTemplate, HumanMessagePromptTemplate\n",
    "from langchain_core.output_parsers import JsonOutputParser\n",
    "from operator import itemgetter\n",
    "from langchain.embeddings import SentenceTransformerEmbeddings\n",
    "import json\n",
    "from langchain_core.output_parsers import StrOutputParser\n",
    "from langchain_community.vectorstores import FAISS,Chroma\n",
    "from operator import itemgetter\n",
    "import time\n",
    "import grandalf\n",
    "from typing import Iterator,List,AsyncIterator"
   ]
  },
  {
   "cell_type": "code",
   "execution_count": 2,
   "id": "d891fb1d-9004-4e16-b68c-4885cee49307",
   "metadata": {},
   "outputs": [
    {
     "data": {
      "text/plain": [
       "True"
      ]
     },
     "execution_count": 2,
     "metadata": {},
     "output_type": "execute_result"
    }
   ],
   "source": [
    "load_dotenv(find_dotenv(\"D:\\LLM Courses\\Master Langchain Udemy\\.env\"))"
   ]
  },
  {
   "cell_type": "code",
   "execution_count": 3,
   "id": "9914f24a-6c77-4ccd-bc2e-50405bd1b6c4",
   "metadata": {},
   "outputs": [],
   "source": [
    "llm=ChatGoogleGenerativeAI(model=\"gemini-1.5-flash\")\n",
    "# llm=ChatOpenAI(model=\"gpt-3.5-turbo\")"
   ]
  },
  {
   "cell_type": "code",
   "execution_count": 4,
   "id": "c169d948-11c4-45d7-8077-32d676072fce",
   "metadata": {},
   "outputs": [],
   "source": [
    "def lengthFunction(text:str):\n",
    "    return len(text)\n",
    "\n",
    "def _multipleLengthFunction(text1:str,text2:str):\n",
    "    return len(text1)*len(text2)\n",
    "\n",
    "def multipleLengthFunction(_dict:dict):\n",
    "    return _multipleLengthFunction(text1=_dict['text1'],text2=_dict['text2'])"
   ]
  },
  {
   "cell_type": "code",
   "execution_count": 5,
   "id": "97d8f34d-afd7-4b7c-b963-96f1ecfaafae",
   "metadata": {},
   "outputs": [],
   "source": [
    "prompt=ChatPromptTemplate.from_template(template=\"What is {a}+{b}\")"
   ]
  },
  {
   "cell_type": "code",
   "execution_count": 6,
   "id": "e756cc06-4da3-48d1-8808-9b5168546306",
   "metadata": {},
   "outputs": [],
   "source": [
    "chain=(\n",
    "    {\n",
    "        \"a\":itemgetter(\"foo\")|RunnableLambda(func=lengthFunction),\n",
    "        \"b\":\n",
    "            {\n",
    "                \"text1\":itemgetter(\"foo\"),\n",
    "                \"text2\":itemgetter(\"bar\")\n",
    "            } | RunnableLambda(func=multipleLengthFunction)\n",
    "    } \n",
    "    | prompt \n",
    "    | llm \n",
    "    | StrOutputParser()\n",
    ")\n"
   ]
  },
  {
   "cell_type": "code",
   "execution_count": 7,
   "id": "dd74dee1-5782-44e7-901b-16d6547f5a14",
   "metadata": {},
   "outputs": [
    {
     "data": {
      "text/plain": [
       "'3 + 12 = 15 \\n'"
      ]
     },
     "execution_count": 7,
     "metadata": {},
     "output_type": "execute_result"
    }
   ],
   "source": [
    "chain.invoke(input={\"foo\":\"bar\",\"bar\":\"ritz\"})"
   ]
  },
  {
   "cell_type": "markdown",
   "id": "4106466f-5ede-4460-bba1-629cde8948c4",
   "metadata": {},
   "source": [
    "<h3>Using Lambda in Streaming</h3>"
   ]
  },
  {
   "cell_type": "code",
   "execution_count": 48,
   "id": "a4e4c81d-326c-482b-a8d8-16b52666ffb1",
   "metadata": {},
   "outputs": [],
   "source": [
    "prompt=ChatPromptTemplate.from_template(\n",
    "    template=\"Write a comma-separated list of 5 animals similar to: {animal}. Do not include numbers or bullets, spaces or newlines\"\n",
    ")"
   ]
  },
  {
   "cell_type": "code",
   "execution_count": 49,
   "id": "29502b18-6252-40ff-b5cb-71ff98e91f7e",
   "metadata": {},
   "outputs": [],
   "source": [
    "strChain={'animal':RunnablePassthrough()} |prompt | llm |StrOutputParser()"
   ]
  },
  {
   "cell_type": "code",
   "execution_count": 50,
   "id": "292d31b4-f44b-40ae-8911-3613e8b74596",
   "metadata": {},
   "outputs": [
    {
     "data": {
      "text/plain": [
       "'Lizard, Worm, Eel, Python, Viper \\n'"
      ]
     },
     "execution_count": 50,
     "metadata": {},
     "output_type": "execute_result"
    }
   ],
   "source": [
    "strChain.invoke(input=\"Snake\")"
   ]
  },
  {
   "cell_type": "code",
   "execution_count": 53,
   "id": "ea43b005-ae42-4de9-8c4d-6d3356f48fe4",
   "metadata": {},
   "outputs": [
    {
     "name": "stdout",
     "output_type": "stream",
     "text": [
      "Lizard, Worm, Eel, Python, Anaconda \n"
     ]
    }
   ],
   "source": [
    "for chunk in strChain.stream(input=\"Snake\"):\n",
    "    print(chunk,flush=True, end=\"\")"
   ]
  },
  {
   "cell_type": "code",
   "execution_count": 89,
   "id": "628cd347-6694-4479-b8ad-5c23e45e67fb",
   "metadata": {},
   "outputs": [],
   "source": [
    "## Custom Parser that splits an iterator of llm tokens into a list of strings separtated by commas\n",
    "\n",
    "def splitIntoList(input:Iterator[str]) -> Iterator[list[str]]:\n",
    "    # Hold Partial Input, until we get a Comma\n",
    "    buffer=\"\"\n",
    "    for chunk in input:\n",
    "        buffer+=chunk\n",
    "        while \",\" in buffer:\n",
    "            commaIndex=buffer.index(\",\")\n",
    "            yield [buffer[:commaIndex].strip()]\n",
    "            if commaIndex==len(buffer)-1:\n",
    "                buffer=\"\"\n",
    "            else:\n",
    "                buffer=buffer[commaIndex+1:].strip()\n",
    "    yield [buffer.strip()]"
   ]
  },
  {
   "cell_type": "code",
   "execution_count": 90,
   "id": "7f7fd1da-8480-46b5-b65f-bb35d3d4a9a2",
   "metadata": {},
   "outputs": [],
   "source": [
    "listChain={'animal':RunnablePassthrough()} |prompt | llm |StrOutputParser()|RunnableLambda(func=splitIntoList)"
   ]
  },
  {
   "cell_type": "code",
   "execution_count": 91,
   "id": "2796457a-8e55-4832-8eae-9984a3467e60",
   "metadata": {},
   "outputs": [
    {
     "name": "stdout",
     "output_type": "stream",
     "text": [
      "['lizard']\n",
      "['worm']\n",
      "['eel']\n",
      "['python']\n",
      "['cobra']\n"
     ]
    }
   ],
   "source": [
    "for chunk in listChain.stream(input=\"snake\"):\n",
    "    print(chunk,flush=True)"
   ]
  },
  {
   "cell_type": "code",
   "execution_count": 92,
   "id": "e0b6ba27-be38-4d75-a228-2c6ad1d8c0ec",
   "metadata": {},
   "outputs": [
    {
     "name": "stdout",
     "output_type": "stream",
     "text": [
      "['spouse']\n",
      "['partner']\n",
      "['significant other']\n",
      "['loved one']\n",
      "['better half']\n"
     ]
    }
   ],
   "source": [
    "for chunk in listChain.stream(input=\"wife\"):\n",
    "    print(chunk,flush=True)"
   ]
  },
  {
   "cell_type": "markdown",
   "id": "8e9653eb-3795-4768-99c6-6c09aede374b",
   "metadata": {},
   "source": [
    "#### Async Iteration"
   ]
  },
  {
   "cell_type": "code",
   "execution_count": 93,
   "id": "f2703043-0329-4d84-b2cb-9869b42fdbff",
   "metadata": {},
   "outputs": [],
   "source": [
    "async def asplitIntoList(input:AsyncIterator[str]) -> AsyncIterator[list[str]]:\n",
    "    # Hold Partial Input, until we get a Comma\n",
    "    buffer=\"\"\n",
    "    async for (chunk) in input:\n",
    "        buffer+=chunk\n",
    "        while \",\" in buffer:\n",
    "            commaIndex=buffer.index(\",\")\n",
    "            yield [buffer[:commaIndex].strip()]\n",
    "            if commaIndex==len(buffer)-1:\n",
    "                buffer=\"\"\n",
    "            else:\n",
    "                buffer=buffer[commaIndex+1:].strip()\n",
    "    yield [buffer.strip()]"
   ]
  },
  {
   "cell_type": "code",
   "execution_count": 74,
   "id": "2ad52284-befe-4d1b-846f-4a5ce555af44",
   "metadata": {},
   "outputs": [],
   "source": [
    "async def asplitIntoList(\n",
    "    input: AsyncIterator[str],\n",
    ") -> AsyncIterator[List[str]]:  # async def\n",
    "    buffer = \"\"\n",
    "    async for (\n",
    "        chunk\n",
    "    ) in input:  # `input` is a `async_generator` object, so use `async for`\n",
    "        buffer += chunk\n",
    "        while \",\" in buffer:\n",
    "            comma_index = buffer.index(\",\")\n",
    "            yield [buffer[:comma_index].strip()]\n",
    "            buffer = buffer[comma_index + 1 :]\n",
    "    yield [buffer.strip()]\n"
   ]
  },
  {
   "cell_type": "code",
   "execution_count": 94,
   "id": "04822e9a-b66d-41d6-9f51-c31aff2b73ef",
   "metadata": {},
   "outputs": [],
   "source": [
    "alistChain={'animal':RunnablePassthrough()} |prompt | llm |StrOutputParser()|RunnableGenerator(transform=asplitIntoList)"
   ]
  },
  {
   "cell_type": "code",
   "execution_count": 95,
   "id": "7aefa971-f5f6-40a5-859a-9ce2a8d14e41",
   "metadata": {
    "scrolled": true
   },
   "outputs": [
    {
     "name": "stdout",
     "output_type": "stream",
     "text": [
      "['lion']\n",
      "['leopard']\n",
      "['jaguar']\n",
      "['cheetah']\n",
      "['snow leopard']\n"
     ]
    }
   ],
   "source": [
    "async for chunk in alistChain.astream(input=\"tiger\"):\n",
    "    print(chunk,flush=True)"
   ]
  },
  {
   "cell_type": "code",
   "execution_count": null,
   "id": "3ffd7984-f454-4169-a023-0b06684dc989",
   "metadata": {},
   "outputs": [],
   "source": []
  }
 ],
 "metadata": {
  "kernelspec": {
   "display_name": "Python 3 (ipykernel)",
   "language": "python",
   "name": "python3"
  },
  "language_info": {
   "codemirror_mode": {
    "name": "ipython",
    "version": 3
   },
   "file_extension": ".py",
   "mimetype": "text/x-python",
   "name": "python",
   "nbconvert_exporter": "python",
   "pygments_lexer": "ipython3",
   "version": "3.11.9"
  }
 },
 "nbformat": 4,
 "nbformat_minor": 5
}
