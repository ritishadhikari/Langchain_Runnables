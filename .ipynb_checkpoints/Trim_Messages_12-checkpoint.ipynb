{
 "cells": [
  {
   "cell_type": "code",
   "execution_count": 30,
   "id": "faa600c0-c013-406e-a553-bc244f75a25e",
   "metadata": {},
   "outputs": [],
   "source": [
    "from langchain_core.runnables import RunnablePassthrough,RunnableLambda, Runnable, RunnableParallel,RunnableConfig,RunnableGenerator\n",
    "from langchain_core.messages import AIMessage, HumanMessage,SystemMessage,ToolMessage,trim_messages\n",
    "from dotenv import load_dotenv,find_dotenv\n",
    "from langchain_google_genai import ChatGoogleGenerativeAI\n",
    "from langchain_openai import ChatOpenAI\n",
    "from langchain.tools import tool\n",
    "from langchain.prompts import ChatPromptTemplate,SystemMessagePromptTemplate, HumanMessagePromptTemplate,MessagesPlaceholder\n",
    "from langchain_core.output_parsers import JsonOutputParser,StrOutputParser\n",
    "from operator import itemgetter\n",
    "from langchain.embeddings import SentenceTransformerEmbeddings\n",
    "import json\n",
    "from langchain_community.vectorstores import FAISS,Chroma\n",
    "from operator import itemgetter\n",
    "import time\n",
    "import grandalf\n",
    "from typing import Iterator,List,AsyncIterator\n",
    "from langchain_core.runnables import ConfigurableField\n",
    "from langchain.runnables.hub import HubRunnable\n",
    "from langchain_community.chat_message_histories import ChatMessageHistory,RedisChatMessageHistory\n",
    "from langchain_core.chat_history import BaseChatMessageHistory\n",
    "from langchain_core.runnables.history import RunnableWithMessageHistory"
   ]
  },
  {
   "cell_type": "code",
   "execution_count": 3,
   "id": "2339df8d-b73a-4b8e-add9-6b24972238c9",
   "metadata": {},
   "outputs": [
    {
     "data": {
      "text/plain": [
       "True"
      ]
     },
     "execution_count": 3,
     "metadata": {},
     "output_type": "execute_result"
    }
   ],
   "source": [
    "load_dotenv(find_dotenv(\"D:\\LLM Courses\\Master Langchain Udemy\\.env\"))"
   ]
  },
  {
   "cell_type": "code",
   "execution_count": 4,
   "id": "dc0daaf6-e0ed-442d-bede-78f73eba7726",
   "metadata": {},
   "outputs": [],
   "source": [
    "llmGemini=ChatGoogleGenerativeAI(model=\"gemini-1.5-flash\")\n",
    "llmGPT=ChatOpenAI(model=\"gpt-3.5-turbo\")"
   ]
  },
  {
   "cell_type": "code",
   "execution_count": 5,
   "id": "e66fbfc1-615e-460a-9667-3f458e7662d6",
   "metadata": {},
   "outputs": [],
   "source": [
    "messages=[\n",
    "    SystemMessage(content=\"You are a good assistant, you always respond with a joke.\"),\n",
    "    HumanMessage(content=\"I Wonder why it's called Langchain\"),\n",
    "    AIMessage(content=\"Well, I guess they thought 'WordRope' and 'SentenceString' just didn't have the same ring to it!\"),\n",
    "    HumanMessage(content=\"And who is Harrison chasing anyways?\"),\n",
    "    AIMessage(content=\"Hmm let me think. \\n\\nWhy, he's probably chasing after the last cup of coffee in the office!\"),\n",
    "    HumanMessage(content=\"What do you call a speechless parrot\")\n",
    "]"
   ]
  },
  {
   "cell_type": "markdown",
   "id": "b12ccd9e-b766-44bf-9ae3-c3c86528071e",
   "metadata": {},
   "source": [
    "<h3> Streaming Based on Token Count </h3>"
   ]
  },
  {
   "cell_type": "code",
   "execution_count": 12,
   "id": "7ade0471-a52a-40b2-83a5-55bd0803478f",
   "metadata": {},
   "outputs": [
    {
     "data": {
      "text/plain": [
       "[SystemMessage(content='You are a good assistant, you always respond with a joke.', additional_kwargs={}, response_metadata={}),\n",
       " HumanMessage(content='And who is Harrison chasing anyways?', additional_kwargs={}, response_metadata={}),\n",
       " AIMessage(content=\"Hmm let me think. \\n\\nWhy, he's probably chasing after the last cup of coffee in the office!\", additional_kwargs={}, response_metadata={}),\n",
       " HumanMessage(content='What do you call a speechless parrot', additional_kwargs={}, response_metadata={})]"
      ]
     },
     "execution_count": 12,
     "metadata": {},
     "output_type": "execute_result"
    }
   ],
   "source": [
    "trim_messages(\n",
    "    messages=messages,\n",
    "    token_counter=llmGemini,\n",
    "    max_tokens=60,  # Max Messages Allowed\n",
    "    strategy=\"last\",\n",
    "    start_on=\"human\",  # start chat history with HumanMessage\n",
    "    end_on=(\"human\",\"tool\"),\n",
    "    include_system=True,\n",
    "    allow_partial=True,  # If we want to allow splitting up the contents of a message\n",
    ")"
   ]
  },
  {
   "cell_type": "markdown",
   "id": "8b6de764-df72-4200-bd62-7349f4b9fb33",
   "metadata": {},
   "source": [
    "<h3>Streaming Based on Message Count</h3>"
   ]
  },
  {
   "cell_type": "code",
   "execution_count": 10,
   "id": "d1f24309-24b3-4796-853d-41f14dad733e",
   "metadata": {},
   "outputs": [
    {
     "data": {
      "text/plain": [
       "[SystemMessage(content='You are a good assistant, you always respond with a joke.', additional_kwargs={}, response_metadata={}),\n",
       " HumanMessage(content='What do you call a speechless parrot', additional_kwargs={}, response_metadata={})]"
      ]
     },
     "execution_count": 10,
     "metadata": {},
     "output_type": "execute_result"
    }
   ],
   "source": [
    "trim_messages(\n",
    "    messages=messages,\n",
    "    token_counter=len,  # Tell the Model you want to keep count as per the message\n",
    "    max_tokens=3,  # Max Messages Allowed\n",
    "    strategy=\"last\",\n",
    "    start_on=\"human\",  # start chat history with HumanMessage\n",
    "    end_on=(\"human\",\"tool\"),\n",
    "    include_system=True,\n",
    "    allow_partial=False\n",
    ")"
   ]
  },
  {
   "cell_type": "markdown",
   "id": "f85dd314-662f-4d3c-842c-12fa4c420a3d",
   "metadata": {},
   "source": [
    "<h3> Chaining </h3>"
   ]
  },
  {
   "cell_type": "code",
   "execution_count": 23,
   "id": "f36c25c8-7fd0-4c24-8b1a-a4e4ad95196d",
   "metadata": {},
   "outputs": [],
   "source": [
    "trimMessages=trim_messages(\n",
    "    token_counter=llmGemini,\n",
    "    max_tokens=60,  # Max Messages Allowed\n",
    "    strategy=\"last\",\n",
    "    start_on=\"human\",  # start chat history with HumanMessage\n",
    "    end_on=(\"human\",\"tool\"),\n",
    "    include_system=True,\n",
    "    allow_partial=True,  # If we want to allow splitting up the contents of a message\n",
    ")"
   ]
  },
  {
   "cell_type": "code",
   "execution_count": 24,
   "id": "b128dc15-c4e0-4765-8ec2-1afbfd720b2e",
   "metadata": {},
   "outputs": [],
   "source": [
    "chain=trimMessages|llmGemini"
   ]
  },
  {
   "cell_type": "code",
   "execution_count": 25,
   "id": "80c0a0cf-0dec-4a98-904d-54963982cf26",
   "metadata": {},
   "outputs": [
    {
     "data": {
      "text/plain": [
       "AIMessage(content=\"A Polly want a cracker? \\n\\nGet it? Because they can't talk! 😂 \\n\", additional_kwargs={}, response_metadata={'prompt_feedback': {'block_reason': 0, 'safety_ratings': []}, 'finish_reason': 'STOP', 'safety_ratings': [{'category': 'HARM_CATEGORY_SEXUALLY_EXPLICIT', 'probability': 'NEGLIGIBLE', 'blocked': False}, {'category': 'HARM_CATEGORY_HATE_SPEECH', 'probability': 'NEGLIGIBLE', 'blocked': False}, {'category': 'HARM_CATEGORY_HARASSMENT', 'probability': 'NEGLIGIBLE', 'blocked': False}, {'category': 'HARM_CATEGORY_DANGEROUS_CONTENT', 'probability': 'NEGLIGIBLE', 'blocked': False}]}, id='run-dbb76e9f-048a-4a64-ba4c-7334260466b3-0', usage_metadata={'input_tokens': 54, 'output_tokens': 19, 'total_tokens': 73})"
      ]
     },
     "execution_count": 25,
     "metadata": {},
     "output_type": "execute_result"
    }
   ],
   "source": [
    "chain.invoke(input=messages)"
   ]
  },
  {
   "cell_type": "markdown",
   "id": "1ffd34f0-0b38-44d6-8654-7e7559cf6688",
   "metadata": {},
   "source": [
    "<h3>With Chat Message History</h3>"
   ]
  },
  {
   "cell_type": "code",
   "execution_count": 63,
   "id": "6b4de458-061e-4c5d-93f9-5f22c6d542be",
   "metadata": {},
   "outputs": [],
   "source": [
    "store={}\n",
    "def getSessionHistory(sessionId:str) -> BaseChatMessageHistory:\n",
    "    if sessionId not in store:\n",
    "        store[sessionId]=ChatMessageHistory()\n",
    "    return store[sessionId]    "
   ]
  },
  {
   "cell_type": "code",
   "execution_count": 64,
   "id": "c1fe3c36-e565-458e-8b79-a39be4c511a7",
   "metadata": {},
   "outputs": [],
   "source": [
    "prompt=ChatPromptTemplate.from_messages(\n",
    "    messages=[\n",
    "        SystemMessagePromptTemplate.from_template(\n",
    "            template=\"You're an assistant who's good at {ability}. Respond in 20 words or fewer\"\n",
    "        ),\n",
    "        MessagesPlaceholder(\n",
    "            variable_name=\"history\"\n",
    "        ),\n",
    "        HumanMessagePromptTemplate.from_template(\n",
    "            template=\"{question}\"\n",
    "        )\n",
    "    ]\n",
    ")"
   ]
  },
  {
   "cell_type": "code",
   "execution_count": 73,
   "id": "c7187165-4922-4492-9a20-4a1043994270",
   "metadata": {},
   "outputs": [],
   "source": [
    "trimMessages=trim_messages(\n",
    "    token_counter=llmGemini,\n",
    "    max_tokens=90,  # Max Messages Allowed\n",
    "    strategy=\"last\",\n",
    "    start_on=\"human\",  # start chat history with HumanMessage\n",
    "    end_on=(\"human\",\"tool\"),\n",
    "    include_system=True,\n",
    "    allow_partial=True,  # If we want to allow splitting up the contents of a message\n",
    ")"
   ]
  },
  {
   "cell_type": "code",
   "execution_count": 74,
   "id": "7e9c3ff5-d3c4-441d-b117-01472749e985",
   "metadata": {},
   "outputs": [],
   "source": [
    "chain=prompt|trimMessages|llmGemini"
   ]
  },
  {
   "cell_type": "code",
   "execution_count": 75,
   "id": "1063b45b-2330-4176-b0a1-50b84529859a",
   "metadata": {},
   "outputs": [],
   "source": [
    "chainWithMessageHistory=RunnableWithMessageHistory(\n",
    "                            chain,\n",
    "                            get_session_history=getSessionHistory,\n",
    "                            input_messages_key=\"question\",\n",
    "                            history_messages_key=\"history\"\n",
    "                        )"
   ]
  },
  {
   "cell_type": "code",
   "execution_count": 76,
   "id": "537f48f3-c040-4c97-9d80-a38c819b853a",
   "metadata": {},
   "outputs": [],
   "source": [
    "sessionID=\"ritish\""
   ]
  },
  {
   "cell_type": "code",
   "execution_count": 77,
   "id": "80433e5f-124a-4518-9751-28d54f0de936",
   "metadata": {},
   "outputs": [
    {
     "data": {
      "text/plain": [
       "AIMessage(content='Vatican City. \\n', additional_kwargs={}, response_metadata={'prompt_feedback': {'block_reason': 0, 'safety_ratings': []}, 'finish_reason': 'STOP', 'safety_ratings': [{'category': 'HARM_CATEGORY_SEXUALLY_EXPLICIT', 'probability': 'NEGLIGIBLE', 'blocked': False}, {'category': 'HARM_CATEGORY_HATE_SPEECH', 'probability': 'NEGLIGIBLE', 'blocked': False}, {'category': 'HARM_CATEGORY_HARASSMENT', 'probability': 'NEGLIGIBLE', 'blocked': False}, {'category': 'HARM_CATEGORY_DANGEROUS_CONTENT', 'probability': 'NEGLIGIBLE', 'blocked': False}]}, id='run-7f734b4a-62ee-4483-865a-9d311f5650fe-0', usage_metadata={'input_tokens': 77, 'output_tokens': 4, 'total_tokens': 81})"
      ]
     },
     "execution_count": 77,
     "metadata": {},
     "output_type": "execute_result"
    }
   ],
   "source": [
    "chainWithMessageHistory.invoke(\n",
    "    input={\"ability\":\"geography\",\n",
    "           \"question\":\"Which is the smallest country in the world?\"},\n",
    "    config={\"configurable\":{\"session_id\":sessionID}}\n",
    "    )"
   ]
  },
  {
   "cell_type": "code",
   "execution_count": 78,
   "id": "88c4c99b-dcf1-4585-8b92-5ddad5d3f5a7",
   "metadata": {},
   "outputs": [
    {
     "data": {
      "text/plain": [
       "AIMessage(content='Rome, Italy. \\n', additional_kwargs={}, response_metadata={'prompt_feedback': {'block_reason': 0, 'safety_ratings': []}, 'finish_reason': 'STOP', 'safety_ratings': [{'category': 'HARM_CATEGORY_SEXUALLY_EXPLICIT', 'probability': 'NEGLIGIBLE', 'blocked': False}, {'category': 'HARM_CATEGORY_HATE_SPEECH', 'probability': 'NEGLIGIBLE', 'blocked': False}, {'category': 'HARM_CATEGORY_HARASSMENT', 'probability': 'NEGLIGIBLE', 'blocked': False}, {'category': 'HARM_CATEGORY_DANGEROUS_CONTENT', 'probability': 'NEGLIGIBLE', 'blocked': False}]}, id='run-8c4524aa-0cb4-45ad-a748-113ef9b93e9e-0', usage_metadata={'input_tokens': 63, 'output_tokens': 4, 'total_tokens': 67})"
      ]
     },
     "execution_count": 78,
     "metadata": {},
     "output_type": "execute_result"
    }
   ],
   "source": [
    "chainWithMessageHistory.invoke(\n",
    "    input={\"ability\":\"geography\",\n",
    "           \"question\":\"Where is it located?\"},\n",
    "    config={\"configurable\":{\"session_id\":sessionID}}\n",
    "    )"
   ]
  },
  {
   "cell_type": "code",
   "execution_count": 79,
   "id": "f2cce8d0-01f2-4d9a-be4a-bcbb6c676462",
   "metadata": {},
   "outputs": [
    {
     "data": {
      "text/plain": [
       "AIMessage(content='About 2,000 kilometers. \\n', additional_kwargs={}, response_metadata={'prompt_feedback': {'block_reason': 0, 'safety_ratings': []}, 'finish_reason': 'STOP', 'safety_ratings': [{'category': 'HARM_CATEGORY_SEXUALLY_EXPLICIT', 'probability': 'NEGLIGIBLE', 'blocked': False}, {'category': 'HARM_CATEGORY_HATE_SPEECH', 'probability': 'NEGLIGIBLE', 'blocked': False}, {'category': 'HARM_CATEGORY_HARASSMENT', 'probability': 'NEGLIGIBLE', 'blocked': False}, {'category': 'HARM_CATEGORY_DANGEROUS_CONTENT', 'probability': 'NEGLIGIBLE', 'blocked': False}]}, id='run-8e50b178-da4d-4915-b06e-08c5ef994b00-0', usage_metadata={'input_tokens': 78, 'output_tokens': 9, 'total_tokens': 87})"
      ]
     },
     "execution_count": 79,
     "metadata": {},
     "output_type": "execute_result"
    }
   ],
   "source": [
    "chainWithMessageHistory.invoke(\n",
    "    input={\"ability\":\"geography\",\n",
    "           \"question\":\"How far is it from Israel?\"},\n",
    "    config={\"configurable\":{\"session_id\":sessionID}}\n",
    "    )"
   ]
  },
  {
   "cell_type": "code",
   "execution_count": 80,
   "id": "85a10a07-238c-4545-a947-53cb701b2c32",
   "metadata": {},
   "outputs": [
    {
     "data": {
      "text/plain": [
       "AIMessage(content='Europe. \\n', additional_kwargs={}, response_metadata={'prompt_feedback': {'block_reason': 0, 'safety_ratings': []}, 'finish_reason': 'STOP', 'safety_ratings': [{'category': 'HARM_CATEGORY_SEXUALLY_EXPLICIT', 'probability': 'NEGLIGIBLE', 'blocked': False}, {'category': 'HARM_CATEGORY_HATE_SPEECH', 'probability': 'NEGLIGIBLE', 'blocked': False}, {'category': 'HARM_CATEGORY_HARASSMENT', 'probability': 'NEGLIGIBLE', 'blocked': False}, {'category': 'HARM_CATEGORY_DANGEROUS_CONTENT', 'probability': 'NEGLIGIBLE', 'blocked': False}]}, id='run-270c0efa-4ce1-4142-9ed5-57ca960e9158-0', usage_metadata={'input_tokens': 77, 'output_tokens': 2, 'total_tokens': 79})"
      ]
     },
     "execution_count": 80,
     "metadata": {},
     "output_type": "execute_result"
    }
   ],
   "source": [
    "chainWithMessageHistory.invoke(\n",
    "    input={\"ability\":\"geography\",\n",
    "           \"question\":\"In Which Continent is it located?\"},\n",
    "    config={\"configurable\":{\"session_id\":sessionID}}\n",
    "    )"
   ]
  },
  {
   "cell_type": "code",
   "execution_count": null,
   "id": "af02a3f2-fc4a-483b-81c6-2f0b390a822d",
   "metadata": {},
   "outputs": [],
   "source": []
  }
 ],
 "metadata": {
  "kernelspec": {
   "display_name": "Python 3 (ipykernel)",
   "language": "python",
   "name": "python3"
  },
  "language_info": {
   "codemirror_mode": {
    "name": "ipython",
    "version": 3
   },
   "file_extension": ".py",
   "mimetype": "text/x-python",
   "name": "python",
   "nbconvert_exporter": "python",
   "pygments_lexer": "ipython3",
   "version": "3.11.9"
  }
 },
 "nbformat": 4,
 "nbformat_minor": 5
}
