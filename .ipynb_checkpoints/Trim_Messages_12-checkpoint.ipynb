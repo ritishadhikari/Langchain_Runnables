{
 "cells": [
  {
   "cell_type": "code",
   "execution_count": 1,
   "id": "faa600c0-c013-406e-a553-bc244f75a25e",
   "metadata": {},
   "outputs": [
    {
     "name": "stderr",
     "output_type": "stream",
     "text": [
      "C:\\Users\\MSI 1\\.conda\\envs\\oaivenv\\Lib\\site-packages\\tqdm\\auto.py:21: TqdmWarning: IProgress not found. Please update jupyter and ipywidgets. See https://ipywidgets.readthedocs.io/en/stable/user_install.html\n",
      "  from .autonotebook import tqdm as notebook_tqdm\n"
     ]
    }
   ],
   "source": [
    "from langchain_core.runnables import RunnablePassthrough,RunnableLambda, Runnable, RunnableParallel,RunnableConfig,RunnableGenerator\n",
    "from langchain_core.messages import AIMessage, HumanMessage,SystemMessage,ToolMessage,trim_messages\n",
    "from dotenv import load_dotenv,find_dotenv\n",
    "from langchain_google_genai import ChatGoogleGenerativeAI\n",
    "from langchain_openai import ChatOpenAI\n",
    "from langchain.tools import tool\n",
    "from langchain.prompts import ChatPromptTemplate,SystemMessagePromptTemplate, HumanMessagePromptTemplate,MessagesPlaceholder\n",
    "from langchain_core.output_parsers import JsonOutputParser,StrOutputParser\n",
    "from operator import itemgetter\n",
    "from langchain.embeddings import SentenceTransformerEmbeddings\n",
    "import json\n",
    "from langchain_community.vectorstores import FAISS,Chroma\n",
    "from operator import itemgetter\n",
    "import time\n",
    "import grandalf\n",
    "from typing import Iterator,List,AsyncIterator\n",
    "from langchain_core.runnables import ConfigurableField\n",
    "from langchain.runnables.hub import HubRunnable\n",
    "from langchain_community.chat_message_histories import ChatMessageHistory,RedisChatMessageHistory\n",
    "from langchain_core.chat_history import BaseChatMessageHistory\n",
    "from langchain_core.runnables.history import RunnableWithMessageHistory"
   ]
  },
  {
   "cell_type": "code",
   "execution_count": 2,
   "id": "2339df8d-b73a-4b8e-add9-6b24972238c9",
   "metadata": {},
   "outputs": [
    {
     "data": {
      "text/plain": [
       "True"
      ]
     },
     "execution_count": 2,
     "metadata": {},
     "output_type": "execute_result"
    }
   ],
   "source": [
    "load_dotenv(find_dotenv(\"D:\\LLM Courses\\Master Langchain Udemy\\.env\"))"
   ]
  },
  {
   "cell_type": "code",
   "execution_count": 3,
   "id": "dc0daaf6-e0ed-442d-bede-78f73eba7726",
   "metadata": {},
   "outputs": [],
   "source": [
    "llmGemini=ChatGoogleGenerativeAI(model=\"gemini-1.5-flash\")\n",
    "llmGPT=ChatOpenAI(model=\"gpt-3.5-turbo\")"
   ]
  },
  {
   "cell_type": "code",
   "execution_count": 4,
   "id": "e66fbfc1-615e-460a-9667-3f458e7662d6",
   "metadata": {},
   "outputs": [],
   "source": [
    "messages=[\n",
    "    SystemMessage(content=\"You are a good assistant, you always respond with a joke.\"),\n",
    "    HumanMessage(content=\"I Wonder why it's called Langchain\"),\n",
    "    AIMessage(content=\"Well, I guess they thought 'WordRope' and 'SentenceString' just didn't have the same ring to it!\"),\n",
    "    HumanMessage(content=\"And who is Harrison chasing anyways?\"),\n",
    "    AIMessage(content=\"Hmm let me think. \\n\\nWhy, he's probably chasing after the last cup of coffee in the office!\"),\n",
    "    HumanMessage(content=\"What do you call a speechless parrot\")\n",
    "]"
   ]
  },
  {
   "cell_type": "markdown",
   "id": "b12ccd9e-b766-44bf-9ae3-c3c86528071e",
   "metadata": {},
   "source": [
    "<h3> Streaming Based on Token Count </h3>"
   ]
  },
  {
   "cell_type": "code",
   "execution_count": 5,
   "id": "7ade0471-a52a-40b2-83a5-55bd0803478f",
   "metadata": {},
   "outputs": [
    {
     "data": {
      "text/plain": [
       "[SystemMessage(content='You are a good assistant, you always respond with a joke.', additional_kwargs={}, response_metadata={}),\n",
       " HumanMessage(content='And who is Harrison chasing anyways?', additional_kwargs={}, response_metadata={}),\n",
       " AIMessage(content=\"Hmm let me think. \\n\\nWhy, he's probably chasing after the last cup of coffee in the office!\", additional_kwargs={}, response_metadata={}),\n",
       " HumanMessage(content='What do you call a speechless parrot', additional_kwargs={}, response_metadata={})]"
      ]
     },
     "execution_count": 5,
     "metadata": {},
     "output_type": "execute_result"
    }
   ],
   "source": [
    "trim_messages(\n",
    "    messages=messages,\n",
    "    token_counter=llmGemini,\n",
    "    max_tokens=60,  # Max Messages Allowed\n",
    "    strategy=\"last\",\n",
    "    start_on=\"human\",  # start chat history with HumanMessage\n",
    "    end_on=(\"human\",\"tool\"),\n",
    "    include_system=True,\n",
    "    allow_partial=True,  # If we want to allow splitting up the contents of a message\n",
    ")"
   ]
  },
  {
   "cell_type": "markdown",
   "id": "8b6de764-df72-4200-bd62-7349f4b9fb33",
   "metadata": {},
   "source": [
    "<h3>Streaming Based on Message Count</h3>"
   ]
  },
  {
   "cell_type": "code",
   "execution_count": 7,
   "id": "d1f24309-24b3-4796-853d-41f14dad733e",
   "metadata": {},
   "outputs": [
    {
     "data": {
      "text/plain": [
       "[SystemMessage(content='You are a good assistant, you always respond with a joke.', additional_kwargs={}, response_metadata={}),\n",
       " HumanMessage(content='What do you call a speechless parrot', additional_kwargs={}, response_metadata={})]"
      ]
     },
     "execution_count": 7,
     "metadata": {},
     "output_type": "execute_result"
    }
   ],
   "source": [
    "trim_messages(\n",
    "    messages=messages,\n",
    "    token_counter=len,  # Tell the Model you want to keep count as per the message\n",
    "    max_tokens=3,  # Max Messages Allowed\n",
    "    strategy=\"last\",\n",
    "    start_on=\"human\",  # start chat history with HumanMessage\n",
    "    end_on=(\"human\",\"tool\"),\n",
    "    include_system=True,\n",
    "    allow_partial=False\n",
    ")"
   ]
  },
  {
   "cell_type": "markdown",
   "id": "f85dd314-662f-4d3c-842c-12fa4c420a3d",
   "metadata": {},
   "source": [
    "<h3> Chaining </h3>"
   ]
  },
  {
   "cell_type": "code",
   "execution_count": 8,
   "id": "f36c25c8-7fd0-4c24-8b1a-a4e4ad95196d",
   "metadata": {},
   "outputs": [],
   "source": [
    "trimMessages=trim_messages(\n",
    "    token_counter=llmGemini,\n",
    "    max_tokens=60,  # Max Messages Allowed\n",
    "    strategy=\"last\",\n",
    "    start_on=\"human\",  # start chat history with HumanMessage\n",
    "    end_on=(\"human\",\"tool\"),\n",
    "    include_system=True,\n",
    "    allow_partial=True,  # If we want to allow splitting up the contents of a message\n",
    ")"
   ]
  },
  {
   "cell_type": "code",
   "execution_count": 9,
   "id": "b128dc15-c4e0-4765-8ec2-1afbfd720b2e",
   "metadata": {},
   "outputs": [],
   "source": [
    "chain=trimMessages|llmGemini"
   ]
  },
  {
   "cell_type": "code",
   "execution_count": 10,
   "id": "80c0a0cf-0dec-4a98-904d-54963982cf26",
   "metadata": {},
   "outputs": [
    {
     "data": {
      "text/plain": [
       "AIMessage(content='', additional_kwargs={}, response_metadata={'prompt_feedback': {'block_reason': 0, 'safety_ratings': []}, 'finish_reason': 'SAFETY', 'safety_ratings': [{'category': 'HARM_CATEGORY_SEXUALLY_EXPLICIT', 'probability': 'LOW', 'blocked': False}, {'category': 'HARM_CATEGORY_HATE_SPEECH', 'probability': 'NEGLIGIBLE', 'blocked': False}, {'category': 'HARM_CATEGORY_HARASSMENT', 'probability': 'NEGLIGIBLE', 'blocked': False}, {'category': 'HARM_CATEGORY_DANGEROUS_CONTENT', 'probability': 'MEDIUM', 'blocked': False}]}, id='run-04c0aad5-4a8e-46e8-b474-6f2c91d722c6-0', usage_metadata={'input_tokens': 54, 'output_tokens': 0, 'total_tokens': 54})"
      ]
     },
     "execution_count": 10,
     "metadata": {},
     "output_type": "execute_result"
    }
   ],
   "source": [
    "chain.invoke(input=messages)"
   ]
  },
  {
   "cell_type": "markdown",
   "id": "1ffd34f0-0b38-44d6-8654-7e7559cf6688",
   "metadata": {},
   "source": [
    "<h3>With Chat Message History</h3>"
   ]
  },
  {
   "cell_type": "code",
   "execution_count": 11,
   "id": "6b4de458-061e-4c5d-93f9-5f22c6d542be",
   "metadata": {},
   "outputs": [],
   "source": [
    "store={}\n",
    "def getSessionHistory(sessionId:str) -> BaseChatMessageHistory:\n",
    "    if sessionId not in store:\n",
    "        store[sessionId]=ChatMessageHistory()\n",
    "    return store[sessionId]    "
   ]
  },
  {
   "cell_type": "code",
   "execution_count": 12,
   "id": "c1fe3c36-e565-458e-8b79-a39be4c511a7",
   "metadata": {},
   "outputs": [],
   "source": [
    "prompt=ChatPromptTemplate.from_messages(\n",
    "    messages=[\n",
    "        SystemMessagePromptTemplate.from_template(\n",
    "            template=\"You're an assistant who's good at {ability}. Respond in 20 words or fewer\"\n",
    "        ),\n",
    "        MessagesPlaceholder(\n",
    "            variable_name=\"history\"\n",
    "        ),\n",
    "        HumanMessagePromptTemplate.from_template(\n",
    "            template=\"{question}\"\n",
    "        )\n",
    "    ]\n",
    ")"
   ]
  },
  {
   "cell_type": "code",
   "execution_count": 13,
   "id": "c7187165-4922-4492-9a20-4a1043994270",
   "metadata": {},
   "outputs": [],
   "source": [
    "trimMessages=trim_messages(\n",
    "    token_counter=llmGemini,\n",
    "    max_tokens=90,  # Max Messages Allowed\n",
    "    strategy=\"last\",\n",
    "    start_on=\"human\",  # start chat history with HumanMessage\n",
    "    end_on=(\"human\",\"tool\"),\n",
    "    include_system=True,\n",
    "    allow_partial=True,  # If we want to allow splitting up the contents of a message\n",
    ")"
   ]
  },
  {
   "cell_type": "code",
   "execution_count": 14,
   "id": "7e9c3ff5-d3c4-441d-b117-01472749e985",
   "metadata": {},
   "outputs": [],
   "source": [
    "chain=prompt|trimMessages|llmGemini"
   ]
  },
  {
   "cell_type": "code",
   "execution_count": 15,
   "id": "1063b45b-2330-4176-b0a1-50b84529859a",
   "metadata": {},
   "outputs": [],
   "source": [
    "chainWithMessageHistory=RunnableWithMessageHistory(\n",
    "                            chain,\n",
    "                            get_session_history=getSessionHistory,\n",
    "                            input_messages_key=\"question\",\n",
    "                            history_messages_key=\"history\"\n",
    "                        )"
   ]
  },
  {
   "cell_type": "code",
   "execution_count": 16,
   "id": "537f48f3-c040-4c97-9d80-a38c819b853a",
   "metadata": {},
   "outputs": [],
   "source": [
    "sessionID=\"ritish\""
   ]
  },
  {
   "cell_type": "code",
   "execution_count": 21,
   "id": "80433e5f-124a-4518-9751-28d54f0de936",
   "metadata": {},
   "outputs": [
    {
     "data": {
      "text/plain": [
       "AIMessage(content='Vatican City \\n', additional_kwargs={}, response_metadata={'prompt_feedback': {'block_reason': 0, 'safety_ratings': []}, 'finish_reason': 'STOP', 'safety_ratings': [{'category': 'HARM_CATEGORY_SEXUALLY_EXPLICIT', 'probability': 'NEGLIGIBLE', 'blocked': False}, {'category': 'HARM_CATEGORY_HATE_SPEECH', 'probability': 'NEGLIGIBLE', 'blocked': False}, {'category': 'HARM_CATEGORY_HARASSMENT', 'probability': 'NEGLIGIBLE', 'blocked': False}, {'category': 'HARM_CATEGORY_DANGEROUS_CONTENT', 'probability': 'NEGLIGIBLE', 'blocked': False}]}, id='run-6b98bad3-241b-4246-b578-bfed448c21bb-0', usage_metadata={'input_tokens': 71, 'output_tokens': 3, 'total_tokens': 74})"
      ]
     },
     "execution_count": 21,
     "metadata": {},
     "output_type": "execute_result"
    }
   ],
   "source": [
    "chainWithMessageHistory.with_config(config={\"session_id\":sessionID}).invoke(\n",
    "    input={\"ability\":\"geography\",\n",
    "           \"question\":\"Which is the smallest country in the world?\"},\n",
    "    )"
   ]
  },
  {
   "cell_type": "code",
   "execution_count": 22,
   "id": "88c4c99b-dcf1-4585-8b92-5ddad5d3f5a7",
   "metadata": {},
   "outputs": [
    {
     "data": {
      "text/plain": [
       "AIMessage(content='Rome, Italy \\n', additional_kwargs={}, response_metadata={'prompt_feedback': {'block_reason': 0, 'safety_ratings': []}, 'finish_reason': 'STOP', 'safety_ratings': [{'category': 'HARM_CATEGORY_SEXUALLY_EXPLICIT', 'probability': 'NEGLIGIBLE', 'blocked': False}, {'category': 'HARM_CATEGORY_HATE_SPEECH', 'probability': 'NEGLIGIBLE', 'blocked': False}, {'category': 'HARM_CATEGORY_HARASSMENT', 'probability': 'NEGLIGIBLE', 'blocked': False}, {'category': 'HARM_CATEGORY_DANGEROUS_CONTENT', 'probability': 'NEGLIGIBLE', 'blocked': False}]}, id='run-6520f570-84f2-410a-9474-0ba80c3ae191-0', usage_metadata={'input_tokens': 72, 'output_tokens': 3, 'total_tokens': 75})"
      ]
     },
     "execution_count": 22,
     "metadata": {},
     "output_type": "execute_result"
    }
   ],
   "source": [
    "chainWithMessageHistory.with_config(config={\"session_id\":sessionID}).invoke(\n",
    "    input={\"ability\":\"geography\",\n",
    "           \"question\":\"Where is it located?\"},\n",
    "    )"
   ]
  },
  {
   "cell_type": "code",
   "execution_count": 23,
   "id": "f2cce8d0-01f2-4d9a-be4a-bcbb6c676462",
   "metadata": {},
   "outputs": [
    {
     "data": {
      "text/plain": [
       "AIMessage(content='About 2,000 miles. \\n', additional_kwargs={}, response_metadata={'prompt_feedback': {'block_reason': 0, 'safety_ratings': []}, 'finish_reason': 'STOP', 'safety_ratings': [{'category': 'HARM_CATEGORY_SEXUALLY_EXPLICIT', 'probability': 'NEGLIGIBLE', 'blocked': False}, {'category': 'HARM_CATEGORY_HATE_SPEECH', 'probability': 'NEGLIGIBLE', 'blocked': False}, {'category': 'HARM_CATEGORY_HARASSMENT', 'probability': 'NEGLIGIBLE', 'blocked': False}, {'category': 'HARM_CATEGORY_DANGEROUS_CONTENT', 'probability': 'NEGLIGIBLE', 'blocked': False}]}, id='run-12b3025a-bc43-440b-b00f-6a84a4e7bdf0-0', usage_metadata={'input_tokens': 69, 'output_tokens': 9, 'total_tokens': 78})"
      ]
     },
     "execution_count": 23,
     "metadata": {},
     "output_type": "execute_result"
    }
   ],
   "source": [
    "chainWithMessageHistory.with_config(config={\"session_id\":sessionID}).invoke(\n",
    "    input={\"ability\":\"geography\",\n",
    "           \"question\":\"How far is it from Israel?\"},\n",
    "    )"
   ]
  },
  {
   "cell_type": "code",
   "execution_count": 24,
   "id": "85a10a07-238c-4545-a947-53cb701b2c32",
   "metadata": {},
   "outputs": [
    {
     "data": {
      "text/plain": [
       "AIMessage(content='Europe \\n', additional_kwargs={}, response_metadata={'prompt_feedback': {'block_reason': 0, 'safety_ratings': []}, 'finish_reason': 'STOP', 'safety_ratings': [{'category': 'HARM_CATEGORY_SEXUALLY_EXPLICIT', 'probability': 'NEGLIGIBLE', 'blocked': False}, {'category': 'HARM_CATEGORY_HATE_SPEECH', 'probability': 'NEGLIGIBLE', 'blocked': False}, {'category': 'HARM_CATEGORY_HARASSMENT', 'probability': 'NEGLIGIBLE', 'blocked': False}, {'category': 'HARM_CATEGORY_DANGEROUS_CONTENT', 'probability': 'NEGLIGIBLE', 'blocked': False}]}, id='run-091ae10d-7a2d-46d1-b5fe-de4e588817ec-0', usage_metadata={'input_tokens': 76, 'output_tokens': 1, 'total_tokens': 77})"
      ]
     },
     "execution_count": 24,
     "metadata": {},
     "output_type": "execute_result"
    }
   ],
   "source": [
    "chainWithMessageHistory.with_config(config={\"session_id\":sessionID}).invoke(\n",
    "    input={\"ability\":\"geography\",\n",
    "           \"question\":\"In Which Continent is it located?\"},\n",
    "    )"
   ]
  },
  {
   "cell_type": "code",
   "execution_count": null,
   "id": "af02a3f2-fc4a-483b-81c6-2f0b390a822d",
   "metadata": {},
   "outputs": [],
   "source": []
  }
 ],
 "metadata": {
  "kernelspec": {
   "display_name": "Python 3 (ipykernel)",
   "language": "python",
   "name": "python3"
  },
  "language_info": {
   "codemirror_mode": {
    "name": "ipython",
    "version": 3
   },
   "file_extension": ".py",
   "mimetype": "text/x-python",
   "name": "python",
   "nbconvert_exporter": "python",
   "pygments_lexer": "ipython3",
   "version": "3.11.9"
  }
 },
 "nbformat": 4,
 "nbformat_minor": 5
}
