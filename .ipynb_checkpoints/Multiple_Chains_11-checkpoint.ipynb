{
 "cells": [
  {
   "cell_type": "code",
   "execution_count": 1,
   "id": "161f832b-77da-4da3-bd14-30e59c4aca05",
   "metadata": {},
   "outputs": [
    {
     "name": "stderr",
     "output_type": "stream",
     "text": [
      "C:\\Users\\MSI 1\\.conda\\envs\\oaivenv\\Lib\\site-packages\\tqdm\\auto.py:21: TqdmWarning: IProgress not found. Please update jupyter and ipywidgets. See https://ipywidgets.readthedocs.io/en/stable/user_install.html\n",
      "  from .autonotebook import tqdm as notebook_tqdm\n"
     ]
    }
   ],
   "source": [
    "from langchain_core.runnables import RunnablePassthrough,RunnableLambda, Runnable, RunnableParallel,RunnableConfig,RunnableGenerator\n",
    "from langchain_core.messages import AIMessage\n",
    "from dotenv import load_dotenv,find_dotenv\n",
    "from langchain_google_genai import ChatGoogleGenerativeAI\n",
    "from langchain_openai import ChatOpenAI\n",
    "from langchain.tools import tool\n",
    "from langchain.prompts import ChatPromptTemplate,SystemMessagePromptTemplate, HumanMessagePromptTemplate\n",
    "from langchain_core.output_parsers import JsonOutputParser,StrOutputParser\n",
    "from operator import itemgetter\n",
    "from langchain.embeddings import SentenceTransformerEmbeddings\n",
    "import json\n",
    "from langchain_community.vectorstores import FAISS,Chroma\n",
    "from operator import itemgetter\n",
    "import time\n",
    "import grandalf\n",
    "from typing import Iterator,List,AsyncIterator\n",
    "from langchain_core.runnables import ConfigurableField\n",
    "from langchain.runnables.hub import HubRunnable"
   ]
  },
  {
   "cell_type": "code",
   "execution_count": 2,
   "id": "5efd4d4d-e14a-447f-a954-f18ce211e7b4",
   "metadata": {},
   "outputs": [
    {
     "data": {
      "text/plain": [
       "True"
      ]
     },
     "execution_count": 2,
     "metadata": {},
     "output_type": "execute_result"
    }
   ],
   "source": [
    "load_dotenv(find_dotenv(\"D:\\LLM Courses\\Master Langchain Udemy\\.env\"))"
   ]
  },
  {
   "cell_type": "code",
   "execution_count": 3,
   "id": "888397b1-1b84-4d55-b12f-ed2ce3d99801",
   "metadata": {},
   "outputs": [],
   "source": [
    "llmGemini=ChatGoogleGenerativeAI(model=\"gemini-1.5-flash\")\n",
    "llmGPT=ChatOpenAI(model=\"gpt-3.5-turbo\")"
   ]
  },
  {
   "cell_type": "code",
   "execution_count": 5,
   "id": "4e48c1ef-22fe-45c1-b09f-9cc9dfc0ac5b",
   "metadata": {},
   "outputs": [],
   "source": [
    "prompt1=ChatPromptTemplate.from_template(\n",
    "    template=\"What is the city {person} is from?\"\n",
    ")\n",
    "\n",
    "prompt2=ChatPromptTemplate.from_template(\n",
    "    template=\"What Country is the city {city} in? Respond in {language}\")"
   ]
  },
  {
   "cell_type": "code",
   "execution_count": 6,
   "id": "483e7227-4696-4e1b-a79a-23f8efb73e73",
   "metadata": {},
   "outputs": [],
   "source": [
    "chain1=prompt1|llmGemini|StrOutputParser()"
   ]
  },
  {
   "cell_type": "code",
   "execution_count": 7,
   "id": "c26b93e8-9716-43c7-b991-467b1a914d5e",
   "metadata": {},
   "outputs": [],
   "source": [
    "chain2={\"city\":chain1,\"language\":itemgetter(\"language\")}|prompt2|llmGemini|StrOutputParser()"
   ]
  },
  {
   "cell_type": "code",
   "execution_count": 9,
   "id": "7f9cf734-3474-45de-b367-43e1739752c7",
   "metadata": {},
   "outputs": [
    {
     "name": "stdout",
     "output_type": "stream",
     "text": [
      "ওসামা বিন লাদেনের জন্মস্থান রিয়াদ, **সৌদি আরব**। \n",
      "\n"
     ]
    }
   ],
   "source": [
    "print(chain2.invoke(input={\"person\":\"Osama Bin Laden\",\"language\":\"Bengali\"}))"
   ]
  },
  {
   "cell_type": "code",
   "execution_count": null,
   "id": "92544d7f-1ad6-41f7-8395-47e974d06c66",
   "metadata": {},
   "outputs": [],
   "source": []
  }
 ],
 "metadata": {
  "kernelspec": {
   "display_name": "Python 3 (ipykernel)",
   "language": "python",
   "name": "python3"
  },
  "language_info": {
   "codemirror_mode": {
    "name": "ipython",
    "version": 3
   },
   "file_extension": ".py",
   "mimetype": "text/x-python",
   "name": "python",
   "nbconvert_exporter": "python",
   "pygments_lexer": "ipython3",
   "version": "3.11.9"
  }
 },
 "nbformat": 4,
 "nbformat_minor": 5
}
