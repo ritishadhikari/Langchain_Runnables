{
 "cells": [
  {
   "cell_type": "code",
   "execution_count": 1,
   "id": "18589721-1eb3-46a8-b213-bbe19228adf9",
   "metadata": {},
   "outputs": [
    {
     "name": "stderr",
     "output_type": "stream",
     "text": [
      "C:\\Users\\MSI 1\\.conda\\envs\\oaivenv\\Lib\\site-packages\\tqdm\\auto.py:21: TqdmWarning: IProgress not found. Please update jupyter and ipywidgets. See https://ipywidgets.readthedocs.io/en/stable/user_install.html\n",
      "  from .autonotebook import tqdm as notebook_tqdm\n"
     ]
    }
   ],
   "source": [
    "from langchain_core.runnables import RunnablePassthrough,RunnableLambda, Runnable, RunnableParallel,RunnableConfig,RunnableGenerator\n",
    "from langchain_core.messages import AIMessage\n",
    "from dotenv import load_dotenv,find_dotenv\n",
    "from langchain_google_genai import ChatGoogleGenerativeAI\n",
    "from langchain_openai import ChatOpenAI\n",
    "from langchain.tools import tool\n",
    "from langchain.prompts import ChatPromptTemplate,SystemMessagePromptTemplate, HumanMessagePromptTemplate,PromptTemplate\n",
    "from langchain_core.output_parsers import JsonOutputParser,StrOutputParser\n",
    "from operator import itemgetter\n",
    "from langchain.embeddings import SentenceTransformerEmbeddings\n",
    "import json\n",
    "from langchain_community.vectorstores import FAISS,Chroma\n",
    "from operator import itemgetter\n",
    "import time\n",
    "import grandalf\n",
    "from typing import Iterator,List,AsyncIterator\n",
    "from langchain_core.runnables import ConfigurableField\n",
    "from langchain.runnables.hub import HubRunnable\n",
    "from langchain_anthropic import ChatAnthropic\n",
    "from langchain_community.utils.math import cosine_similarity"
   ]
  },
  {
   "cell_type": "code",
   "execution_count": 2,
   "id": "b7194882-b1da-4dfe-8f41-289e5397a408",
   "metadata": {},
   "outputs": [
    {
     "data": {
      "text/plain": [
       "True"
      ]
     },
     "execution_count": 2,
     "metadata": {},
     "output_type": "execute_result"
    }
   ],
   "source": [
    "load_dotenv(find_dotenv(\"D:\\LLM Courses\\Master Langchain Udemy\\.env\"))"
   ]
  },
  {
   "cell_type": "code",
   "execution_count": 3,
   "id": "f16a68f3-ae53-4522-923b-4d560d803aef",
   "metadata": {},
   "outputs": [],
   "source": [
    "llmGemini=ChatGoogleGenerativeAI(model=\"gemini-1.5-flash\")\n",
    "llmGPT=ChatOpenAI(model=\"gpt-3.5-turbo\")"
   ]
  },
  {
   "cell_type": "markdown",
   "id": "9d28e1c8-47fc-422f-bb87-c0cd8440feac",
   "metadata": {},
   "source": [
    "<h3>Using Runnable Lambda</h3>"
   ]
  },
  {
   "cell_type": "code",
   "execution_count": 4,
   "id": "a3619582-e740-4886-b579-e7f3d94e1466",
   "metadata": {},
   "outputs": [],
   "source": [
    "prompt=PromptTemplate.from_template(template=\"\"\"\n",
    "    Given the user question below, classify it as either being about `Langchain`,`Anthropic`, or `Other`\n",
    "\n",
    "    Do not respond with more than one word.\n",
    "\n",
    "    <question>\n",
    "    {question}\n",
    "    </question>\n",
    "\n",
    "    Classification:\n",
    "\"\"\")"
   ]
  },
  {
   "cell_type": "code",
   "execution_count": 5,
   "id": "88e471f9-2938-4457-bc74-106289e6b457",
   "metadata": {},
   "outputs": [],
   "source": [
    "chain=prompt|llmGemini|StrOutputParser()"
   ]
  },
  {
   "cell_type": "code",
   "execution_count": 6,
   "id": "e564fce7-06e4-486b-a61d-f6c3c145b627",
   "metadata": {},
   "outputs": [
    {
     "data": {
      "text/plain": [
       "'Anthropic \\n'"
      ]
     },
     "execution_count": 6,
     "metadata": {},
     "output_type": "execute_result"
    }
   ],
   "source": [
    "chain.invoke(input={\"question\":\"What is Claude LLM?\"})"
   ]
  },
  {
   "cell_type": "code",
   "execution_count": 7,
   "id": "9c6ff89a-a21d-474c-968a-fc66877dcf7a",
   "metadata": {},
   "outputs": [],
   "source": [
    "langchainChain=PromptTemplate.from_template(\n",
    "    template=\"\"\"\n",
    "        You are an expert in langchain.\\\n",
    "        Always answer questions starting with \"As Prof. Langchain told me\". \\\n",
    "        Respond to the following question:\n",
    "\n",
    "        Question: {question}\n",
    "        Answer:\n",
    "    \"\"\"\n",
    ")| llmGemini|StrOutputParser()"
   ]
  },
  {
   "cell_type": "code",
   "execution_count": 8,
   "id": "c13477e8-87f5-4623-beae-193aecfa2725",
   "metadata": {},
   "outputs": [],
   "source": [
    "anthropicChain=PromptTemplate.from_template(\n",
    "    template=\"\"\"\n",
    "        You are an expert in anthropic.\\\n",
    "        Always answer questions starting with \"As Prof. Anthropic told me\". \\\n",
    "        Respond to the following question:\n",
    "\n",
    "        Question: {question}\n",
    "        Answer:\n",
    "    \"\"\"\n",
    ")| llmGemini|StrOutputParser()"
   ]
  },
  {
   "cell_type": "code",
   "execution_count": 9,
   "id": "383a61fd-dcb6-4366-9624-6cfed57c496e",
   "metadata": {},
   "outputs": [],
   "source": [
    "generalChain=PromptTemplate.from_template(\n",
    "    template=\"\"\"\n",
    "        Respond to the following question:\n",
    "\n",
    "        Question: {question}\n",
    "        Answer:\n",
    "    \"\"\"\n",
    ")| llmGemini|StrOutputParser()"
   ]
  },
  {
   "cell_type": "code",
   "execution_count": 10,
   "id": "5fcd5110-f532-4932-8907-ff13ec5defa5",
   "metadata": {},
   "outputs": [],
   "source": [
    "def route(info):\n",
    "    if \"anthropic\" in info[\"topic\"].lower():\n",
    "        return anthropicChain\n",
    "    elif \"langchain\" in info[\"topic\"].lower():\n",
    "        return langchainChain\n",
    "    else:\n",
    "        return generalChain"
   ]
  },
  {
   "cell_type": "code",
   "execution_count": 11,
   "id": "84267ce3-ccf1-46c2-b3dc-0b02d3c1a476",
   "metadata": {},
   "outputs": [],
   "source": [
    "finalChain=RunnableParallel(\n",
    "    {\"topic\":chain,\"question\":RunnablePassthrough()}\n",
    ")|RunnableLambda(func=route)|StrOutputParser()"
   ]
  },
  {
   "cell_type": "code",
   "execution_count": 12,
   "id": "69b491d8-5c46-4959-b1ce-b3be98c96c96",
   "metadata": {},
   "outputs": [
    {
     "data": {
      "text/plain": [
       "\"As Prof. Anthropic told me, Claude is a large language model developed by Anthropic. It's a powerful AI system designed to generate human-like text, translate languages, write different kinds of creative content, and answer your questions in an informative way. \\n\""
      ]
     },
     "execution_count": 12,
     "metadata": {},
     "output_type": "execute_result"
    }
   ],
   "source": [
    "finalChain.invoke(input=\"What is Claude?\")"
   ]
  },
  {
   "cell_type": "code",
   "execution_count": 13,
   "id": "2ddbb73b-fc6b-4e1e-ab50-313e0fe55d60",
   "metadata": {},
   "outputs": [
    {
     "data": {
      "text/plain": [
       "\"As Prof. Langchain told me,  `ChatPromptTemplate` is a powerful tool in LangChain that allows you to craft sophisticated prompts for chat-like interactions. It's designed to handle situations where you need to dynamically generate prompts based on context, user input, or other variables. \\n\\nThink of it as a template for your prompts, where you can define placeholders for information that will be filled in at runtime. This makes your prompts more adaptable and responsive to different scenarios.\\n\\nHere's a breakdown of the key features:\\n\\n* **Dynamic Prompt Generation:** You can use variables and functions within the template to customize the prompt based on specific data or user input.\\n* **Chat-Specific Structure:** It automatically formats your prompt to match the structure of a typical chat conversation, ensuring the output is well-structured and easy to understand.\\n* **Integration with LLMs:** `ChatPromptTemplate` seamlessly integrates with various Large Language Models (LLMs) supported by LangChain, allowing you to build intelligent chat applications.\\n\\nIn essence, `ChatPromptTemplate` empowers you to create engaging and contextually relevant prompts for chatbot interactions, making your applications more dynamic and user-friendly. \\n\""
      ]
     },
     "execution_count": 13,
     "metadata": {},
     "output_type": "execute_result"
    }
   ],
   "source": [
    "finalChain.invoke(input=\"What is ChatPromptTemplate?\")"
   ]
  },
  {
   "cell_type": "code",
   "execution_count": 14,
   "id": "9ab24136-caf7-44eb-8210-d3b64a714b70",
   "metadata": {},
   "outputs": [
    {
     "name": "stdout",
     "output_type": "stream",
     "text": [
      "Eklavya was a **legendary archer** in the Hindu epic, the Mahabharata. He is known for his exceptional skill and unwavering dedication to archery. Here's a breakdown of his story:\n",
      "\n",
      "* **A Skilled Archer:** Eklavya was a young boy from the Nishadha tribe, a community considered lower in the social hierarchy. He possessed an innate talent for archery and yearned to learn from the renowned guru, Dronacharya.\n",
      "* **Denied Training:** However, Dronacharya refused to teach Eklavya because he was not a Kshatriya (warrior class). This was due to Dronacharya's prejudice and his commitment to teaching only the princes of the Kuru kingdom.\n",
      "* **Self-Taught Mastery:** Undeterred, Eklavya carved a clay image of Dronacharya and practiced relentlessly, treating it as his teacher. He achieved extraordinary skill, surpassing even the Kuru princes in archery.\n",
      "* **The Thumb Sacrifice:** When Dronacharya discovered Eklavya's prowess, he demanded a \"guru dakshina\" (teacher's fee). Eklavya, in his unwavering devotion, offered his right thumb, the most crucial part of an archer's hand.\n",
      "* **A Symbol of Dedication:** Eklavya's story is a powerful parable about dedication, perseverance, and the injustice of social prejudice. His sacrifice is a testament to his unwavering commitment to his craft and his willingness to pay any price for his passion.\n",
      "\n",
      "Eklavya's legend continues to inspire and teach us about the importance of talent, dedication, and the need to overcome social barriers to achieve excellence. \n",
      "\n"
     ]
    }
   ],
   "source": [
    "print(finalChain.invoke(input=\"Who was Eklavya?\"))"
   ]
  },
  {
   "cell_type": "markdown",
   "id": "96b01777-d6b6-42c7-8270-ed0afd7488c4",
   "metadata": {},
   "source": [
    "<h3> Routing by Symantic Similarity</h3>"
   ]
  },
  {
   "cell_type": "code",
   "execution_count": 15,
   "id": "ce96bf6d-4460-405f-bea2-eed9ed03a5f2",
   "metadata": {},
   "outputs": [],
   "source": [
    "physics_template = \"\"\"You are a very smart physics professor. \\\n",
    "You are great at answering questions about physics in a concise and easy to understand manner. \\\n",
    "When you don't know the answer to a question you admit that you don't know.\n",
    "\n",
    "Here is a question:\n",
    "{query}\"\"\""
   ]
  },
  {
   "cell_type": "code",
   "execution_count": 16,
   "id": "95cc795d-520f-440a-8785-aa357c078d83",
   "metadata": {},
   "outputs": [],
   "source": [
    "math_template = \"\"\"You are a very good mathematician. You are great at answering math questions. \\\n",
    "You are so good because you are able to break down hard problems into their component parts, \\\n",
    "answer the component parts, and then put them together to answer the broader question.\n",
    "\n",
    "Here is a question:\n",
    "{query}\"\"\""
   ]
  },
  {
   "cell_type": "code",
   "execution_count": 17,
   "id": "a0cbd700-2293-4c9d-a6e9-21efc63dbaa3",
   "metadata": {},
   "outputs": [
    {
     "name": "stderr",
     "output_type": "stream",
     "text": [
      "C:\\Users\\MSI 1\\AppData\\Local\\Temp\\ipykernel_10184\\481481593.py:1: LangChainDeprecationWarning: The class `HuggingFaceEmbeddings` was deprecated in LangChain 0.2.2 and will be removed in 1.0. An updated version of the class exists in the :class:`~langchain-huggingface package and should be used instead. To use it run `pip install -U :class:`~langchain-huggingface` and import as `from :class:`~langchain_huggingface import HuggingFaceEmbeddings``.\n",
      "  embeddings=SentenceTransformerEmbeddings()\n",
      "C:\\Users\\MSI 1\\AppData\\Local\\Temp\\ipykernel_10184\\481481593.py:1: LangChainDeprecationWarning: Default values for HuggingFaceEmbeddings.model_name were deprecated in LangChain 0.2.16 and will be removed in 0.4.0. Explicitly pass a model_name to the HuggingFaceEmbeddings constructor instead.\n",
      "  embeddings=SentenceTransformerEmbeddings()\n"
     ]
    }
   ],
   "source": [
    "embeddings=SentenceTransformerEmbeddings()"
   ]
  },
  {
   "cell_type": "code",
   "execution_count": 18,
   "id": "c6922a88-d874-4ad9-8571-9c97f8eed6d3",
   "metadata": {},
   "outputs": [],
   "source": [
    "promptTemplates=[physics_template,math_template]\n",
    "promptEmbeddings=embeddings.embed_documents(texts=promptTemplates)"
   ]
  },
  {
   "cell_type": "code",
   "execution_count": 19,
   "id": "843b526e-62d9-4fe0-a6d1-3ef35beb57f9",
   "metadata": {},
   "outputs": [],
   "source": [
    "# Illustrations\n",
    "questions=[\"What's a Black Hole?\",\"What's Integral Calculus?\"]"
   ]
  },
  {
   "cell_type": "code",
   "execution_count": 20,
   "id": "5e87e6c2-01e1-41ff-b5ef-77b59aa5455e",
   "metadata": {},
   "outputs": [
    {
     "data": {
      "text/plain": [
       "array([[0.25714636, 0.18505651],\n",
       "       [0.24262193, 0.27752088]])"
      ]
     },
     "execution_count": 20,
     "metadata": {},
     "output_type": "execute_result"
    }
   ],
   "source": [
    "cosine_similarity(X=embeddings.embed_documents(texts=questions),Y=promptEmbeddings)"
   ]
  },
  {
   "cell_type": "code",
   "execution_count": 21,
   "id": "590d7d62-6faf-40a5-8192-1673eea4a5b0",
   "metadata": {},
   "outputs": [
    {
     "data": {
      "text/plain": [
       "array([0, 1], dtype=int64)"
      ]
     },
     "execution_count": 21,
     "metadata": {},
     "output_type": "execute_result"
    }
   ],
   "source": [
    "cosine_similarity(X=embeddings.embed_documents(texts=questions),Y=promptEmbeddings).argmax(axis=1)"
   ]
  },
  {
   "cell_type": "code",
   "execution_count": 22,
   "id": "9be65c38-c7ef-47d9-9b6c-5ed729b38566",
   "metadata": {},
   "outputs": [],
   "source": [
    "def promptRouter(input):\n",
    "    queryEmbedding=embeddings.embed_query(text=input['query'])\n",
    "    similarity=cosine_similarity(X=[queryEmbedding],Y=promptEmbeddings)[0]\n",
    "    mostSimilarTemplate=promptTemplates[similarity.argmax()]\n",
    "    print(\"Using Math Template\" if mostSimilarTemplate==math_template else \"Using Physics Template\")\n",
    "    return PromptTemplate.from_template(template=mostSimilarTemplate)"
   ]
  },
  {
   "cell_type": "code",
   "execution_count": 23,
   "id": "a91dc0bd-31f9-4c51-879b-f41c5a244058",
   "metadata": {},
   "outputs": [],
   "source": [
    "chain={\"query\":RunnablePassthrough()}|RunnableLambda(func=promptRouter)|llmGemini|StrOutputParser()"
   ]
  },
  {
   "cell_type": "code",
   "execution_count": 24,
   "id": "008b9e43-8beb-4387-85cb-8373d9f468b0",
   "metadata": {},
   "outputs": [
    {
     "name": "stdout",
     "output_type": "stream",
     "text": [
      "Using Physics Template\n"
     ]
    },
    {
     "data": {
      "text/plain": [
       "'A black hole is a region of spacetime where gravity is so strong that nothing, not even light, can escape. It\\'s like a cosmic vacuum cleaner, sucking in everything that gets too close.\\n\\nHere\\'s the basic idea:\\n\\n* **Massive star collapse:** When a massive star runs out of fuel, it collapses under its own gravity.\\n* **Extreme density:** This collapse creates a point of infinite density called a singularity.\\n* **Event horizon:**  Around this singularity is a boundary called the event horizon. Anything that crosses this boundary is trapped forever.\\n* **No escape:**  The gravity of the black hole is so powerful that even light, the fastest thing in the universe, cannot escape its pull.\\n\\nThink of it like this: Imagine a bowling ball placed on a trampoline. It creates a dip in the trampoline. Now, imagine a much heavier object like a cannonball. It would create a much deeper dip.  A black hole is like that cannonball, creating a \"dip\" in spacetime so deep that nothing can climb back out. \\n\\nThere are many different types of black holes, from tiny ones called stellar black holes to supermassive black holes at the center of galaxies. While we can\\'t directly see them, we can detect their presence by observing the effects of their gravity on surrounding matter. \\n'"
      ]
     },
     "execution_count": 24,
     "metadata": {},
     "output_type": "execute_result"
    }
   ],
   "source": [
    "chain.invoke(input=\"What's a Blackhole?\")"
   ]
  },
  {
   "cell_type": "code",
   "execution_count": 25,
   "id": "7599cf10-e283-408f-b84a-fa37ca5b5357",
   "metadata": {},
   "outputs": [
    {
     "name": "stdout",
     "output_type": "stream",
     "text": [
      "Using Math Template\n"
     ]
    },
    {
     "data": {
      "text/plain": [
       "'You\\'re right, breaking down problems is key! Let\\'s tackle \"What is Trigonometry?\" by breaking it down:\\n\\n**1. The Core Idea:**\\n\\n* **Trigonometry is the study of relationships between angles and sides of triangles.** \\n\\n**2. Key Players:**\\n\\n* **Angles:**  We measure angles in degrees or radians.\\n* **Sides:**  We deal with the lengths of the sides of right triangles (triangles with one 90-degree angle).\\n\\n**3. The Special Functions:**\\n\\n* **Sine (sin), Cosine (cos), Tangent (tan):**  These are the main trigonometric functions. They tell us ratios between the sides of a right triangle based on its angles. \\n    * **Sine (sin):**  Opposite side / Hypotenuse\\n    * **Cosine (cos):**  Adjacent side / Hypotenuse\\n    * **Tangent (tan):**  Opposite side / Adjacent side\\n\\n**4. Beyond Triangles:**\\n\\n* **Applications:** Trigonometry is used in many fields, including:\\n    * **Navigation:**  Determining distances and directions\\n    * **Engineering:**  Designing structures and machines\\n    * **Physics:**  Understanding waves and oscillations\\n    * **Astronomy:**  Calculating distances in space\\n\\n**5. Putting it Together:**\\n\\nBy understanding the relationships between angles and sides in triangles, trigonometry allows us to solve problems involving distances, heights, and angles in various real-world scenarios.\\n\\n**In Summary:**\\n\\nTrigonometry is a powerful tool that helps us understand and solve problems related to angles, sides, and their relationships in triangles, and it has numerous applications in various fields. \\n'"
      ]
     },
     "execution_count": 25,
     "metadata": {},
     "output_type": "execute_result"
    }
   ],
   "source": [
    "chain.invoke(input=\"What's Trigonometry?\")"
   ]
  },
  {
   "cell_type": "code",
   "execution_count": 26,
   "id": "461dc4d7-c8dc-4c25-bd63-d5410ac40d6d",
   "metadata": {
    "scrolled": true
   },
   "outputs": [
    {
     "name": "stdout",
     "output_type": "stream",
     "text": [
      " +----------------------+  \n",
      " | Parallel<query>Input |  \n",
      " +----------------------+  \n",
      "             *             \n",
      "             *             \n",
      "             *             \n",
      "      +-------------+      \n",
      "      | Passthrough |      \n",
      "      +-------------+      \n",
      "             *             \n",
      "             *             \n",
      "             *             \n",
      "     +--------------+      \n",
      "     | promptRouter |      \n",
      "     +--------------+      \n",
      "             *             \n",
      "             *             \n",
      "             *             \n",
      "+------------------------+ \n",
      "| ChatGoogleGenerativeAI | \n",
      "+------------------------+ \n",
      "             *             \n",
      "             *             \n",
      "             *             \n",
      "    +-----------------+    \n",
      "    | StrOutputParser |    \n",
      "    +-----------------+    \n",
      "             *             \n",
      "             *             \n",
      "             *             \n",
      "+-----------------------+  \n",
      "| StrOutputParserOutput |  \n",
      "+-----------------------+  \n"
     ]
    }
   ],
   "source": [
    "chain.get_graph().print_ascii()"
   ]
  },
  {
   "cell_type": "code",
   "execution_count": null,
   "id": "fa71d689-462d-420a-9e88-72f3e0bd8436",
   "metadata": {},
   "outputs": [],
   "source": []
  }
 ],
 "metadata": {
  "kernelspec": {
   "display_name": "Python 3 (ipykernel)",
   "language": "python",
   "name": "python3"
  },
  "language_info": {
   "codemirror_mode": {
    "name": "ipython",
    "version": 3
   },
   "file_extension": ".py",
   "mimetype": "text/x-python",
   "name": "python",
   "nbconvert_exporter": "python",
   "pygments_lexer": "ipython3",
   "version": "3.11.9"
  }
 },
 "nbformat": 4,
 "nbformat_minor": 5
}
