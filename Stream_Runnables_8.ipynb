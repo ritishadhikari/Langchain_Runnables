{
 "cells": [
  {
   "cell_type": "code",
   "execution_count": 1,
   "id": "67fd9298-41ba-4ee9-94b4-8d8079adcc49",
   "metadata": {},
   "outputs": [
    {
     "name": "stderr",
     "output_type": "stream",
     "text": [
      "C:\\Users\\MSI 1\\.conda\\envs\\oaivenv\\Lib\\site-packages\\tqdm\\auto.py:21: TqdmWarning: IProgress not found. Please update jupyter and ipywidgets. See https://ipywidgets.readthedocs.io/en/stable/user_install.html\n",
      "  from .autonotebook import tqdm as notebook_tqdm\n"
     ]
    }
   ],
   "source": [
    "from langchain_core.runnables import RunnablePassthrough,RunnableLambda, Runnable, RunnableParallel,RunnableConfig,RunnableGenerator\n",
    "from langchain_core.messages import AIMessage\n",
    "from dotenv import load_dotenv,find_dotenv\n",
    "from langchain_google_genai import ChatGoogleGenerativeAI\n",
    "from langchain_openai import ChatOpenAI\n",
    "from langchain.tools import tool\n",
    "from langchain.prompts import ChatPromptTemplate,SystemMessagePromptTemplate, HumanMessagePromptTemplate\n",
    "from langchain_core.output_parsers import JsonOutputParser,StrOutputParser\n",
    "from operator import itemgetter\n",
    "from langchain.embeddings import SentenceTransformerEmbeddings\n",
    "import json\n",
    "from langchain_community.vectorstores import FAISS,Chroma\n",
    "from operator import itemgetter\n",
    "import time\n",
    "import grandalf\n",
    "from typing import Iterator,List,AsyncIterator\n",
    "from langchain_core.runnables import ConfigurableField\n",
    "from langchain.runnables.hub import HubRunnable"
   ]
  },
  {
   "cell_type": "code",
   "execution_count": 2,
   "id": "28543479-c71f-4834-96f6-c7fa6746ceab",
   "metadata": {},
   "outputs": [
    {
     "data": {
      "text/plain": [
       "True"
      ]
     },
     "execution_count": 2,
     "metadata": {},
     "output_type": "execute_result"
    }
   ],
   "source": [
    "load_dotenv(find_dotenv(\"D:\\LLM Courses\\Master Langchain Udemy\\.env\"))"
   ]
  },
  {
   "cell_type": "code",
   "execution_count": 3,
   "id": "56953b7d-fc1c-4ced-a680-89f4decbee11",
   "metadata": {},
   "outputs": [],
   "source": [
    "llmGemini=ChatGoogleGenerativeAI(model=\"gemini-1.5-flash\")\n",
    "llmGPT=ChatOpenAI(model=\"gpt-3.5-turbo\")"
   ]
  },
  {
   "cell_type": "markdown",
   "id": "6a3ba043-0800-40c0-8e64-280472123521",
   "metadata": {},
   "source": [
    "<H3>JSON Output Parser</H3>"
   ]
  },
  {
   "cell_type": "code",
   "execution_count": 31,
   "id": "119b8f54-60bd-446b-96b3-c13ef54661bf",
   "metadata": {},
   "outputs": [],
   "source": [
    "prompt=ChatPromptTemplate.from_template(\n",
    "    template=(\"\"\"\n",
    "        output a list of the countries {countries} and their populations in JSON format.\n",
    "        Use a dict with an outer key of \"countries\" which contains a list of countries.\n",
    "        Each country should have the key `name`,`population`and `GDP Per Capita` in the following format\n",
    "        {{'countries':[{{'name':'Country A'}},{{'name':'Country B'}}]  }}\n",
    "        GDP Per Capita should be in Dollars\n",
    "        \"\"\"\n",
    "    )\n",
    ")"
   ]
  },
  {
   "cell_type": "code",
   "execution_count": 32,
   "id": "feeea15f-20fb-4ccf-8b69-0ded52c126ed",
   "metadata": {},
   "outputs": [],
   "source": [
    "chain=prompt|llmGemini|JsonOutputParser()"
   ]
  },
  {
   "cell_type": "code",
   "execution_count": 33,
   "id": "8579e2b5-d866-44a8-8774-dddb72def424",
   "metadata": {},
   "outputs": [
    {
     "data": {
      "text/plain": [
       "{'countries': [{'name': 'Israel',\n",
       "   'population': 9500000,\n",
       "   'GDP Per Capita': 45000},\n",
       "  {'name': 'Iran', 'population': 88000000, 'GDP Per Capita': 8000},\n",
       "  {'name': 'India', 'population': 1400000000, 'GDP Per Capita': 2200}]}"
      ]
     },
     "execution_count": 33,
     "metadata": {},
     "output_type": "execute_result"
    }
   ],
   "source": [
    "chain.invoke(input={\"countries\":[\"Israel\",\"Iran\",\"India\"]})"
   ]
  },
  {
   "cell_type": "code",
   "execution_count": 35,
   "id": "23b1bcc3-6e21-41ab-b4b3-0572a53cb048",
   "metadata": {},
   "outputs": [
    {
     "name": "stdout",
     "output_type": "stream",
     "text": [
      "{'countries': [{'name': ''}]}\n",
      "{'countries': [{'name': 'Israel', 'population': 9500000}]}\n",
      "{'countries': [{'name': 'Israel', 'population': 9500000, 'GDP Per Capita': 45000}, {'name': 'Iran', 'population': 8}]}\n",
      "{'countries': [{'name': 'Israel', 'population': 9500000, 'GDP Per Capita': 45000}, {'name': 'Iran', 'population': 85000000, 'GDP Per Capita': 8000}, {'name': ''}]}\n",
      "{'countries': [{'name': 'Israel', 'population': 9500000, 'GDP Per Capita': 45000}, {'name': 'Iran', 'population': 85000000, 'GDP Per Capita': 8000}, {'name': 'India', 'population': 1400000000, 'GDP Per Capita': 2200}]}\n"
     ]
    }
   ],
   "source": [
    "for text in chain.stream(input={\"countries\":[\"Israel\",\"Iran\",\"India\"]}):\n",
    "    print(text,flush=True)"
   ]
  },
  {
   "cell_type": "code",
   "execution_count": 39,
   "id": "5e0313d5-31ac-4821-9540-f9006f488024",
   "metadata": {},
   "outputs": [
    {
     "name": "stdout",
     "output_type": "stream",
     "text": [
      "{'countries': [{'name': ''}]}\n",
      "{'countries': [{'name': 'Israel', 'population': 9500000}]}\n",
      "{'countries': [{'name': 'Israel', 'population': 9500000, 'GDP Per Capita': 45000}, {'name': 'Iran', 'population': 85000}]}\n",
      "{'countries': [{'name': 'Israel', 'population': 9500000, 'GDP Per Capita': 45000}, {'name': 'Iran', 'population': 85000000, 'GDP Per Capita': 8000}, {'name': 'India'}]}\n",
      "{'countries': [{'name': 'Israel', 'population': 9500000, 'GDP Per Capita': 45000}, {'name': 'Iran', 'population': 85000000, 'GDP Per Capita': 8000}, {'name': 'India', 'population': 1400000000, 'GDP Per Capita': 2200}]}\n"
     ]
    }
   ],
   "source": [
    "async for text in chain.astream(input={\"countries\":[\"Israel\",\"Iran\",\"India\"]}):\n",
    "    print(text,flush=True)"
   ]
  },
  {
   "cell_type": "code",
   "execution_count": 47,
   "id": "14cc055e-298b-4fa9-b3b9-eb147d3c92c1",
   "metadata": {},
   "outputs": [],
   "source": [
    "def extractCountryAndPopulationStream(inputStream):\n",
    "    seen=set()\n",
    "    streamingResults=[]  \n",
    "    if not isinstance(inputStream,dict):\n",
    "        return \"\"\n",
    "    if \"countries\" not in inputStream:\n",
    "        return \"\"\n",
    "    countries=inputStream['countries']\n",
    "    if not isinstance(countries,list):\n",
    "        return \"\"\n",
    "    for country in countries:\n",
    "        name=country.get(\"name\")\n",
    "        population=country.get(\"population\")\n",
    "        gdpPerCapita=country.get(\"GDP Per Capita\")\n",
    "        if name is None or population is None or gdpPerCapita is None:\n",
    "            continue\n",
    "        if (name,population,gdpPerCapita) not in seen:\n",
    "            seen.add((name,population,gdpPerCapita))\n",
    "            streamingResults.append((name,population,gdpPerCapita))\n",
    "    return streamingResults"
   ]
  },
  {
   "cell_type": "code",
   "execution_count": 51,
   "id": "9887a297-553f-4a69-b9db-281856fec40a",
   "metadata": {},
   "outputs": [],
   "source": [
    "chain=prompt|llmGemini|JsonOutputParser()|RunnableLambda(extractCountryAndPopulationStream)"
   ]
  },
  {
   "cell_type": "code",
   "execution_count": 52,
   "id": "032738a9-fbd0-4b9c-acce-236072cd6762",
   "metadata": {},
   "outputs": [
    {
     "name": "stdout",
     "output_type": "stream",
     "text": [
      "[('Israel', 9500000, 45000), ('Iran', 85000000, 8000), ('India', 1400000000, 2200)]\n"
     ]
    }
   ],
   "source": [
    "for text in chain.stream(input={\"countries\":[\"Israel\",\"Iran\",\"India\"]}):\n",
    "    print(text,flush=True)"
   ]
  },
  {
   "cell_type": "markdown",
   "id": "dfbd6094-9862-453c-8e9d-559f21e4fe5e",
   "metadata": {},
   "source": [
    "<h3> Fixing with Generator Async Function to get country and population pair in tuple</h3>"
   ]
  },
  {
   "cell_type": "code",
   "execution_count": 53,
   "id": "e2362e3c-d724-4193-81ac-87595443390e",
   "metadata": {},
   "outputs": [],
   "source": [
    "async def extractCountryAndPopulation(inputStream):\n",
    "    seen=set()\n",
    "    async for inputs in inputStream:  \n",
    "        if not isinstance(inputs,dict):\n",
    "            continue\n",
    "        if \"countries\" not in inputs:\n",
    "            continue\n",
    "        countries=inputs['countries']\n",
    "        if not isinstance(countries,list):\n",
    "            continue\n",
    "        for country in countries:\n",
    "            name=country.get(\"name\")\n",
    "            population=country.get(\"population\")\n",
    "            gdpPerCapita=country.get(\"GDP Per Capita\")\n",
    "            if name is None or population is None or gdpPerCapita is None:\n",
    "                continue\n",
    "            if (name,population,gdpPerCapita) not in seen:\n",
    "                seen.add((name,population,gdpPerCapita))\n",
    "                yield((name,population,gdpPerCapita))"
   ]
  },
  {
   "cell_type": "code",
   "execution_count": 54,
   "id": "d3b48a67-2215-4693-8442-99cd92320307",
   "metadata": {},
   "outputs": [],
   "source": [
    "chain=prompt|llmGemini|JsonOutputParser()|RunnableGenerator(extractCountryAndPopulation)"
   ]
  },
  {
   "cell_type": "code",
   "execution_count": 57,
   "id": "56a126c1-7b9c-46e4-9567-322bdba83b2f",
   "metadata": {},
   "outputs": [
    {
     "name": "stdout",
     "output_type": "stream",
     "text": [
      "('Israel', 9500000, 45000)\n",
      "('Iran', 88000000, 8000)\n",
      "('India', 1400000000, 2000)\n"
     ]
    }
   ],
   "source": [
    "async for text in chain.astream(input={\"countries\":[\"Israel\",\"Iran\",\"India\"]}):\n",
    "    print(text,flush=True)"
   ]
  },
  {
   "cell_type": "code",
   "execution_count": null,
   "id": "57c6d63a-d18d-4aee-b2d4-5b4c65648ab0",
   "metadata": {},
   "outputs": [],
   "source": []
  },
  {
   "cell_type": "markdown",
   "id": "005763e9-f88d-4cde-8ca7-4f9688861d23",
   "metadata": {},
   "source": [
    "<h3>Astream Events</h3>"
   ]
  },
  {
   "cell_type": "code",
   "execution_count": 58,
   "id": "9174a33d-a851-46e1-a9e2-e606db8c0858",
   "metadata": {},
   "outputs": [],
   "source": [
    "chain=prompt|llmGemini|JsonOutputParser()"
   ]
  },
  {
   "cell_type": "code",
   "execution_count": 59,
   "id": "84081bd7-a0f4-4af6-9416-a8c475daa8f8",
   "metadata": {
    "scrolled": true
   },
   "outputs": [
    {
     "name": "stdout",
     "output_type": "stream",
     "text": [
      "on_chain_start\n",
      "on_prompt_start\n",
      "on_prompt_end\n",
      "on_chat_model_start\n",
      "on_chat_model_stream\n",
      "on_parser_start\n",
      "on_chat_model_stream\n",
      "on_parser_stream\n",
      "on_chain_stream\n",
      "on_chat_model_stream\n",
      "on_parser_stream\n",
      "on_chain_stream\n",
      "on_chat_model_stream\n",
      "on_parser_stream\n",
      "on_chain_stream\n",
      "on_chat_model_stream\n",
      "on_parser_stream\n",
      "on_chain_stream\n",
      "on_chat_model_stream\n",
      "on_parser_stream\n",
      "on_chain_stream\n",
      "on_chat_model_end\n",
      "on_parser_end\n",
      "on_chain_end\n"
     ]
    }
   ],
   "source": [
    "async for event in chain.astream_events(version=\"v2\",input={\"countries\":[\"Israel\",\"Iran\",\"India\"]}):\n",
    "    print(event['event'])"
   ]
  },
  {
   "cell_type": "markdown",
   "id": "241aaaed-5d88-40c5-bc42-a1fa1c457920",
   "metadata": {},
   "source": [
    "<h3> Filtering Events </h3>"
   ]
  },
  {
   "cell_type": "code",
   "execution_count": 60,
   "id": "d68d0fed-6c5c-4e59-b0c6-8f86fd115cf7",
   "metadata": {},
   "outputs": [],
   "source": [
    "chain=prompt|llmGemini|JsonOutputParser().with_config(config={\"run_name\":\"outputParser\"})"
   ]
  },
  {
   "cell_type": "code",
   "execution_count": 61,
   "id": "b55e3de8-8ccc-4f1f-a619-9a1f0c2b64f9",
   "metadata": {},
   "outputs": [
    {
     "name": "stdout",
     "output_type": "stream",
     "text": [
      "on_parser_start\n",
      "on_parser_stream\n",
      "on_parser_stream\n",
      "on_parser_stream\n",
      "on_parser_stream\n",
      "on_parser_end\n"
     ]
    }
   ],
   "source": [
    "async for event in chain.astream_events(\n",
    "    version=\"v2\",\n",
    "    input={\"countries\":[\"Japan\",\"USA\",\"Germany\"]},\n",
    "    include_names=[\"outputParser\"]\n",
    "):\n",
    "    print(event['event'])"
   ]
  },
  {
   "cell_type": "code",
   "execution_count": 62,
   "id": "3196881e-ccee-4d59-bd2d-6adcb6069bd6",
   "metadata": {},
   "outputs": [
    {
     "name": "stdout",
     "output_type": "stream",
     "text": [
      "on_chat_model_start\n",
      "on_chat_model_stream\n",
      "on_chat_model_stream\n",
      "on_chat_model_stream\n",
      "on_chat_model_stream\n",
      "on_chat_model_stream\n",
      "on_chat_model_stream\n",
      "on_chat_model_end\n"
     ]
    }
   ],
   "source": [
    "async for event in chain.astream_events(\n",
    "    version=\"v2\",\n",
    "    input={\"countries\":[\"Japan\",\"USA\",\"Germany\"]},\n",
    "    include_types=[\"chat_model\"]\n",
    "):\n",
    "    print(event['event'])"
   ]
  },
  {
   "cell_type": "code",
   "execution_count": null,
   "id": "f2b1aba0-9150-452e-8140-156edfd24fb7",
   "metadata": {},
   "outputs": [],
   "source": []
  }
 ],
 "metadata": {
  "kernelspec": {
   "display_name": "Python 3 (ipykernel)",
   "language": "python",
   "name": "python3"
  },
  "language_info": {
   "codemirror_mode": {
    "name": "ipython",
    "version": 3
   },
   "file_extension": ".py",
   "mimetype": "text/x-python",
   "name": "python",
   "nbconvert_exporter": "python",
   "pygments_lexer": "ipython3",
   "version": "3.11.9"
  }
 },
 "nbformat": 4,
 "nbformat_minor": 5
}
