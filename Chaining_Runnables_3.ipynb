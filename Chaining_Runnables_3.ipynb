{
 "cells": [
  {
   "cell_type": "code",
   "execution_count": 1,
   "id": "953bd3e9-fdaf-4817-9898-3e9c6345fa3f",
   "metadata": {},
   "outputs": [
    {
     "name": "stderr",
     "output_type": "stream",
     "text": [
      "C:\\Users\\MSI 1\\.conda\\envs\\oaivenv\\Lib\\site-packages\\tqdm\\auto.py:21: TqdmWarning: IProgress not found. Please update jupyter and ipywidgets. See https://ipywidgets.readthedocs.io/en/stable/user_install.html\n",
      "  from .autonotebook import tqdm as notebook_tqdm\n"
     ]
    }
   ],
   "source": [
    "from langchain.agents import AgentExecutor, create_tool_calling_agent\n",
    "from langchain_core.runnables import RunnablePassthrough,RunnableLambda, Runnable, RunnableParallel,RunnableConfig\n",
    "from langchain_core.messages import AIMessage\n",
    "from dotenv import load_dotenv,find_dotenv\n",
    "from langchain_google_genai import ChatGoogleGenerativeAI\n",
    "from langchain_openai import ChatOpenAI\n",
    "from langchain.tools import tool\n",
    "from langchain_core.prompts import ChatPromptTemplate,SystemMessagePromptTemplate, HumanMessagePromptTemplate\n",
    "from langchain_core.output_parsers import JsonOutputParser\n",
    "from operator import itemgetter\n",
    "from langchain.embeddings import SentenceTransformerEmbeddings\n",
    "import json\n",
    "from langchain_core.output_parsers import StrOutputParser\n",
    "from langchain_community.vectorstores import FAISS,Chroma\n",
    "from operator import itemgetter\n",
    "import time\n",
    "import grandalf"
   ]
  },
  {
   "cell_type": "code",
   "execution_count": 2,
   "id": "26b52782-8a0b-4c7e-b240-32dded0d75a8",
   "metadata": {},
   "outputs": [
    {
     "data": {
      "text/plain": [
       "True"
      ]
     },
     "execution_count": 2,
     "metadata": {},
     "output_type": "execute_result"
    }
   ],
   "source": [
    "load_dotenv(find_dotenv(\"D:\\LLM Courses\\Master Langchain Udemy\\.env\"))"
   ]
  },
  {
   "cell_type": "code",
   "execution_count": 3,
   "id": "7c68dccc-a9e1-4288-bb46-98661c2bdd88",
   "metadata": {},
   "outputs": [],
   "source": [
    "llm=ChatGoogleGenerativeAI(model=\"gemini-1.5-flash\")\n",
    "# llm=ChatOpenAI(model=\"gpt-3.5-turbo\")"
   ]
  },
  {
   "cell_type": "code",
   "execution_count": 4,
   "id": "9c838402-c62b-4d53-a16c-c89e0c07e971",
   "metadata": {},
   "outputs": [],
   "source": [
    "prompt=ChatPromptTemplate.from_template(\n",
    "                        template=\"Tell me a joke about {topic}\")"
   ]
  },
  {
   "cell_type": "code",
   "execution_count": 41,
   "id": "47941594-aa0c-46e7-9e99-fa563f9cf0ad",
   "metadata": {},
   "outputs": [
    {
     "data": {
      "text/plain": [
       "'Why did the bear say no to dessert?\\n\\nBecause he was stuffed! 🐻 🍰 \\n'"
      ]
     },
     "execution_count": 41,
     "metadata": {},
     "output_type": "execute_result"
    }
   ],
   "source": [
    "chain=prompt|llm|StrOutputParser()\n",
    "chain.invoke(input={'topic':\"Bears\"})"
   ]
  },
  {
   "cell_type": "code",
   "execution_count": 38,
   "id": "d90b5fe7-6813-48a7-9b44-c930e6c6bb6b",
   "metadata": {},
   "outputs": [],
   "source": [
    "chainRitzStyle=RunnablePassthrough.assign(topic=itemgetter(\"question\")|prompt).assign(result=itemgetter('topic')|llm).assign(output=itemgetter('result')|StrOutputParser())|RunnableLambda(lambda x:x['output'])"
   ]
  },
  {
   "cell_type": "code",
   "execution_count": 39,
   "id": "ab9f0c7c-8093-47ea-9a4f-1cb7d4c14579",
   "metadata": {},
   "outputs": [
    {
     "data": {
      "text/plain": [
       "'Why did the bear say no to dessert?\\n\\nBecause he was already stuffed! 🐻 🍨 \\n'"
      ]
     },
     "execution_count": 39,
     "metadata": {},
     "output_type": "execute_result"
    }
   ],
   "source": [
    "chainRitzStyle.invoke(input={'question':\"Bears\"})"
   ]
  },
  {
   "cell_type": "markdown",
   "id": "b5fe9b4d-467c-45f1-a187-caaad3c4b88b",
   "metadata": {},
   "source": [
    "<h3> Coercion</h3>"
   ]
  },
  {
   "cell_type": "code",
   "execution_count": 42,
   "id": "99f15b56-06eb-4331-8ad0-04181257c28d",
   "metadata": {},
   "outputs": [],
   "source": [
    "analysisPrompt=ChatPromptTemplate.from_template(\n",
    "    template=\"Is this a funny joke? {joke}\"\n",
    ")"
   ]
  },
  {
   "cell_type": "code",
   "execution_count": 46,
   "id": "f5600d93-33fc-45fd-83c4-b2ad2575f06f",
   "metadata": {},
   "outputs": [],
   "source": [
    "combinedChain={\"joke\":chainRitzStyle}|analysisPrompt|llm|StrOutputParser()"
   ]
  },
  {
   "cell_type": "code",
   "execution_count": 47,
   "id": "135b7258-9c06-4659-bf5b-fd458d91496a",
   "metadata": {},
   "outputs": [
    {
     "data": {
      "text/plain": [
       "'Yes, that\\'s a funny joke! It\\'s a classic \"dad joke\" that relies on a pun. \\n\\nHere\\'s why it works:\\n\\n* **Wordplay:**  The joke plays on the double meaning of \"stuffed.\" It can mean \"full of food\" and it can also mean \"filled with stuffing,\" which is something you might find inside a Thanksgiving turkey. \\n* **Unexpected Twist:**  The listener expects a more traditional joke about bears, but the punchline uses a clever twist on the word \"stuffed\" to create a humorous surprise.\\n* **Simple and Relatable:**  The joke is easy to understand, even for young children. It also relates to a common experience of feeling full after a meal.\\n\\nOverall, it\\'s a lighthearted and silly joke that\\'s sure to get a chuckle. \\n'"
      ]
     },
     "execution_count": 47,
     "metadata": {},
     "output_type": "execute_result"
    }
   ],
   "source": [
    "combinedChain.invoke(input={'question':\"Bears\"})"
   ]
  },
  {
   "cell_type": "markdown",
   "id": "1fac6fe2-bbe3-4e30-ada5-a11f059ad972",
   "metadata": {},
   "source": [
    "<h3> Using the Pipe Method</h3>"
   ]
  },
  {
   "cell_type": "code",
   "execution_count": 50,
   "id": "b2eade1d-0b6f-4e7f-bc96-e24d22d68696",
   "metadata": {},
   "outputs": [],
   "source": [
    "composedChainWithPipe=RunnablePassthrough.assign(joke=chainRitzStyle).pipe(analysisPrompt).pipe(llm).pipe(StrOutputParser())"
   ]
  },
  {
   "cell_type": "code",
   "execution_count": 51,
   "id": "5e804569-5d2d-4637-82bd-b9117892194d",
   "metadata": {},
   "outputs": [
    {
     "data": {
      "text/plain": [
       "'Yes, that\\'s a funny joke! It\\'s a classic pun using the word \"stuffed\" to refer to both being full after eating and the act of filling a stuffed animal. \\n\\nHere\\'s why it works:\\n\\n* **Unexpected twist:** The setup leads you to expect a reason related to bears, but the punchline is a play on words.\\n* **Simple and relatable:**  Everyone can understand the feeling of being \"stuffed\" after a big meal.\\n* **Visual humor:** The image of a full bear refusing dessert is amusing.\\n\\nOverall, it\\'s a short, clever, and easily understood joke that makes people smile. \\n'"
      ]
     },
     "execution_count": 51,
     "metadata": {},
     "output_type": "execute_result"
    }
   ],
   "source": [
    "composedChainWithPipe.invoke(input={'question':\"Bears\"})"
   ]
  },
  {
   "cell_type": "code",
   "execution_count": null,
   "id": "bdd64240-b40f-4f5a-82e6-d0e13ee391fa",
   "metadata": {},
   "outputs": [],
   "source": []
  }
 ],
 "metadata": {
  "kernelspec": {
   "display_name": "Python 3 (ipykernel)",
   "language": "python",
   "name": "python3"
  },
  "language_info": {
   "codemirror_mode": {
    "name": "ipython",
    "version": 3
   },
   "file_extension": ".py",
   "mimetype": "text/x-python",
   "name": "python",
   "nbconvert_exporter": "python",
   "pygments_lexer": "ipython3",
   "version": "3.11.9"
  }
 },
 "nbformat": 4,
 "nbformat_minor": 5
}
