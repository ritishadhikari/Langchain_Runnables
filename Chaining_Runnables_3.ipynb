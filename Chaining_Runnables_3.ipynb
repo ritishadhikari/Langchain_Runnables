{
 "cells": [
  {
   "cell_type": "code",
   "execution_count": 1,
   "id": "953bd3e9-fdaf-4817-9898-3e9c6345fa3f",
   "metadata": {},
   "outputs": [],
   "source": [
    "from langchain.agents import AgentExecutor, create_tool_calling_agent\n",
    "from langchain_core.runnables import RunnablePassthrough,RunnableLambda, Runnable, RunnableParallel,RunnableConfig\n",
    "from langchain_core.messages import AIMessage\n",
    "from dotenv import load_dotenv,find_dotenv\n",
    "from langchain_google_genai import ChatGoogleGenerativeAI\n",
    "from langchain_openai import ChatOpenAI\n",
    "from langchain.tools import tool\n",
    "from langchain_core.prompts import ChatPromptTemplate,SystemMessagePromptTemplate, HumanMessagePromptTemplate\n",
    "from langchain_core.output_parsers import JsonOutputParser\n",
    "from operator import itemgetter\n",
    "from langchain.embeddings import SentenceTransformerEmbeddings\n",
    "import json\n",
    "from langchain_core.output_parsers import StrOutputParser\n",
    "from langchain_community.vectorstores import FAISS,Chroma\n",
    "from operator import itemgetter\n",
    "import time\n",
    "import grandalf"
   ]
  },
  {
   "cell_type": "code",
   "execution_count": 2,
   "id": "26b52782-8a0b-4c7e-b240-32dded0d75a8",
   "metadata": {},
   "outputs": [
    {
     "data": {
      "text/plain": [
       "True"
      ]
     },
     "execution_count": 2,
     "metadata": {},
     "output_type": "execute_result"
    }
   ],
   "source": [
    "load_dotenv(find_dotenv(\"../.env\"))"
   ]
  },
  {
   "cell_type": "code",
   "execution_count": 4,
   "id": "7c68dccc-a9e1-4288-bb46-98661c2bdd88",
   "metadata": {},
   "outputs": [],
   "source": [
    "llm=ChatGoogleGenerativeAI(model=\"gemini-2.0-flash-001\")\n",
    "# llm=ChatOpenAI(model=\"gpt-3.5-turbo\")"
   ]
  },
  {
   "cell_type": "code",
   "execution_count": 5,
   "id": "9c838402-c62b-4d53-a16c-c89e0c07e971",
   "metadata": {},
   "outputs": [],
   "source": [
    "prompt=ChatPromptTemplate.from_template(\n",
    "                        template=\"Tell me a joke about {topic}\")"
   ]
  },
  {
   "cell_type": "code",
   "execution_count": 6,
   "id": "47941594-aa0c-46e7-9e99-fa563f9cf0ad",
   "metadata": {},
   "outputs": [
    {
     "data": {
      "text/plain": [
       "'Why did the bear cross the playground?\\n\\nTo get to the other slide!'"
      ]
     },
     "execution_count": 6,
     "metadata": {},
     "output_type": "execute_result"
    }
   ],
   "source": [
    "chain=prompt|llm|StrOutputParser()\n",
    "chain.invoke(input={'topic':\"Bears\"})"
   ]
  },
  {
   "cell_type": "code",
   "execution_count": 7,
   "id": "d90b5fe7-6813-48a7-9b44-c930e6c6bb6b",
   "metadata": {},
   "outputs": [],
   "source": [
    "chainRitzStyle=RunnablePassthrough.assign(topic=itemgetter(\"question\")|prompt).assign(result=itemgetter('topic')|llm).assign(output=itemgetter('result')|StrOutputParser())|RunnableLambda(lambda x:x['output'])"
   ]
  },
  {
   "cell_type": "code",
   "execution_count": 9,
   "id": "ab9f0c7c-8093-47ea-9a4f-1cb7d4c14579",
   "metadata": {},
   "outputs": [
    {
     "data": {
      "text/plain": [
       "\"Why did the bear get a bad grade in school?\\n\\nBecause he couldn't bear to read!\""
      ]
     },
     "execution_count": 9,
     "metadata": {},
     "output_type": "execute_result"
    }
   ],
   "source": [
    "chainRitzStyle.invoke(input={'question':\"Bears\"})"
   ]
  },
  {
   "cell_type": "markdown",
   "id": "b5fe9b4d-467c-45f1-a187-caaad3c4b88b",
   "metadata": {},
   "source": [
    "<h3> Coercion</h3>"
   ]
  },
  {
   "cell_type": "code",
   "execution_count": 12,
   "id": "99f15b56-06eb-4331-8ad0-04181257c28d",
   "metadata": {},
   "outputs": [],
   "source": [
    "analysisPrompt=ChatPromptTemplate.from_template(\n",
    "    template=\"Is this a funny joke? {joke}\"\n",
    ")"
   ]
  },
  {
   "cell_type": "code",
   "execution_count": 13,
   "id": "f5600d93-33fc-45fd-83c4-b2ad2575f06f",
   "metadata": {},
   "outputs": [],
   "source": [
    "combinedChain={\"joke\":chainRitzStyle}|analysisPrompt|llm|StrOutputParser()"
   ]
  },
  {
   "cell_type": "code",
   "execution_count": 14,
   "id": "135b7258-9c06-4659-bf5b-fd458d91496a",
   "metadata": {},
   "outputs": [
    {
     "data": {
      "text/plain": [
       "'Yes, that\\'s a funny joke! Here\\'s why:\\n\\n*   **Pun:** The humor comes from the pun on the word \"parking\" and \"paw-king\". It\\'s unexpected and plays on the bear\\'s paws.\\n*   **Absurdity:** The image of a bear meticulously \"paw-king\" silverware is silly and incongruous. It creates a funny mental picture.\\n*   **Relatability:** Everyone knows what \"parking\" is, and the unexpected twist with the bear makes it humorous.\\n*   **Simple and Clean:** The joke is short, easy to understand, and doesn\\'t require any special knowledge.\\n\\nOverall, it\\'s a lighthearted, pun-based joke that relies on a funny image and wordplay.'"
      ]
     },
     "execution_count": 14,
     "metadata": {},
     "output_type": "execute_result"
    }
   ],
   "source": [
    "combinedChain.invoke(input={'question':\"Bears\"})"
   ]
  },
  {
   "cell_type": "markdown",
   "id": "1fac6fe2-bbe3-4e30-ada5-a11f059ad972",
   "metadata": {},
   "source": [
    "<h3> Using the Pipe Method</h3>"
   ]
  },
  {
   "cell_type": "code",
   "execution_count": 15,
   "id": "b2eade1d-0b6f-4e7f-bc96-e24d22d68696",
   "metadata": {},
   "outputs": [],
   "source": [
    "composedChainWithPipe=RunnablePassthrough.assign(joke=chainRitzStyle).pipe(analysisPrompt).pipe(llm).pipe(StrOutputParser())"
   ]
  },
  {
   "cell_type": "code",
   "execution_count": 16,
   "id": "5e804569-5d2d-4637-82bd-b9117892194d",
   "metadata": {},
   "outputs": [
    {
     "data": {
      "text/plain": [
       "'Yes, that\\'s a funny joke! Here\\'s why:\\n\\n*   **Play on Words:** The humor comes from the double meaning of \"polar.\" It refers both to polar bears (who live in cold, icy environments) and to a chemical property (polar molecules dissolve in water).\\n*   **Unexpected Twist:** You expect a joke about a bear to be something related to its size, strength, or habitat, not its chemical composition. The unexpected connection is what makes it amusing.\\n*   **Clean Humor:** It\\'s a pun, making it universally appealing and safe for all audiences.\\n\\nSo, it\\'s a classic example of a pun-based joke that relies on wordplay for its humor.'"
      ]
     },
     "execution_count": 16,
     "metadata": {},
     "output_type": "execute_result"
    }
   ],
   "source": [
    "composedChainWithPipe.invoke(input={'question':\"Bears\"})"
   ]
  },
  {
   "cell_type": "code",
   "execution_count": null,
   "id": "bdd64240-b40f-4f5a-82e6-d0e13ee391fa",
   "metadata": {},
   "outputs": [],
   "source": []
  }
 ],
 "metadata": {
  "kernelspec": {
   "display_name": "lcnenv",
   "language": "python",
   "name": "python3"
  },
  "language_info": {
   "codemirror_mode": {
    "name": "ipython",
    "version": 3
   },
   "file_extension": ".py",
   "mimetype": "text/x-python",
   "name": "python",
   "nbconvert_exporter": "python",
   "pygments_lexer": "ipython3",
   "version": "3.11.11"
  }
 },
 "nbformat": 4,
 "nbformat_minor": 5
}
