{
 "cells": [
  {
   "cell_type": "code",
   "execution_count": 1,
   "id": "1656aa2c-8e60-4b99-9b91-f71c683c7228",
   "metadata": {},
   "outputs": [],
   "source": [
    "from langchain.agents import AgentExecutor, create_tool_calling_agent\n",
    "from langchain_core.runnables import RunnablePassthrough,RunnableLambda, Runnable, RunnableParallel,RunnableConfig,RunnableGenerator\n",
    "from langchain_core.messages import AIMessage\n",
    "from dotenv import load_dotenv,find_dotenv\n",
    "from langchain_google_genai import ChatGoogleGenerativeAI\n",
    "from langchain_openai import ChatOpenAI\n",
    "from langchain.tools import tool\n",
    "from langchain_core.prompts import ChatPromptTemplate,SystemMessagePromptTemplate, HumanMessagePromptTemplate\n",
    "from langchain_core.output_parsers import JsonOutputParser\n",
    "from operator import itemgetter\n",
    "from langchain.embeddings import SentenceTransformerEmbeddings\n",
    "import json\n",
    "from langchain_core.output_parsers import StrOutputParser\n",
    "from langchain_community.vectorstores import FAISS,Chroma\n",
    "from operator import itemgetter\n",
    "import time\n",
    "import grandalf\n",
    "from typing import Iterator,List,AsyncIterator"
   ]
  },
  {
   "cell_type": "code",
   "execution_count": 2,
   "id": "d891fb1d-9004-4e16-b68c-4885cee49307",
   "metadata": {},
   "outputs": [
    {
     "data": {
      "text/plain": [
       "True"
      ]
     },
     "execution_count": 2,
     "metadata": {},
     "output_type": "execute_result"
    }
   ],
   "source": [
    "load_dotenv(find_dotenv(\"../.env\"))"
   ]
  },
  {
   "cell_type": "code",
   "execution_count": 8,
   "id": "9914f24a-6c77-4ccd-bc2e-50405bd1b6c4",
   "metadata": {},
   "outputs": [],
   "source": [
    "llm=ChatGoogleGenerativeAI(model=\"gemini-2.0-flash-001\")\n",
    "# llm=ChatOpenAI(model=\"gpt-3.5-turbo\")"
   ]
  },
  {
   "cell_type": "code",
   "execution_count": 10,
   "id": "c169d948-11c4-45d7-8077-32d676072fce",
   "metadata": {},
   "outputs": [],
   "source": [
    "def lengthFunction(text:str):\n",
    "    return len(text)\n",
    "\n",
    "def _multipleLengthFunction(text1:str,text2:str):\n",
    "    return len(text1)*len(text2)\n",
    "\n",
    "def multipleLengthFunction(_dict:dict):\n",
    "    return _multipleLengthFunction(text1=_dict['text1'],text2=_dict['text2'])"
   ]
  },
  {
   "cell_type": "code",
   "execution_count": 11,
   "id": "97d8f34d-afd7-4b7c-b963-96f1ecfaafae",
   "metadata": {},
   "outputs": [],
   "source": [
    "prompt=ChatPromptTemplate.from_template(template=\"What is {a}+{b}\")"
   ]
  },
  {
   "cell_type": "code",
   "execution_count": 12,
   "id": "e756cc06-4da3-48d1-8808-9b5168546306",
   "metadata": {},
   "outputs": [],
   "source": [
    "chain=(\n",
    "    {\n",
    "        \"a\":itemgetter(\"foo\")|RunnableLambda(func=lengthFunction),\n",
    "        \"b\":\n",
    "            {\n",
    "                \"text1\":itemgetter(\"foo\"),\n",
    "                \"text2\":itemgetter(\"bar\")\n",
    "            } | RunnableLambda(func=multipleLengthFunction)\n",
    "    } \n",
    "    | prompt \n",
    "    | llm \n",
    "    | StrOutputParser()\n",
    ")\n"
   ]
  },
  {
   "cell_type": "code",
   "execution_count": 13,
   "id": "dd74dee1-5782-44e7-901b-16d6547f5a14",
   "metadata": {},
   "outputs": [
    {
     "data": {
      "text/plain": [
       "'3 + 12 = 15'"
      ]
     },
     "execution_count": 13,
     "metadata": {},
     "output_type": "execute_result"
    }
   ],
   "source": [
    "chain.invoke(input={\"foo\":\"bar\",\"bar\":\"ritz\"})"
   ]
  },
  {
   "cell_type": "markdown",
   "id": "4106466f-5ede-4460-bba1-629cde8948c4",
   "metadata": {},
   "source": [
    "<h3>Using Lambda in Streaming</h3>"
   ]
  },
  {
   "cell_type": "code",
   "execution_count": 14,
   "id": "a4e4c81d-326c-482b-a8d8-16b52666ffb1",
   "metadata": {},
   "outputs": [],
   "source": [
    "prompt=ChatPromptTemplate.from_template(\n",
    "    template=\"Write a comma-separated list of 5 animals similar to: {animal}. Do not include numbers or bullets, spaces or newlines\"\n",
    ")"
   ]
  },
  {
   "cell_type": "code",
   "execution_count": 15,
   "id": "29502b18-6252-40ff-b5cb-71ff98e91f7e",
   "metadata": {},
   "outputs": [],
   "source": [
    "strChain={'animal':RunnablePassthrough()} |prompt | llm |StrOutputParser()"
   ]
  },
  {
   "cell_type": "code",
   "execution_count": 16,
   "id": "292d31b4-f44b-40ae-8911-3613e8b74596",
   "metadata": {},
   "outputs": [
    {
     "data": {
      "text/plain": [
       "'Eel,Worm,LeglessLizard,Amphisbaenian,Caecilian'"
      ]
     },
     "execution_count": 16,
     "metadata": {},
     "output_type": "execute_result"
    }
   ],
   "source": [
    "strChain.invoke(input=\"Snake\")"
   ]
  },
  {
   "cell_type": "code",
   "execution_count": 17,
   "id": "6b6b74c8-209b-4c33-8916-cf85f09eb108",
   "metadata": {},
   "outputs": [
    {
     "data": {
      "text/plain": [
       "'Eel,Worm,LeglessLizard,Amphisbaena,Caecilian'"
      ]
     },
     "execution_count": 17,
     "metadata": {},
     "output_type": "execute_result"
    }
   ],
   "source": [
    "strChain=prompt | llm |StrOutputParser()\n",
    "strChain.invoke(input={\"animal\":\"Snake\"})"
   ]
  },
  {
   "cell_type": "code",
   "execution_count": 18,
   "id": "ea43b005-ae42-4de9-8c4d-6d3356f48fe4",
   "metadata": {},
   "outputs": [
    {
     "name": "stdout",
     "output_type": "stream",
     "text": [
      "worm|,eel,leglesslizard,slowworm,caecilian|"
     ]
    }
   ],
   "source": [
    "for chunk in strChain.stream(input=\"Snake\"):\n",
    "    print(chunk,flush=True,end=\"|\")"
   ]
  },
  {
   "cell_type": "code",
   "execution_count": 19,
   "id": "628cd347-6694-4479-b8ad-5c23e45e67fb",
   "metadata": {},
   "outputs": [],
   "source": [
    "## Custom Parser that splits an iterator of llm tokens into a list of strings separated by commas\n",
    "# The entire chunk is generated and passed through the Runnable Lambda\n",
    "\n",
    "def splitIntoList(input:Iterator[str]) -> Iterator[list[str]]:\n",
    "    # Hold Partial Input, until we get a Comma\n",
    "    buffer=\"\"\n",
    "    for chunk in input:  # Chunks are actually the individual letters for stream\n",
    "        # print(chunk)  # to be commented\n",
    "        buffer+=chunk\n",
    "        while \",\" in buffer:\n",
    "            commaIndex=buffer.index(\",\")\n",
    "            yield [buffer[:commaIndex].strip()]\n",
    "            if commaIndex==len(buffer)-1:\n",
    "                buffer=\"\"\n",
    "            # else:\n",
    "            #     buffer=buffer[commaIndex+1:].strip()\n",
    "    yield [buffer.strip()]"
   ]
  },
  {
   "cell_type": "code",
   "execution_count": 20,
   "id": "7f7fd1da-8480-46b5-b65f-bb35d3d4a9a2",
   "metadata": {},
   "outputs": [],
   "source": [
    "listChain={'animal':RunnablePassthrough()} |prompt | llm |StrOutputParser()|RunnableLambda(func=splitIntoList)"
   ]
  },
  {
   "cell_type": "code",
   "execution_count": 21,
   "id": "2796457a-8e55-4832-8eae-9984a3467e60",
   "metadata": {},
   "outputs": [
    {
     "name": "stdout",
     "output_type": "stream",
     "text": [
      "['worm']\n",
      "['eel']\n",
      "['leglesslizard']\n",
      "['amphisbaena']\n",
      "['caecilian']\n"
     ]
    }
   ],
   "source": [
    "for chunk in listChain.stream(input=\"snake\"):\n",
    "    print(chunk,flush=True)"
   ]
  },
  {
   "cell_type": "code",
   "execution_count": 22,
   "id": "e0b6ba27-be38-4d75-a228-2c6ad1d8c0ec",
   "metadata": {},
   "outputs": [
    {
     "name": "stdout",
     "output_type": "stream",
     "text": [
      "['spouse']\n",
      "['partner']\n",
      "['mate']\n",
      "['betterhalf']\n",
      "['significantother']\n"
     ]
    }
   ],
   "source": [
    "for chunk in listChain.stream(input=\"wife\"):\n",
    "    print(chunk,flush=True)"
   ]
  },
  {
   "cell_type": "markdown",
   "id": "8e9653eb-3795-4768-99c6-6c09aede374b",
   "metadata": {},
   "source": [
    "#### Async Iteration"
   ]
  },
  {
   "cell_type": "code",
   "execution_count": 23,
   "id": "f2703043-0329-4d84-b2cb-9869b42fdbff",
   "metadata": {},
   "outputs": [],
   "source": [
    "# Chunks wise splits are passed through each for loop \n",
    "async def asplitIntoList(input:AsyncIterator[str]) -> AsyncIterator[list[str]]:\n",
    "    # Hold Partial Input, until we get a Comma\n",
    "    async for (chunk) in input:  # here chunk are incremental chunks and input is the generator object\n",
    "        c=chunk\n",
    "        # print(c)  # comment it\n",
    "        if \",\" not in c:\n",
    "            yield [c]\n",
    "        else:\n",
    "            while \",\" in c:\n",
    "                commaIndex=c.index(\",\")\n",
    "                if c[:commaIndex].strip():\n",
    "                    yield [c[:commaIndex].strip()]\n",
    "                if commaIndex==len(c)-1:\n",
    "                    c=\"\"\n",
    "                else:\n",
    "                    c=c[commaIndex+1:].strip()\n",
    "    yield [c.strip()]"
   ]
  },
  {
   "cell_type": "code",
   "execution_count": 90,
   "id": "edee990f-7c57-43ed-8865-f8be0eeea81b",
   "metadata": {},
   "outputs": [
    {
     "data": {
      "text/plain": [
       "''"
      ]
     },
     "execution_count": 90,
     "metadata": {},
     "output_type": "execute_result"
    }
   ],
   "source": [
    "a=\"snake,\"\n",
    "a[6:]"
   ]
  },
  {
   "cell_type": "code",
   "execution_count": 25,
   "id": "2ad52284-befe-4d1b-846f-4a5ce555af44",
   "metadata": {},
   "outputs": [],
   "source": [
    "# Chunks wise splits are passed through each for loop \n",
    "async def asplitIntoList(\n",
    "    input: AsyncIterator[str],\n",
    ") -> AsyncIterator[List[str]]:  # async def\n",
    "    async for (\n",
    "        chunk\n",
    "    ) in input:  # here chunk are incremental chunks and input is the generator object\n",
    "        c=chunk\n",
    "        while \",\" in c:\n",
    "            comma_index = c.index(\",\")\n",
    "            if c[:comma_index].strip():\n",
    "                yield [c[:comma_index].strip()]\n",
    "            c = c[comma_index + 1 :]\n",
    "        else:\n",
    "            yield [c.strip()]\n"
   ]
  },
  {
   "cell_type": "code",
   "execution_count": 26,
   "id": "04822e9a-b66d-41d6-9f51-c31aff2b73ef",
   "metadata": {},
   "outputs": [],
   "source": [
    "alistChain={'animal':RunnablePassthrough()} |prompt | llm |StrOutputParser()|RunnableGenerator(transform=asplitIntoList)"
   ]
  },
  {
   "cell_type": "code",
   "execution_count": 27,
   "id": "7aefa971-f5f6-40a5-859a-9ce2a8d14e41",
   "metadata": {
    "scrolled": true
   },
   "outputs": [
    {
     "name": "stdout",
     "output_type": "stream",
     "text": [
      "['lion']\n",
      "['leopard']\n",
      "['jaguar']\n",
      "['cheetah']\n",
      "['snowleopard']\n"
     ]
    }
   ],
   "source": [
    "async for chunk in alistChain.astream(input=\"tiger\"):\n",
    "    print(chunk,flush=True)"
   ]
  },
  {
   "cell_type": "code",
   "execution_count": null,
   "id": "3ffd7984-f454-4169-a023-0b06684dc989",
   "metadata": {},
   "outputs": [],
   "source": []
  }
 ],
 "metadata": {
  "kernelspec": {
   "display_name": "lcnenv",
   "language": "python",
   "name": "python3"
  },
  "language_info": {
   "codemirror_mode": {
    "name": "ipython",
    "version": 3
   },
   "file_extension": ".py",
   "mimetype": "text/x-python",
   "name": "python",
   "nbconvert_exporter": "python",
   "pygments_lexer": "ipython3",
   "version": "3.11.11"
  }
 },
 "nbformat": 4,
 "nbformat_minor": 5
}
