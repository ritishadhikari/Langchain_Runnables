{
 "cells": [
  {
   "cell_type": "code",
   "execution_count": 1,
   "id": "860bf14a-ed28-4237-af86-78380da735b2",
   "metadata": {},
   "outputs": [
    {
     "name": "stderr",
     "output_type": "stream",
     "text": [
      "C:\\Users\\MSI 1\\.conda\\envs\\oaivenv\\Lib\\site-packages\\tqdm\\auto.py:21: TqdmWarning: IProgress not found. Please update jupyter and ipywidgets. See https://ipywidgets.readthedocs.io/en/stable/user_install.html\n",
      "  from .autonotebook import tqdm as notebook_tqdm\n",
      "C:\\Users\\MSI 1\\.conda\\envs\\oaivenv\\Lib\\site-packages\\pydantic\\_internal\\_fields.py:132: UserWarning: Field \"model_name\" in HuggingFaceInferenceAPIEmbeddings has conflict with protected namespace \"model_\".\n",
      "\n",
      "You may be able to resolve this warning by setting `model_config['protected_namespaces'] = ()`.\n",
      "  warnings.warn(\n"
     ]
    }
   ],
   "source": [
    "from langchain.agents import AgentExecutor, create_tool_calling_agent\n",
    "from langchain_core.runnables import RunnablePassthrough,RunnableLambda, Runnable, RunnableParallel,RunnableConfig,RunnableGenerator\n",
    "from langchain_core.messages import AIMessage\n",
    "from dotenv import load_dotenv,find_dotenv\n",
    "from langchain_google_genai import ChatGoogleGenerativeAI\n",
    "from langchain_openai import ChatOpenAI\n",
    "from langchain.tools.render import render_text_description\n",
    "from langchain.tools import tool\n",
    "from langchain_core.prompts import ChatPromptTemplate,SystemMessagePromptTemplate, HumanMessagePromptTemplate\n",
    "from langchain_core.output_parsers import JsonOutputParser\n",
    "from operator import itemgetter\n",
    "from langchain.embeddings import SentenceTransformerEmbeddings\n",
    "import json\n",
    "from langchain_core.output_parsers import StrOutputParser\n",
    "from langchain_community.vectorstores import FAISS,Chroma\n",
    "from operator import itemgetter\n",
    "import time\n",
    "import grandalf\n",
    "from typing import Iterator,List,AsyncIterator"
   ]
  },
  {
   "cell_type": "code",
   "execution_count": 4,
   "id": "996d079c-6eb9-40db-80c7-2faf32138202",
   "metadata": {},
   "outputs": [
    {
     "data": {
      "text/plain": [
       "True"
      ]
     },
     "execution_count": 4,
     "metadata": {},
     "output_type": "execute_result"
    }
   ],
   "source": [
    "load_dotenv(find_dotenv(\"D:\\LLM Courses\\Master Langchain Udemy\\.env\"))"
   ]
  },
  {
   "cell_type": "code",
   "execution_count": 5,
   "id": "e8095a86-0e72-4693-b42c-010629039b26",
   "metadata": {},
   "outputs": [],
   "source": [
    "llm=ChatGoogleGenerativeAI(model=\"gemini-1.5-flash\")"
   ]
  },
  {
   "cell_type": "code",
   "execution_count": 6,
   "id": "460d288e-bd55-4a16-8a5a-d4af1be158f6",
   "metadata": {},
   "outputs": [],
   "source": [
    "chain=RunnableParallel(\n",
    "    extra=RunnablePassthrough.assign(mult=lambda x:x['num']*2),  # Will return a Dictionary within a dictionary\n",
    "    modified=lambda x : x['num']*2  # Will return a Key-Value Pair                          \n",
    ")"
   ]
  },
  {
   "cell_type": "code",
   "execution_count": 7,
   "id": "91b6e8c9-0dab-492e-acdf-f678ff710297",
   "metadata": {},
   "outputs": [
    {
     "data": {
      "text/plain": [
       "{'extra': {'num': 3, 'mult': 6}, 'modified': 6}"
      ]
     },
     "execution_count": 7,
     "metadata": {},
     "output_type": "execute_result"
    }
   ],
   "source": [
    "chain.invoke(input={\"num\":3})"
   ]
  },
  {
   "cell_type": "markdown",
   "id": "a71b995e-87d1-4c9c-be95-8cf2daebe8e4",
   "metadata": {},
   "source": [
    "<h3> Application in Streaming </h3>"
   ]
  },
  {
   "cell_type": "code",
   "execution_count": 8,
   "id": "71388175-b11c-4fce-84a4-9673452d8216",
   "metadata": {},
   "outputs": [
    {
     "name": "stderr",
     "output_type": "stream",
     "text": [
      "C:\\Users\\MSI 1\\AppData\\Local\\Temp\\ipykernel_58328\\1310740336.py:7: LangChainDeprecationWarning: The class `HuggingFaceEmbeddings` was deprecated in LangChain 0.2.2 and will be removed in 1.0. An updated version of the class exists in the :class:`~langchain-huggingface package and should be used instead. To use it run `pip install -U :class:`~langchain-huggingface` and import as `from :class:`~langchain_huggingface import HuggingFaceEmbeddings``.\n",
      "  embedding=SentenceTransformerEmbeddings())\n",
      "C:\\Users\\MSI 1\\AppData\\Local\\Temp\\ipykernel_58328\\1310740336.py:7: LangChainDeprecationWarning: Default values for HuggingFaceEmbeddings.model_name were deprecated in LangChain 0.2.16 and will be removed in 0.4.0. Explicitly pass a model_name to the HuggingFaceEmbeddings constructor instead.\n",
      "  embedding=SentenceTransformerEmbeddings())\n"
     ]
    }
   ],
   "source": [
    "vectorStore=FAISS.from_texts(\n",
    "    texts=[\"Ritish has a 2.5 month old son !\",\n",
    "           \"Rohit is Ritish's Younger Brother\",\n",
    "           \"Eklavya is Ritish's Son\"\n",
    "           \"Rekha is the name of Ritish's Mother\",\n",
    "           \"Anirban is Ritish's Father\"],\n",
    "    embedding=SentenceTransformerEmbeddings())"
   ]
  },
  {
   "cell_type": "code",
   "execution_count": 9,
   "id": "eff95b70-e037-4529-9bca-e239ec54fbbb",
   "metadata": {},
   "outputs": [],
   "source": [
    "question={\"question\":\"Who is Anirban's Wife and who is Eklavya's Uncle?\"}"
   ]
  },
  {
   "cell_type": "code",
   "execution_count": 10,
   "id": "2fcc31c3-24e7-475c-9cf8-b80c31e2819c",
   "metadata": {},
   "outputs": [],
   "source": [
    "prompt=ChatPromptTemplate.from_messages(\n",
    "    messages=[\n",
    "            HumanMessagePromptTemplate.from_template\n",
    "                (\n",
    "                    template=\n",
    "                    \"\"\"\n",
    "                        Answer the question based only on the following context:\n",
    "                        {context}\n",
    "                \n",
    "                        Question: {question}\n",
    "                    \"\"\"\n",
    "                )\n",
    "            ],\n",
    "    \n",
    ")"
   ]
  },
  {
   "cell_type": "code",
   "execution_count": 11,
   "id": "93de627f-a7cc-4f05-94b4-86b4b81c84f8",
   "metadata": {},
   "outputs": [],
   "source": [
    "retrievalChain=RunnableParallel({\"context\":vectorStore.as_retriever(k=8),\"question\":RunnablePassthrough()})|RunnablePassthrough.assign(output=prompt|llm|StrOutputParser())"
   ]
  },
  {
   "cell_type": "code",
   "execution_count": 12,
   "id": "57f34f81-4a1b-481b-a826-7443824eba3a",
   "metadata": {},
   "outputs": [],
   "source": [
    "response=retrievalChain.invoke(input=question['question'])"
   ]
  },
  {
   "cell_type": "code",
   "execution_count": 13,
   "id": "c15af58f-3676-4ced-a6d0-e60c88b687d7",
   "metadata": {},
   "outputs": [
    {
     "data": {
      "text/plain": [
       "{'context': [Document(metadata={}, page_content=\"Anirban is Ritish's Father\"),\n",
       "  Document(metadata={}, page_content=\"Eklavya is Ritish's SonRekha is the name of Ritish's Mother\"),\n",
       "  Document(metadata={}, page_content=\"Rohit is Ritish's Younger Brother\"),\n",
       "  Document(metadata={}, page_content='Ritish has a 2.5 month old son !')],\n",
       " 'question': \"Who is Anirban's Wife and who is Eklavya's Uncle?\",\n",
       " 'output': \"Based on the provided text:\\n\\n* **Anirban's Wife:**  Rekha (since Anirban is Ritish's father and Rekha is Ritish's mother).\\n* **Eklavya's Uncle:** Rohit (since Eklavya is Ritish's son and Rohit is Ritish's brother).\\n\"}"
      ]
     },
     "execution_count": 13,
     "metadata": {},
     "output_type": "execute_result"
    }
   ],
   "source": [
    "response"
   ]
  },
  {
   "cell_type": "code",
   "execution_count": 14,
   "id": "579892ad-c3b3-4a15-aea8-ecaff818a51b",
   "metadata": {},
   "outputs": [
    {
     "name": "stdout",
     "output_type": "stream",
     "text": [
      "Based on the provided text:\n",
      "\n",
      "* **Anirban's Wife:**  Rekha (since Anirban is Ritish's father and Rekha is Ritish's mother).\n",
      "* **Eklavya's Uncle:** Rohit (since Eklavya is Ritish's son and Rohit is Ritish's brother).\n",
      "\n"
     ]
    }
   ],
   "source": [
    "print(response['output'])"
   ]
  },
  {
   "cell_type": "code",
   "execution_count": 15,
   "id": "ce625645-7967-4557-bbe7-e510fd5350bc",
   "metadata": {},
   "outputs": [
    {
     "name": "stdout",
     "output_type": "stream",
     "text": [
      "{'question': \"Who is Anirban's Wife and who is Eklavya's Uncle?\"}\n",
      "{'context': [Document(metadata={}, page_content=\"Anirban is Ritish's Father\"), Document(metadata={}, page_content=\"Eklavya is Ritish's SonRekha is the name of Ritish's Mother\"), Document(metadata={}, page_content=\"Rohit is Ritish's Younger Brother\"), Document(metadata={}, page_content='Ritish has a 2.5 month old son !')]}\n",
      "{'output': 'Based'}\n",
      "{'output': \" on the provided text:\\n\\n* **Anirban's Wife:** Re\"}\n",
      "{'output': \"kha (since Anirban is Ritish's father and Rekha is\"}\n",
      "{'output': \" Ritish's mother).\\n* **Eklavya's Uncle:** Rohit (since Eklavya is Ritish's son and Rohit is Riti\"}\n",
      "{'output': \"sh's brother).\\n\"}\n"
     ]
    }
   ],
   "source": [
    "for chunk in retrievalChain.stream(input=question['question']):\n",
    "    print(chunk)"
   ]
  }
 ],
 "metadata": {
  "kernelspec": {
   "display_name": "Python 3 (ipykernel)",
   "language": "python",
   "name": "python3"
  },
  "language_info": {
   "codemirror_mode": {
    "name": "ipython",
    "version": 3
   },
   "file_extension": ".py",
   "mimetype": "text/x-python",
   "name": "python",
   "nbconvert_exporter": "python",
   "pygments_lexer": "ipython3",
   "version": "3.11.9"
  }
 },
 "nbformat": 4,
 "nbformat_minor": 5
}
