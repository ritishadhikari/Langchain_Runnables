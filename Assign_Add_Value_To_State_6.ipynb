{
 "cells": [
  {
   "cell_type": "code",
   "execution_count": 1,
   "id": "860bf14a-ed28-4237-af86-78380da735b2",
   "metadata": {},
   "outputs": [],
   "source": [
    "from langchain.agents import AgentExecutor, create_tool_calling_agent\n",
    "from langchain_core.runnables import RunnablePassthrough,RunnableLambda, Runnable, RunnableParallel,RunnableConfig,RunnableGenerator\n",
    "from langchain_core.messages import AIMessage\n",
    "from dotenv import load_dotenv,find_dotenv\n",
    "from langchain_google_genai import ChatGoogleGenerativeAI\n",
    "from langchain_openai import ChatOpenAI\n",
    "from langchain.tools.render import render_text_description\n",
    "from langchain.tools import tool\n",
    "from langchain_core.prompts import ChatPromptTemplate,SystemMessagePromptTemplate, HumanMessagePromptTemplate\n",
    "from langchain_core.output_parsers import JsonOutputParser\n",
    "from operator import itemgetter\n",
    "from langchain.embeddings import SentenceTransformerEmbeddings\n",
    "import json\n",
    "from langchain_core.output_parsers import StrOutputParser\n",
    "from langchain_community.vectorstores import FAISS,Chroma\n",
    "from operator import itemgetter\n",
    "import time\n",
    "import grandalf\n",
    "from typing import Iterator,List,AsyncIterator"
   ]
  },
  {
   "cell_type": "code",
   "execution_count": 2,
   "id": "996d079c-6eb9-40db-80c7-2faf32138202",
   "metadata": {},
   "outputs": [
    {
     "data": {
      "text/plain": [
       "True"
      ]
     },
     "execution_count": 2,
     "metadata": {},
     "output_type": "execute_result"
    }
   ],
   "source": [
    "load_dotenv(find_dotenv(\"../.env\"))"
   ]
  },
  {
   "cell_type": "code",
   "execution_count": 17,
   "id": "e8095a86-0e72-4693-b42c-010629039b26",
   "metadata": {},
   "outputs": [],
   "source": [
    "llm=ChatGoogleGenerativeAI(model=\"gemini-1.5-flash\")"
   ]
  },
  {
   "cell_type": "code",
   "execution_count": 4,
   "id": "460d288e-bd55-4a16-8a5a-d4af1be158f6",
   "metadata": {},
   "outputs": [],
   "source": [
    "chain=RunnableParallel(\n",
    "    extra=RunnablePassthrough.assign(mult=lambda x:x['num']*2),  # Will return a Dictionary within a dictionary\n",
    "    modified=lambda x : x['num']*2  # Will return a Key-Value Pair                          \n",
    ")"
   ]
  },
  {
   "cell_type": "code",
   "execution_count": 5,
   "id": "91b6e8c9-0dab-492e-acdf-f678ff710297",
   "metadata": {},
   "outputs": [
    {
     "data": {
      "text/plain": [
       "{'extra': {'num': 3, 'mult': 6}, 'modified': 6}"
      ]
     },
     "execution_count": 5,
     "metadata": {},
     "output_type": "execute_result"
    }
   ],
   "source": [
    "chain.invoke(input={\"num\":3})"
   ]
  },
  {
   "cell_type": "markdown",
   "id": "a71b995e-87d1-4c9c-be95-8cf2daebe8e4",
   "metadata": {},
   "source": [
    "<h3> Application in Streaming </h3>"
   ]
  },
  {
   "cell_type": "code",
   "execution_count": 8,
   "id": "71388175-b11c-4fce-84a4-9673452d8216",
   "metadata": {},
   "outputs": [
    {
     "name": "stderr",
     "output_type": "stream",
     "text": [
      "C:\\Users\\MSI\\AppData\\Local\\Temp\\ipykernel_21660\\789142276.py:7: LangChainDeprecationWarning: Default values for HuggingFaceEmbeddings.model_name were deprecated in LangChain 0.2.16 and will be removed in 0.4.0. Explicitly pass a model_name to the HuggingFaceEmbeddings constructor instead.\n",
      "  embedding=SentenceTransformerEmbeddings())\n"
     ]
    }
   ],
   "source": [
    "vectorStore=FAISS.from_texts(\n",
    "    texts=[\"Ritish has a 10 month old son !\",\n",
    "           \"Rohit is Ritish's Younger Brother\",\n",
    "           \"Eklavya is Ritish's Son\"\n",
    "           \"Rekha is the name of Ritish's Mother\",\n",
    "           \"Anirban is Ritish's Father\"],\n",
    "    embedding=SentenceTransformerEmbeddings())"
   ]
  },
  {
   "cell_type": "code",
   "execution_count": 9,
   "id": "eff95b70-e037-4529-9bca-e239ec54fbbb",
   "metadata": {},
   "outputs": [],
   "source": [
    "question={\"question\":\"Who is Anirban's Wife and who is Eklavya's Uncle?\"}"
   ]
  },
  {
   "cell_type": "code",
   "execution_count": 11,
   "id": "2fcc31c3-24e7-475c-9cf8-b80c31e2819c",
   "metadata": {},
   "outputs": [],
   "source": [
    "prompt=ChatPromptTemplate.from_messages(\n",
    "    messages=[\n",
    "            HumanMessagePromptTemplate.from_template\n",
    "                (\n",
    "                    template=\n",
    "                    \"\"\"\n",
    "                        Answer the question based only on the following context:\n",
    "                        {context}\n",
    "                \n",
    "                        Question: {question}\n",
    "                    \"\"\"\n",
    "                )\n",
    "            ],\n",
    "    \n",
    ")"
   ]
  },
  {
   "cell_type": "code",
   "execution_count": 18,
   "id": "93de627f-a7cc-4f05-94b4-86b4b81c84f8",
   "metadata": {},
   "outputs": [],
   "source": [
    "retrievalChain=RunnableParallel({\"context\":vectorStore.as_retriever(k=8),\"question\":RunnablePassthrough()})|RunnablePassthrough.assign(output=prompt|llm|StrOutputParser())"
   ]
  },
  {
   "cell_type": "code",
   "execution_count": 19,
   "id": "57f34f81-4a1b-481b-a826-7443824eba3a",
   "metadata": {},
   "outputs": [],
   "source": [
    "response=retrievalChain.invoke(input=question['question'])"
   ]
  },
  {
   "cell_type": "code",
   "execution_count": 20,
   "id": "c15af58f-3676-4ced-a6d0-e60c88b687d7",
   "metadata": {},
   "outputs": [
    {
     "data": {
      "text/plain": [
       "{'context': [Document(id='4a5091e2-b97a-4b6a-aacb-7816b46a9903', metadata={}, page_content=\"Anirban is Ritish's Father\"),\n",
       "  Document(id='c1f1c7da-5a67-4fca-bb37-8f86f529c908', metadata={}, page_content=\"Eklavya is Ritish's SonRekha is the name of Ritish's Mother\"),\n",
       "  Document(id='829aef03-1808-4c4c-bb9f-9ec0465a9365', metadata={}, page_content=\"Rohit is Ritish's Younger Brother\"),\n",
       "  Document(id='8ccca5f6-5a9b-4a19-809e-02c000da781f', metadata={}, page_content='Ritish has a 10 month old son !')],\n",
       " 'question': \"Who is Anirban's Wife and who is Eklavya's Uncle?\",\n",
       " 'output': \"Based on the provided text:\\n\\n* **Anirban's Wife:**  The text states Anirban is Ritish's father, but it doesn't name Anirban's wife.\\n\\n* **Eklavya's Uncle:** The text states Eklavya is Ritish's son and Rohit is Ritish's younger brother.  Therefore, Rohit is Eklavya's uncle.\"}"
      ]
     },
     "execution_count": 20,
     "metadata": {},
     "output_type": "execute_result"
    }
   ],
   "source": [
    "response"
   ]
  },
  {
   "cell_type": "code",
   "execution_count": 15,
   "id": "579892ad-c3b3-4a15-aea8-ecaff818a51b",
   "metadata": {},
   "outputs": [
    {
     "name": "stdout",
     "output_type": "stream",
     "text": [
      "Based on the provided documents, Anirban's wife is not mentioned. Eklavya's uncle is Rohit.\n"
     ]
    }
   ],
   "source": [
    "print(response['output'])"
   ]
  },
  {
   "cell_type": "code",
   "execution_count": 21,
   "id": "ce625645-7967-4557-bbe7-e510fd5350bc",
   "metadata": {},
   "outputs": [
    {
     "name": "stdout",
     "output_type": "stream",
     "text": [
      "{'question': \"Who is Anirban's Wife and who is Eklavya's Uncle?\"}\n",
      "{'context': [Document(id='4a5091e2-b97a-4b6a-aacb-7816b46a9903', metadata={}, page_content=\"Anirban is Ritish's Father\"), Document(id='c1f1c7da-5a67-4fca-bb37-8f86f529c908', metadata={}, page_content=\"Eklavya is Ritish's SonRekha is the name of Ritish's Mother\"), Document(id='829aef03-1808-4c4c-bb9f-9ec0465a9365', metadata={}, page_content=\"Rohit is Ritish's Younger Brother\"), Document(id='8ccca5f6-5a9b-4a19-809e-02c000da781f', metadata={}, page_content='Ritish has a 10 month old son !')]}\n",
      "{'output': 'Based'}\n",
      "{'output': \" on the provided text:\\n\\n* **Anirban's Wife:**  \"}\n",
      "{'output': \"The text states Anirban is Ritish's father, but it doesn\"}\n",
      "{'output': \"'t name Anirban's wife.\\n\\n* **Eklavya's Uncle:** The text states Eklavya is Ritish's son\"}\n",
      "{'output': \" and Rohit is Ritish's younger brother.  Therefore, Rohit is Eklavya's uncle.\"}\n"
     ]
    }
   ],
   "source": [
    "for chunk in retrievalChain.stream(input=question['question']):\n",
    "    print(chunk)"
   ]
  }
 ],
 "metadata": {
  "kernelspec": {
   "display_name": "lcnenv",
   "language": "python",
   "name": "python3"
  },
  "language_info": {
   "codemirror_mode": {
    "name": "ipython",
    "version": 3
   },
   "file_extension": ".py",
   "mimetype": "text/x-python",
   "name": "python",
   "nbconvert_exporter": "python",
   "pygments_lexer": "ipython3",
   "version": "3.11.11"
  }
 },
 "nbformat": 4,
 "nbformat_minor": 5
}
