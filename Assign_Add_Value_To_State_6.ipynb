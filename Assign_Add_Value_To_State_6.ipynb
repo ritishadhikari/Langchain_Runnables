{
 "cells": [
  {
   "cell_type": "code",
   "execution_count": 2,
   "id": "860bf14a-ed28-4237-af86-78380da735b2",
   "metadata": {},
   "outputs": [],
   "source": [
    "from langchain.agents import AgentExecutor, create_tool_calling_agent\n",
    "from langchain_core.runnables import RunnablePassthrough,RunnableLambda, Runnable, RunnableParallel,RunnableConfig,RunnableGenerator\n",
    "from langchain_core.messages import AIMessage\n",
    "from dotenv import load_dotenv,find_dotenv\n",
    "from langchain_google_genai import ChatGoogleGenerativeAI\n",
    "from langchain_openai import ChatOpenAI\n",
    "from langchain.tools.render import render_text_description\n",
    "from langchain.tools import tool\n",
    "from langchain_core.prompts import ChatPromptTemplate,SystemMessagePromptTemplate, HumanMessagePromptTemplate\n",
    "from langchain_core.output_parsers import JsonOutputParser\n",
    "from operator import itemgetter\n",
    "from langchain.embeddings import SentenceTransformerEmbeddings\n",
    "import json\n",
    "from langchain_core.output_parsers import StrOutputParser\n",
    "from langchain_community.vectorstores import FAISS,Chroma\n",
    "from operator import itemgetter\n",
    "import time\n",
    "import grandalf\n",
    "from typing import Iterator,List,AsyncIterator"
   ]
  },
  {
   "cell_type": "code",
   "execution_count": 3,
   "id": "996d079c-6eb9-40db-80c7-2faf32138202",
   "metadata": {},
   "outputs": [
    {
     "data": {
      "text/plain": [
       "True"
      ]
     },
     "execution_count": 3,
     "metadata": {},
     "output_type": "execute_result"
    }
   ],
   "source": [
    "load_dotenv(find_dotenv(\"D:\\LLM Courses\\Master Langchain Udemy\\.env\"))"
   ]
  },
  {
   "cell_type": "code",
   "execution_count": 121,
   "id": "e8095a86-0e72-4693-b42c-010629039b26",
   "metadata": {},
   "outputs": [],
   "source": [
    "llm=ChatGoogleGenerativeAI(model=\"gemini-1.5-flash\")"
   ]
  },
  {
   "cell_type": "code",
   "execution_count": 6,
   "id": "460d288e-bd55-4a16-8a5a-d4af1be158f6",
   "metadata": {},
   "outputs": [],
   "source": [
    "chain=RunnableParallel(\n",
    "    extra=RunnablePassthrough.assign(mult=lambda x:x['num']*2),  # Will return a Dictionary within a dictionary\n",
    "    modified=lambda x : x['num']*2  # Will return a Key-Value Pair                          \n",
    ")"
   ]
  },
  {
   "cell_type": "code",
   "execution_count": 7,
   "id": "91b6e8c9-0dab-492e-acdf-f678ff710297",
   "metadata": {},
   "outputs": [
    {
     "data": {
      "text/plain": [
       "{'extra': {'num': 3, 'mult': 6}, 'modified': 6}"
      ]
     },
     "execution_count": 7,
     "metadata": {},
     "output_type": "execute_result"
    }
   ],
   "source": [
    "chain.invoke(input={\"num\":3})"
   ]
  },
  {
   "cell_type": "markdown",
   "id": "a71b995e-87d1-4c9c-be95-8cf2daebe8e4",
   "metadata": {},
   "source": [
    "<h3> Application in Streaming </h3>"
   ]
  },
  {
   "cell_type": "code",
   "execution_count": 113,
   "id": "71388175-b11c-4fce-84a4-9673452d8216",
   "metadata": {},
   "outputs": [],
   "source": [
    "vectorStore=FAISS.from_texts(\n",
    "    texts=[\"Ritish has a 2.5 month old son !\",\n",
    "           \"Rohit is Ritish's Younger Brother\",\n",
    "           \"Eklavya is Ritish's Son\"\n",
    "           \"Rekha is the name of Ritish's Mother\",\n",
    "           \"Anirban is Ritish's Father\"],\n",
    "    embedding=SentenceTransformerEmbeddings())"
   ]
  },
  {
   "cell_type": "code",
   "execution_count": 114,
   "id": "eff95b70-e037-4529-9bca-e239ec54fbbb",
   "metadata": {},
   "outputs": [],
   "source": [
    "question={\"question\":\"Who is Anirban's Wife and who is Eklavya's Uncle?\"}"
   ]
  },
  {
   "cell_type": "code",
   "execution_count": 115,
   "id": "2fcc31c3-24e7-475c-9cf8-b80c31e2819c",
   "metadata": {},
   "outputs": [],
   "source": [
    "prompt=ChatPromptTemplate.from_messages(\n",
    "    messages=[\n",
    "            HumanMessagePromptTemplate.from_template\n",
    "                (\n",
    "                    template=\n",
    "                    \"\"\"\n",
    "                        Answer the question based only on the following context:\n",
    "                        {context}\n",
    "                \n",
    "                        Question: {question}\n",
    "                    \"\"\"\n",
    "                )\n",
    "            ],\n",
    "    \n",
    ")"
   ]
  },
  {
   "cell_type": "code",
   "execution_count": 116,
   "id": "93de627f-a7cc-4f05-94b4-86b4b81c84f8",
   "metadata": {},
   "outputs": [],
   "source": [
    "retrievalChain=RunnableParallel({\"context\":vectorStore.as_retriever(k=8),\"question\":RunnablePassthrough()})|RunnablePassthrough.assign(output=prompt|llm|StrOutputParser())"
   ]
  },
  {
   "cell_type": "code",
   "execution_count": 117,
   "id": "57f34f81-4a1b-481b-a826-7443824eba3a",
   "metadata": {},
   "outputs": [],
   "source": [
    "response=retrievalChain.invoke(input=question['question'])"
   ]
  },
  {
   "cell_type": "code",
   "execution_count": 118,
   "id": "c15af58f-3676-4ced-a6d0-e60c88b687d7",
   "metadata": {},
   "outputs": [
    {
     "data": {
      "text/plain": [
       "{'context': [Document(page_content=\"Anirban is Ritish's Father\"),\n",
       "  Document(page_content=\"Eklavya is Ritish's SonRekha is the name of Ritish's Mother\"),\n",
       "  Document(page_content=\"Rohit is Ritish's Younger Brother\"),\n",
       "  Document(page_content='Ritish has a 2.5 month old son !')],\n",
       " 'question': \"Who is Anirban's Wife and who is Eklavya's Uncle?\",\n",
       " 'output': 'Based on the provided text, we know:\\n\\n* **Anirban is Ritish\\'s Father** \\n* **Eklavya is Ritish\\'s Son**\\n* **Rohit is Ritish\\'s Younger Brother**\\n\\nWe can deduce the following:\\n\\n* **Anirban\\'s Wife (and therefore Ritish\\'s Mother) is Rekha.**  This is stated in the text: \"Rekha is the name of Ritish\\'s Mother\".\\n* **Eklavya\\'s Uncle is Rohit.**  Since Rohit is Ritish\\'s younger brother, he is the uncle of Ritish\\'s son, Eklavya. \\n\\n**Therefore:**\\n\\n* Anirban\\'s Wife is **Rekha**.\\n* Eklavya\\'s Uncle is **Rohit**. \\n'}"
      ]
     },
     "execution_count": 118,
     "metadata": {},
     "output_type": "execute_result"
    }
   ],
   "source": [
    "response"
   ]
  },
  {
   "cell_type": "code",
   "execution_count": 119,
   "id": "579892ad-c3b3-4a15-aea8-ecaff818a51b",
   "metadata": {},
   "outputs": [
    {
     "name": "stdout",
     "output_type": "stream",
     "text": [
      "Based on the provided text, we know:\n",
      "\n",
      "* **Anirban is Ritish's Father** \n",
      "* **Eklavya is Ritish's Son**\n",
      "* **Rohit is Ritish's Younger Brother**\n",
      "\n",
      "We can deduce the following:\n",
      "\n",
      "* **Anirban's Wife (and therefore Ritish's Mother) is Rekha.**  This is stated in the text: \"Rekha is the name of Ritish's Mother\".\n",
      "* **Eklavya's Uncle is Rohit.**  Since Rohit is Ritish's younger brother, he is the uncle of Ritish's son, Eklavya. \n",
      "\n",
      "**Therefore:**\n",
      "\n",
      "* Anirban's Wife is **Rekha**.\n",
      "* Eklavya's Uncle is **Rohit**. \n",
      "\n"
     ]
    }
   ],
   "source": [
    "print(response['output'])"
   ]
  },
  {
   "cell_type": "code",
   "execution_count": 120,
   "id": "ce625645-7967-4557-bbe7-e510fd5350bc",
   "metadata": {},
   "outputs": [
    {
     "name": "stdout",
     "output_type": "stream",
     "text": [
      "{'question': \"Who is Anirban's Wife and who is Eklavya's Uncle?\"}\n",
      "{'context': [Document(page_content=\"Anirban is Ritish's Father\"), Document(page_content=\"Eklavya is Ritish's SonRekha is the name of Ritish's Mother\"), Document(page_content=\"Rohit is Ritish's Younger Brother\"), Document(page_content='Ritish has a 2.5 month old son !')]}\n"
     ]
    },
    {
     "name": "stderr",
     "output_type": "stream",
     "text": [
      "Retrying langchain_google_genai.chat_models._chat_with_retry.<locals>._chat_with_retry in 2.0 seconds as it raised ResourceExhausted: 429 Resource has been exhausted (e.g. check quota)..\n",
      "Retrying langchain_google_genai.chat_models._chat_with_retry.<locals>._chat_with_retry in 4.0 seconds as it raised ResourceExhausted: 429 Resource has been exhausted (e.g. check quota)..\n"
     ]
    },
    {
     "name": "stdout",
     "output_type": "stream",
     "text": [
      "{'output': 'Based'}\n",
      "{'output': ' on the provided text, we know:\\n\\n* **Anirban is Riti'}\n",
      "{'output': \"sh's father.** \\n* **Eklavya is Ritish'\"}\n",
      "{'output': \"s son.**\\n* **Rekha is Ritish's mother.**\\n* **Rohit is Ritish's younger brother.**\\n\\n**Therefore:**\\n\\n\"}\n",
      "{'output': \"* **Anirban's Wife (Ritish's mother) is Rekha.**\\n* **Eklavya's Uncle (Riti\"}\n",
      "{'output': \"sh's brother) is Rohit.** \\n\"}\n"
     ]
    }
   ],
   "source": [
    "for chunk in retrievalChain.stream(input=question['question']):\n",
    "    print(chunk)"
   ]
  },
  {
   "cell_type": "code",
   "execution_count": null,
   "id": "7ea46cbd-f43e-4a7d-9ec6-874c2c6ae7e8",
   "metadata": {},
   "outputs": [],
   "source": [
    "S"
   ]
  }
 ],
 "metadata": {
  "kernelspec": {
   "display_name": "Python 3 (ipykernel)",
   "language": "python",
   "name": "python3"
  },
  "language_info": {
   "codemirror_mode": {
    "name": "ipython",
    "version": 3
   },
   "file_extension": ".py",
   "mimetype": "text/x-python",
   "name": "python",
   "nbconvert_exporter": "python",
   "pygments_lexer": "ipython3",
   "version": "3.11.9"
  }
 },
 "nbformat": 4,
 "nbformat_minor": 5
}
